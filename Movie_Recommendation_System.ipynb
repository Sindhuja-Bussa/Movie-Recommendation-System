{
  "nbformat": 4,
  "nbformat_minor": 0,
  "metadata": {
    "colab": {
      "provenance": [],
      "collapsed_sections": [
        "4DY33MZRBDob"
      ],
      "authorship_tag": "ABX9TyM93YYokufpfkZVGF86DkU5",
      "include_colab_link": true
    },
    "kernelspec": {
      "name": "python3",
      "display_name": "Python 3"
    },
    "language_info": {
      "name": "python"
    }
  },
  "cells": [
    {
      "cell_type": "markdown",
      "metadata": {
        "id": "view-in-github",
        "colab_type": "text"
      },
      "source": [
        "<a href=\"https://colab.research.google.com/github/Sindhuja-Bussa/Movie-Recommendation-System/blob/main/Movie_Recommendation_System.ipynb\" target=\"_parent\"><img src=\"https://colab.research.google.com/assets/colab-badge.svg\" alt=\"Open In Colab\"/></a>"
      ]
    },
    {
      "cell_type": "markdown",
      "source": [
        "# **Movie Recommendation System**\n",
        "**Recommender system** is a tool that predicts what a user might like based on their previous choices. These systems are commonly used in various fields, such as movies, music, news, books, research articles, search queries, social tags, and products. They generate a list of recommendations using two main methods:\n",
        "\n",
        "**Collaborative Filtering:** This method builds a model based on the user's past behavior (like items they have purchased or searched for) and the behavior of other similar users. The model then predicts items or ratings for items that the user might be interested in.\n",
        "\n",
        "**Content-Based Filtering:** This method uses the characteristics of an item to recommend other items with similar properties. It relies entirely on the description of the item and the user’s past preferences to suggest new items. Essentially, it recommends items based on what the user has liked before.\n",
        "\n",
        "Let’s create a basic recommendation system that suggests movies similar to a movie the user likes. This system will help find movies that share similarities with the user’s favorite movie using Python and Pandas."
      ],
      "metadata": {
        "id": "_ItrfLbWvZwx"
      }
    },
    {
      "cell_type": "markdown",
      "source": [
        "## **Objective**\n"
      ],
      "metadata": {
        "id": "jSeDT_qZyYBg"
      }
    },
    {
      "cell_type": "markdown",
      "source": [
        "The objective of this Movie Recommendation System is to give users highly accurate and personalized movie suggestions based on their preferences and inputs. This system aims to provide precise recommendations, even if the movie titles entered by users are slightly incorrect. By customizing suggestions to each user's tastes and ensuring an easy and enjoyable experience, this system seeks to increase user engagement and satisfaction, making it fun and effortless for everyone to discover new movies.\n",
        "\n",
        "**Data Source**: The dataset for this project comes from the YBI Foundation Kaggle repository. It includes information about movies, user ratings, and other relevant features needed to build the recommendation system."
      ],
      "metadata": {
        "id": "zpNSspMlzswi"
      }
    },
    {
      "cell_type": "markdown",
      "source": [
        "## **Import Libraries**\n"
      ],
      "metadata": {
        "id": "2nKUwAhazcq0"
      }
    },
    {
      "cell_type": "code",
      "source": [
        "import pandas as pd\n",
        "import numpy as np"
      ],
      "metadata": {
        "id": "BQGk8KoVzhWx"
      },
      "execution_count": 1,
      "outputs": []
    },
    {
      "cell_type": "markdown",
      "source": [
        "## **Import Dataset**\n"
      ],
      "metadata": {
        "id": "lq-i-U9b0ubo"
      }
    },
    {
      "cell_type": "code",
      "source": [
        "df = pd.read_csv(r'https://raw.githubusercontent.com/YBI-Foundation/Dataset/main/Movies%20Recommendation.csv')"
      ],
      "metadata": {
        "id": "1jULFE-X00c-"
      },
      "execution_count": 2,
      "outputs": []
    },
    {
      "cell_type": "code",
      "source": [
        "df.head()"
      ],
      "metadata": {
        "colab": {
          "base_uri": "https://localhost:8080/",
          "height": 672
        },
        "id": "57CI4U4b06AC",
        "outputId": "53bab888-de2d-48d4-f1b1-801ddb83e1d0"
      },
      "execution_count": 3,
      "outputs": [
        {
          "output_type": "execute_result",
          "data": {
            "text/plain": [
              "   Movie_ID      Movie_Title                       Movie_Genre Movie_Language  \\\n",
              "0         1       Four Rooms                      Crime Comedy             en   \n",
              "1         2        Star Wars  Adventure Action Science Fiction             en   \n",
              "2         3     Finding Nemo                  Animation Family             en   \n",
              "3         4     Forrest Gump              Comedy Drama Romance             en   \n",
              "4         5  American Beauty                             Drama             en   \n",
              "\n",
              "   Movie_Budget  Movie_Popularity Movie_Release_Date  Movie_Revenue  \\\n",
              "0       4000000         22.876230         09-12-1995        4300000   \n",
              "1      11000000        126.393695         25-05-1977      775398007   \n",
              "2      94000000         85.688789         30-05-2003      940335536   \n",
              "3      55000000        138.133331         06-07-1994      677945399   \n",
              "4      15000000         80.878605         15-09-1999      356296601   \n",
              "\n",
              "   Movie_Runtime  Movie_Vote  ...  \\\n",
              "0           98.0         6.5  ...   \n",
              "1          121.0         8.1  ...   \n",
              "2          100.0         7.6  ...   \n",
              "3          142.0         8.2  ...   \n",
              "4          122.0         7.9  ...   \n",
              "\n",
              "                                      Movie_Homepage  \\\n",
              "0                                                NaN   \n",
              "1  http://www.starwars.com/films/star-wars-episod...   \n",
              "2              http://movies.disney.com/finding-nemo   \n",
              "3                                                NaN   \n",
              "4                      http://www.dreamworks.com/ab/   \n",
              "\n",
              "                                      Movie_Keywords  \\\n",
              "0          hotel new year's eve witch bet hotel room   \n",
              "1        android galaxy hermit death star lightsaber   \n",
              "2  father son relationship harbor underwater fish...   \n",
              "3  vietnam veteran hippie mentally disabled runni...   \n",
              "4  male nudity female nudity adultery midlife cri...   \n",
              "\n",
              "                                      Movie_Overview  \\\n",
              "0  It's Ted the Bellhop's first night on the job....   \n",
              "1  Princess Leia is captured and held hostage by ...   \n",
              "2  Nemo, an adventurous young clownfish, is unexp...   \n",
              "3  A man with a low IQ has accomplished great thi...   \n",
              "4  Lester Burnham, a depressed suburban father in...   \n",
              "\n",
              "                              Movie_Production_House  \\\n",
              "0  [{\"name\": \"Miramax Films\", \"id\": 14}, {\"name\":...   \n",
              "1  [{\"name\": \"Lucasfilm\", \"id\": 1}, {\"name\": \"Twe...   \n",
              "2     [{\"name\": \"Pixar Animation Studios\", \"id\": 3}]   \n",
              "3          [{\"name\": \"Paramount Pictures\", \"id\": 4}]   \n",
              "4  [{\"name\": \"DreamWorks SKG\", \"id\": 27}, {\"name\"...   \n",
              "\n",
              "                            Movie_Production_Country  \\\n",
              "0  [{\"iso_3166_1\": \"US\", \"name\": \"United States o...   \n",
              "1  [{\"iso_3166_1\": \"US\", \"name\": \"United States o...   \n",
              "2  [{\"iso_3166_1\": \"US\", \"name\": \"United States o...   \n",
              "3  [{\"iso_3166_1\": \"US\", \"name\": \"United States o...   \n",
              "4  [{\"iso_3166_1\": \"US\", \"name\": \"United States o...   \n",
              "\n",
              "                      Movie_Spoken_Language  \\\n",
              "0  [{\"iso_639_1\": \"en\", \"name\": \"English\"}]   \n",
              "1  [{\"iso_639_1\": \"en\", \"name\": \"English\"}]   \n",
              "2  [{\"iso_639_1\": \"en\", \"name\": \"English\"}]   \n",
              "3  [{\"iso_639_1\": \"en\", \"name\": \"English\"}]   \n",
              "4  [{\"iso_639_1\": \"en\", \"name\": \"English\"}]   \n",
              "\n",
              "                                       Movie_Tagline  \\\n",
              "0  Twelve outrageous guests. Four scandalous requ...   \n",
              "1       A long time ago in a galaxy far, far away...   \n",
              "2  There are 3.7 trillion fish in the ocean, they...   \n",
              "3  The world will never be the same, once you've ...   \n",
              "4                                       Look closer.   \n",
              "\n",
              "                                          Movie_Cast  \\\n",
              "0  Tim Roth Antonio Banderas Jennifer Beals Madon...   \n",
              "1  Mark Hamill Harrison Ford Carrie Fisher Peter ...   \n",
              "2  Albert Brooks Ellen DeGeneres Alexander Gould ...   \n",
              "3  Tom Hanks Robin Wright Gary Sinise Mykelti Wil...   \n",
              "4  Kevin Spacey Annette Bening Thora Birch Wes Be...   \n",
              "\n",
              "                                          Movie_Crew   Movie_Director  \n",
              "0  [{'name': 'Allison Anders', 'gender': 1, 'depa...   Allison Anders  \n",
              "1  [{'name': 'George Lucas', 'gender': 2, 'depart...     George Lucas  \n",
              "2  [{'name': 'Andrew Stanton', 'gender': 2, 'depa...   Andrew Stanton  \n",
              "3  [{'name': 'Alan Silvestri', 'gender': 2, 'depa...  Robert Zemeckis  \n",
              "4  [{'name': 'Thomas Newman', 'gender': 2, 'depar...       Sam Mendes  \n",
              "\n",
              "[5 rows x 21 columns]"
            ],
            "text/html": [
              "\n",
              "  <div id=\"df-dbcabc33-4ada-459c-b884-631b0dd05c99\" class=\"colab-df-container\">\n",
              "    <div>\n",
              "<style scoped>\n",
              "    .dataframe tbody tr th:only-of-type {\n",
              "        vertical-align: middle;\n",
              "    }\n",
              "\n",
              "    .dataframe tbody tr th {\n",
              "        vertical-align: top;\n",
              "    }\n",
              "\n",
              "    .dataframe thead th {\n",
              "        text-align: right;\n",
              "    }\n",
              "</style>\n",
              "<table border=\"1\" class=\"dataframe\">\n",
              "  <thead>\n",
              "    <tr style=\"text-align: right;\">\n",
              "      <th></th>\n",
              "      <th>Movie_ID</th>\n",
              "      <th>Movie_Title</th>\n",
              "      <th>Movie_Genre</th>\n",
              "      <th>Movie_Language</th>\n",
              "      <th>Movie_Budget</th>\n",
              "      <th>Movie_Popularity</th>\n",
              "      <th>Movie_Release_Date</th>\n",
              "      <th>Movie_Revenue</th>\n",
              "      <th>Movie_Runtime</th>\n",
              "      <th>Movie_Vote</th>\n",
              "      <th>...</th>\n",
              "      <th>Movie_Homepage</th>\n",
              "      <th>Movie_Keywords</th>\n",
              "      <th>Movie_Overview</th>\n",
              "      <th>Movie_Production_House</th>\n",
              "      <th>Movie_Production_Country</th>\n",
              "      <th>Movie_Spoken_Language</th>\n",
              "      <th>Movie_Tagline</th>\n",
              "      <th>Movie_Cast</th>\n",
              "      <th>Movie_Crew</th>\n",
              "      <th>Movie_Director</th>\n",
              "    </tr>\n",
              "  </thead>\n",
              "  <tbody>\n",
              "    <tr>\n",
              "      <th>0</th>\n",
              "      <td>1</td>\n",
              "      <td>Four Rooms</td>\n",
              "      <td>Crime Comedy</td>\n",
              "      <td>en</td>\n",
              "      <td>4000000</td>\n",
              "      <td>22.876230</td>\n",
              "      <td>09-12-1995</td>\n",
              "      <td>4300000</td>\n",
              "      <td>98.0</td>\n",
              "      <td>6.5</td>\n",
              "      <td>...</td>\n",
              "      <td>NaN</td>\n",
              "      <td>hotel new year's eve witch bet hotel room</td>\n",
              "      <td>It's Ted the Bellhop's first night on the job....</td>\n",
              "      <td>[{\"name\": \"Miramax Films\", \"id\": 14}, {\"name\":...</td>\n",
              "      <td>[{\"iso_3166_1\": \"US\", \"name\": \"United States o...</td>\n",
              "      <td>[{\"iso_639_1\": \"en\", \"name\": \"English\"}]</td>\n",
              "      <td>Twelve outrageous guests. Four scandalous requ...</td>\n",
              "      <td>Tim Roth Antonio Banderas Jennifer Beals Madon...</td>\n",
              "      <td>[{'name': 'Allison Anders', 'gender': 1, 'depa...</td>\n",
              "      <td>Allison Anders</td>\n",
              "    </tr>\n",
              "    <tr>\n",
              "      <th>1</th>\n",
              "      <td>2</td>\n",
              "      <td>Star Wars</td>\n",
              "      <td>Adventure Action Science Fiction</td>\n",
              "      <td>en</td>\n",
              "      <td>11000000</td>\n",
              "      <td>126.393695</td>\n",
              "      <td>25-05-1977</td>\n",
              "      <td>775398007</td>\n",
              "      <td>121.0</td>\n",
              "      <td>8.1</td>\n",
              "      <td>...</td>\n",
              "      <td>http://www.starwars.com/films/star-wars-episod...</td>\n",
              "      <td>android galaxy hermit death star lightsaber</td>\n",
              "      <td>Princess Leia is captured and held hostage by ...</td>\n",
              "      <td>[{\"name\": \"Lucasfilm\", \"id\": 1}, {\"name\": \"Twe...</td>\n",
              "      <td>[{\"iso_3166_1\": \"US\", \"name\": \"United States o...</td>\n",
              "      <td>[{\"iso_639_1\": \"en\", \"name\": \"English\"}]</td>\n",
              "      <td>A long time ago in a galaxy far, far away...</td>\n",
              "      <td>Mark Hamill Harrison Ford Carrie Fisher Peter ...</td>\n",
              "      <td>[{'name': 'George Lucas', 'gender': 2, 'depart...</td>\n",
              "      <td>George Lucas</td>\n",
              "    </tr>\n",
              "    <tr>\n",
              "      <th>2</th>\n",
              "      <td>3</td>\n",
              "      <td>Finding Nemo</td>\n",
              "      <td>Animation Family</td>\n",
              "      <td>en</td>\n",
              "      <td>94000000</td>\n",
              "      <td>85.688789</td>\n",
              "      <td>30-05-2003</td>\n",
              "      <td>940335536</td>\n",
              "      <td>100.0</td>\n",
              "      <td>7.6</td>\n",
              "      <td>...</td>\n",
              "      <td>http://movies.disney.com/finding-nemo</td>\n",
              "      <td>father son relationship harbor underwater fish...</td>\n",
              "      <td>Nemo, an adventurous young clownfish, is unexp...</td>\n",
              "      <td>[{\"name\": \"Pixar Animation Studios\", \"id\": 3}]</td>\n",
              "      <td>[{\"iso_3166_1\": \"US\", \"name\": \"United States o...</td>\n",
              "      <td>[{\"iso_639_1\": \"en\", \"name\": \"English\"}]</td>\n",
              "      <td>There are 3.7 trillion fish in the ocean, they...</td>\n",
              "      <td>Albert Brooks Ellen DeGeneres Alexander Gould ...</td>\n",
              "      <td>[{'name': 'Andrew Stanton', 'gender': 2, 'depa...</td>\n",
              "      <td>Andrew Stanton</td>\n",
              "    </tr>\n",
              "    <tr>\n",
              "      <th>3</th>\n",
              "      <td>4</td>\n",
              "      <td>Forrest Gump</td>\n",
              "      <td>Comedy Drama Romance</td>\n",
              "      <td>en</td>\n",
              "      <td>55000000</td>\n",
              "      <td>138.133331</td>\n",
              "      <td>06-07-1994</td>\n",
              "      <td>677945399</td>\n",
              "      <td>142.0</td>\n",
              "      <td>8.2</td>\n",
              "      <td>...</td>\n",
              "      <td>NaN</td>\n",
              "      <td>vietnam veteran hippie mentally disabled runni...</td>\n",
              "      <td>A man with a low IQ has accomplished great thi...</td>\n",
              "      <td>[{\"name\": \"Paramount Pictures\", \"id\": 4}]</td>\n",
              "      <td>[{\"iso_3166_1\": \"US\", \"name\": \"United States o...</td>\n",
              "      <td>[{\"iso_639_1\": \"en\", \"name\": \"English\"}]</td>\n",
              "      <td>The world will never be the same, once you've ...</td>\n",
              "      <td>Tom Hanks Robin Wright Gary Sinise Mykelti Wil...</td>\n",
              "      <td>[{'name': 'Alan Silvestri', 'gender': 2, 'depa...</td>\n",
              "      <td>Robert Zemeckis</td>\n",
              "    </tr>\n",
              "    <tr>\n",
              "      <th>4</th>\n",
              "      <td>5</td>\n",
              "      <td>American Beauty</td>\n",
              "      <td>Drama</td>\n",
              "      <td>en</td>\n",
              "      <td>15000000</td>\n",
              "      <td>80.878605</td>\n",
              "      <td>15-09-1999</td>\n",
              "      <td>356296601</td>\n",
              "      <td>122.0</td>\n",
              "      <td>7.9</td>\n",
              "      <td>...</td>\n",
              "      <td>http://www.dreamworks.com/ab/</td>\n",
              "      <td>male nudity female nudity adultery midlife cri...</td>\n",
              "      <td>Lester Burnham, a depressed suburban father in...</td>\n",
              "      <td>[{\"name\": \"DreamWorks SKG\", \"id\": 27}, {\"name\"...</td>\n",
              "      <td>[{\"iso_3166_1\": \"US\", \"name\": \"United States o...</td>\n",
              "      <td>[{\"iso_639_1\": \"en\", \"name\": \"English\"}]</td>\n",
              "      <td>Look closer.</td>\n",
              "      <td>Kevin Spacey Annette Bening Thora Birch Wes Be...</td>\n",
              "      <td>[{'name': 'Thomas Newman', 'gender': 2, 'depar...</td>\n",
              "      <td>Sam Mendes</td>\n",
              "    </tr>\n",
              "  </tbody>\n",
              "</table>\n",
              "<p>5 rows × 21 columns</p>\n",
              "</div>\n",
              "    <div class=\"colab-df-buttons\">\n",
              "\n",
              "  <div class=\"colab-df-container\">\n",
              "    <button class=\"colab-df-convert\" onclick=\"convertToInteractive('df-dbcabc33-4ada-459c-b884-631b0dd05c99')\"\n",
              "            title=\"Convert this dataframe to an interactive table.\"\n",
              "            style=\"display:none;\">\n",
              "\n",
              "  <svg xmlns=\"http://www.w3.org/2000/svg\" height=\"24px\" viewBox=\"0 -960 960 960\">\n",
              "    <path d=\"M120-120v-720h720v720H120Zm60-500h600v-160H180v160Zm220 220h160v-160H400v160Zm0 220h160v-160H400v160ZM180-400h160v-160H180v160Zm440 0h160v-160H620v160ZM180-180h160v-160H180v160Zm440 0h160v-160H620v160Z\"/>\n",
              "  </svg>\n",
              "    </button>\n",
              "\n",
              "  <style>\n",
              "    .colab-df-container {\n",
              "      display:flex;\n",
              "      gap: 12px;\n",
              "    }\n",
              "\n",
              "    .colab-df-convert {\n",
              "      background-color: #E8F0FE;\n",
              "      border: none;\n",
              "      border-radius: 50%;\n",
              "      cursor: pointer;\n",
              "      display: none;\n",
              "      fill: #1967D2;\n",
              "      height: 32px;\n",
              "      padding: 0 0 0 0;\n",
              "      width: 32px;\n",
              "    }\n",
              "\n",
              "    .colab-df-convert:hover {\n",
              "      background-color: #E2EBFA;\n",
              "      box-shadow: 0px 1px 2px rgba(60, 64, 67, 0.3), 0px 1px 3px 1px rgba(60, 64, 67, 0.15);\n",
              "      fill: #174EA6;\n",
              "    }\n",
              "\n",
              "    .colab-df-buttons div {\n",
              "      margin-bottom: 4px;\n",
              "    }\n",
              "\n",
              "    [theme=dark] .colab-df-convert {\n",
              "      background-color: #3B4455;\n",
              "      fill: #D2E3FC;\n",
              "    }\n",
              "\n",
              "    [theme=dark] .colab-df-convert:hover {\n",
              "      background-color: #434B5C;\n",
              "      box-shadow: 0px 1px 3px 1px rgba(0, 0, 0, 0.15);\n",
              "      filter: drop-shadow(0px 1px 2px rgba(0, 0, 0, 0.3));\n",
              "      fill: #FFFFFF;\n",
              "    }\n",
              "  </style>\n",
              "\n",
              "    <script>\n",
              "      const buttonEl =\n",
              "        document.querySelector('#df-dbcabc33-4ada-459c-b884-631b0dd05c99 button.colab-df-convert');\n",
              "      buttonEl.style.display =\n",
              "        google.colab.kernel.accessAllowed ? 'block' : 'none';\n",
              "\n",
              "      async function convertToInteractive(key) {\n",
              "        const element = document.querySelector('#df-dbcabc33-4ada-459c-b884-631b0dd05c99');\n",
              "        const dataTable =\n",
              "          await google.colab.kernel.invokeFunction('convertToInteractive',\n",
              "                                                    [key], {});\n",
              "        if (!dataTable) return;\n",
              "\n",
              "        const docLinkHtml = 'Like what you see? Visit the ' +\n",
              "          '<a target=\"_blank\" href=https://colab.research.google.com/notebooks/data_table.ipynb>data table notebook</a>'\n",
              "          + ' to learn more about interactive tables.';\n",
              "        element.innerHTML = '';\n",
              "        dataTable['output_type'] = 'display_data';\n",
              "        await google.colab.output.renderOutput(dataTable, element);\n",
              "        const docLink = document.createElement('div');\n",
              "        docLink.innerHTML = docLinkHtml;\n",
              "        element.appendChild(docLink);\n",
              "      }\n",
              "    </script>\n",
              "  </div>\n",
              "\n",
              "\n",
              "<div id=\"df-d1d78f4a-9e7c-4c8b-9fb6-4f46406c641d\">\n",
              "  <button class=\"colab-df-quickchart\" onclick=\"quickchart('df-d1d78f4a-9e7c-4c8b-9fb6-4f46406c641d')\"\n",
              "            title=\"Suggest charts\"\n",
              "            style=\"display:none;\">\n",
              "\n",
              "<svg xmlns=\"http://www.w3.org/2000/svg\" height=\"24px\"viewBox=\"0 0 24 24\"\n",
              "     width=\"24px\">\n",
              "    <g>\n",
              "        <path d=\"M19 3H5c-1.1 0-2 .9-2 2v14c0 1.1.9 2 2 2h14c1.1 0 2-.9 2-2V5c0-1.1-.9-2-2-2zM9 17H7v-7h2v7zm4 0h-2V7h2v10zm4 0h-2v-4h2v4z\"/>\n",
              "    </g>\n",
              "</svg>\n",
              "  </button>\n",
              "\n",
              "<style>\n",
              "  .colab-df-quickchart {\n",
              "      --bg-color: #E8F0FE;\n",
              "      --fill-color: #1967D2;\n",
              "      --hover-bg-color: #E2EBFA;\n",
              "      --hover-fill-color: #174EA6;\n",
              "      --disabled-fill-color: #AAA;\n",
              "      --disabled-bg-color: #DDD;\n",
              "  }\n",
              "\n",
              "  [theme=dark] .colab-df-quickchart {\n",
              "      --bg-color: #3B4455;\n",
              "      --fill-color: #D2E3FC;\n",
              "      --hover-bg-color: #434B5C;\n",
              "      --hover-fill-color: #FFFFFF;\n",
              "      --disabled-bg-color: #3B4455;\n",
              "      --disabled-fill-color: #666;\n",
              "  }\n",
              "\n",
              "  .colab-df-quickchart {\n",
              "    background-color: var(--bg-color);\n",
              "    border: none;\n",
              "    border-radius: 50%;\n",
              "    cursor: pointer;\n",
              "    display: none;\n",
              "    fill: var(--fill-color);\n",
              "    height: 32px;\n",
              "    padding: 0;\n",
              "    width: 32px;\n",
              "  }\n",
              "\n",
              "  .colab-df-quickchart:hover {\n",
              "    background-color: var(--hover-bg-color);\n",
              "    box-shadow: 0 1px 2px rgba(60, 64, 67, 0.3), 0 1px 3px 1px rgba(60, 64, 67, 0.15);\n",
              "    fill: var(--button-hover-fill-color);\n",
              "  }\n",
              "\n",
              "  .colab-df-quickchart-complete:disabled,\n",
              "  .colab-df-quickchart-complete:disabled:hover {\n",
              "    background-color: var(--disabled-bg-color);\n",
              "    fill: var(--disabled-fill-color);\n",
              "    box-shadow: none;\n",
              "  }\n",
              "\n",
              "  .colab-df-spinner {\n",
              "    border: 2px solid var(--fill-color);\n",
              "    border-color: transparent;\n",
              "    border-bottom-color: var(--fill-color);\n",
              "    animation:\n",
              "      spin 1s steps(1) infinite;\n",
              "  }\n",
              "\n",
              "  @keyframes spin {\n",
              "    0% {\n",
              "      border-color: transparent;\n",
              "      border-bottom-color: var(--fill-color);\n",
              "      border-left-color: var(--fill-color);\n",
              "    }\n",
              "    20% {\n",
              "      border-color: transparent;\n",
              "      border-left-color: var(--fill-color);\n",
              "      border-top-color: var(--fill-color);\n",
              "    }\n",
              "    30% {\n",
              "      border-color: transparent;\n",
              "      border-left-color: var(--fill-color);\n",
              "      border-top-color: var(--fill-color);\n",
              "      border-right-color: var(--fill-color);\n",
              "    }\n",
              "    40% {\n",
              "      border-color: transparent;\n",
              "      border-right-color: var(--fill-color);\n",
              "      border-top-color: var(--fill-color);\n",
              "    }\n",
              "    60% {\n",
              "      border-color: transparent;\n",
              "      border-right-color: var(--fill-color);\n",
              "    }\n",
              "    80% {\n",
              "      border-color: transparent;\n",
              "      border-right-color: var(--fill-color);\n",
              "      border-bottom-color: var(--fill-color);\n",
              "    }\n",
              "    90% {\n",
              "      border-color: transparent;\n",
              "      border-bottom-color: var(--fill-color);\n",
              "    }\n",
              "  }\n",
              "</style>\n",
              "\n",
              "  <script>\n",
              "    async function quickchart(key) {\n",
              "      const quickchartButtonEl =\n",
              "        document.querySelector('#' + key + ' button');\n",
              "      quickchartButtonEl.disabled = true;  // To prevent multiple clicks.\n",
              "      quickchartButtonEl.classList.add('colab-df-spinner');\n",
              "      try {\n",
              "        const charts = await google.colab.kernel.invokeFunction(\n",
              "            'suggestCharts', [key], {});\n",
              "      } catch (error) {\n",
              "        console.error('Error during call to suggestCharts:', error);\n",
              "      }\n",
              "      quickchartButtonEl.classList.remove('colab-df-spinner');\n",
              "      quickchartButtonEl.classList.add('colab-df-quickchart-complete');\n",
              "    }\n",
              "    (() => {\n",
              "      let quickchartButtonEl =\n",
              "        document.querySelector('#df-d1d78f4a-9e7c-4c8b-9fb6-4f46406c641d button');\n",
              "      quickchartButtonEl.style.display =\n",
              "        google.colab.kernel.accessAllowed ? 'block' : 'none';\n",
              "    })();\n",
              "  </script>\n",
              "</div>\n",
              "\n",
              "    </div>\n",
              "  </div>\n"
            ],
            "application/vnd.google.colaboratory.intrinsic+json": {
              "type": "dataframe",
              "variable_name": "df"
            }
          },
          "metadata": {},
          "execution_count": 3
        }
      ]
    },
    {
      "cell_type": "code",
      "source": [
        "df.info()"
      ],
      "metadata": {
        "colab": {
          "base_uri": "https://localhost:8080/"
        },
        "id": "3XTx9ND20-4K",
        "outputId": "8f961ddd-3fd5-4539-cfb4-bf91ccd7b978"
      },
      "execution_count": 4,
      "outputs": [
        {
          "output_type": "stream",
          "name": "stdout",
          "text": [
            "<class 'pandas.core.frame.DataFrame'>\n",
            "RangeIndex: 4760 entries, 0 to 4759\n",
            "Data columns (total 21 columns):\n",
            " #   Column                    Non-Null Count  Dtype  \n",
            "---  ------                    --------------  -----  \n",
            " 0   Movie_ID                  4760 non-null   int64  \n",
            " 1   Movie_Title               4760 non-null   object \n",
            " 2   Movie_Genre               4760 non-null   object \n",
            " 3   Movie_Language            4760 non-null   object \n",
            " 4   Movie_Budget              4760 non-null   int64  \n",
            " 5   Movie_Popularity          4760 non-null   float64\n",
            " 6   Movie_Release_Date        4760 non-null   object \n",
            " 7   Movie_Revenue             4760 non-null   int64  \n",
            " 8   Movie_Runtime             4758 non-null   float64\n",
            " 9   Movie_Vote                4760 non-null   float64\n",
            " 10  Movie_Vote_Count          4760 non-null   int64  \n",
            " 11  Movie_Homepage            1699 non-null   object \n",
            " 12  Movie_Keywords            4373 non-null   object \n",
            " 13  Movie_Overview            4757 non-null   object \n",
            " 14  Movie_Production_House    4760 non-null   object \n",
            " 15  Movie_Production_Country  4760 non-null   object \n",
            " 16  Movie_Spoken_Language     4760 non-null   object \n",
            " 17  Movie_Tagline             3942 non-null   object \n",
            " 18  Movie_Cast                4733 non-null   object \n",
            " 19  Movie_Crew                4760 non-null   object \n",
            " 20  Movie_Director            4738 non-null   object \n",
            "dtypes: float64(3), int64(4), object(14)\n",
            "memory usage: 781.1+ KB\n"
          ]
        }
      ]
    },
    {
      "cell_type": "code",
      "source": [
        "df.shape"
      ],
      "metadata": {
        "colab": {
          "base_uri": "https://localhost:8080/"
        },
        "id": "TXYNJ4mf1Dx9",
        "outputId": "2a9badcd-99a0-4c5c-803d-ca87be61f24a"
      },
      "execution_count": 5,
      "outputs": [
        {
          "output_type": "execute_result",
          "data": {
            "text/plain": [
              "(4760, 21)"
            ]
          },
          "metadata": {},
          "execution_count": 5
        }
      ]
    },
    {
      "cell_type": "code",
      "source": [
        "df.columns"
      ],
      "metadata": {
        "colab": {
          "base_uri": "https://localhost:8080/"
        },
        "id": "rIiy5lan1Hg9",
        "outputId": "37cb92c1-7f3b-4df4-e9a3-f274a8fff859"
      },
      "execution_count": 6,
      "outputs": [
        {
          "output_type": "execute_result",
          "data": {
            "text/plain": [
              "Index(['Movie_ID', 'Movie_Title', 'Movie_Genre', 'Movie_Language',\n",
              "       'Movie_Budget', 'Movie_Popularity', 'Movie_Release_Date',\n",
              "       'Movie_Revenue', 'Movie_Runtime', 'Movie_Vote', 'Movie_Vote_Count',\n",
              "       'Movie_Homepage', 'Movie_Keywords', 'Movie_Overview',\n",
              "       'Movie_Production_House', 'Movie_Production_Country',\n",
              "       'Movie_Spoken_Language', 'Movie_Tagline', 'Movie_Cast', 'Movie_Crew',\n",
              "       'Movie_Director'],\n",
              "      dtype='object')"
            ]
          },
          "metadata": {},
          "execution_count": 6
        }
      ]
    },
    {
      "cell_type": "markdown",
      "source": [
        "## **Get Feature Selection**"
      ],
      "metadata": {
        "id": "0sA7li5w14Mv"
      }
    },
    {
      "cell_type": "code",
      "source": [
        "df_features = df[[ 'Movie_Genre', 'Movie_Keywords', 'Movie_Tagline', 'Movie_Cast', 'Movie_Director']].fillna('')\n",
        ""
      ],
      "metadata": {
        "id": "hjO9Px4a19AK"
      },
      "execution_count": 7,
      "outputs": []
    },
    {
      "cell_type": "code",
      "source": [
        "df_features.shape"
      ],
      "metadata": {
        "colab": {
          "base_uri": "https://localhost:8080/"
        },
        "id": "DlG-eW9D2Cxr",
        "outputId": "e7671720-f4d9-459e-80a2-1b12731acdc3"
      },
      "execution_count": 8,
      "outputs": [
        {
          "output_type": "execute_result",
          "data": {
            "text/plain": [
              "(4760, 5)"
            ]
          },
          "metadata": {},
          "execution_count": 8
        }
      ]
    },
    {
      "cell_type": "code",
      "source": [
        "df_features"
      ],
      "metadata": {
        "colab": {
          "base_uri": "https://localhost:8080/",
          "height": 493
        },
        "id": "bXWr-h9G2FkO",
        "outputId": "6eaa4d8d-a54e-4195-841b-030aac6e34c1"
      },
      "execution_count": 9,
      "outputs": [
        {
          "output_type": "execute_result",
          "data": {
            "text/plain": [
              "                           Movie_Genre  \\\n",
              "0                         Crime Comedy   \n",
              "1     Adventure Action Science Fiction   \n",
              "2                     Animation Family   \n",
              "3                 Comedy Drama Romance   \n",
              "4                                Drama   \n",
              "...                                ...   \n",
              "4755                            Horror   \n",
              "4756               Comedy Family Drama   \n",
              "4757                    Thriller Drama   \n",
              "4758                            Family   \n",
              "4759                       Documentary   \n",
              "\n",
              "                                         Movie_Keywords  \\\n",
              "0             hotel new year's eve witch bet hotel room   \n",
              "1           android galaxy hermit death star lightsaber   \n",
              "2     father son relationship harbor underwater fish...   \n",
              "3     vietnam veteran hippie mentally disabled runni...   \n",
              "4     male nudity female nudity adultery midlife cri...   \n",
              "...                                                 ...   \n",
              "4755                                                      \n",
              "4756                                                      \n",
              "4757                     christian film sex trafficking   \n",
              "4758                                                      \n",
              "4759  music actors legendary perfomer classic hollyw...   \n",
              "\n",
              "                                          Movie_Tagline  \\\n",
              "0     Twelve outrageous guests. Four scandalous requ...   \n",
              "1          A long time ago in a galaxy far, far away...   \n",
              "2     There are 3.7 trillion fish in the ocean, they...   \n",
              "3     The world will never be the same, once you've ...   \n",
              "4                                          Look closer.   \n",
              "...                                                 ...   \n",
              "4755                The hot spot where Satan's waitin'.   \n",
              "4756           It’s better to stand out than to fit in.   \n",
              "4757           She never knew it could happen to her...   \n",
              "4758                                                      \n",
              "4759                                                      \n",
              "\n",
              "                                             Movie_Cast     Movie_Director  \n",
              "0     Tim Roth Antonio Banderas Jennifer Beals Madon...     Allison Anders  \n",
              "1     Mark Hamill Harrison Ford Carrie Fisher Peter ...       George Lucas  \n",
              "2     Albert Brooks Ellen DeGeneres Alexander Gould ...     Andrew Stanton  \n",
              "3     Tom Hanks Robin Wright Gary Sinise Mykelti Wil...    Robert Zemeckis  \n",
              "4     Kevin Spacey Annette Bening Thora Birch Wes Be...         Sam Mendes  \n",
              "...                                                 ...                ...  \n",
              "4755  Lisa Hart Carroll Michael Des Barres Paul Drak...         Pece Dingo  \n",
              "4756  Roni Akurati Brighton Sharbino Jason Lee Anjul...       Frank Lotito  \n",
              "4757  Nicole Smolen Kim Baldwin Ariana Stephens Brys...       Jaco Booyens  \n",
              "4758                                                                        \n",
              "4759                                    Tony Oppedisano  Simon Napier-Bell  \n",
              "\n",
              "[4760 rows x 5 columns]"
            ],
            "text/html": [
              "\n",
              "  <div id=\"df-a4a03a17-057d-43ca-9b68-8ddd385489e0\" class=\"colab-df-container\">\n",
              "    <div>\n",
              "<style scoped>\n",
              "    .dataframe tbody tr th:only-of-type {\n",
              "        vertical-align: middle;\n",
              "    }\n",
              "\n",
              "    .dataframe tbody tr th {\n",
              "        vertical-align: top;\n",
              "    }\n",
              "\n",
              "    .dataframe thead th {\n",
              "        text-align: right;\n",
              "    }\n",
              "</style>\n",
              "<table border=\"1\" class=\"dataframe\">\n",
              "  <thead>\n",
              "    <tr style=\"text-align: right;\">\n",
              "      <th></th>\n",
              "      <th>Movie_Genre</th>\n",
              "      <th>Movie_Keywords</th>\n",
              "      <th>Movie_Tagline</th>\n",
              "      <th>Movie_Cast</th>\n",
              "      <th>Movie_Director</th>\n",
              "    </tr>\n",
              "  </thead>\n",
              "  <tbody>\n",
              "    <tr>\n",
              "      <th>0</th>\n",
              "      <td>Crime Comedy</td>\n",
              "      <td>hotel new year's eve witch bet hotel room</td>\n",
              "      <td>Twelve outrageous guests. Four scandalous requ...</td>\n",
              "      <td>Tim Roth Antonio Banderas Jennifer Beals Madon...</td>\n",
              "      <td>Allison Anders</td>\n",
              "    </tr>\n",
              "    <tr>\n",
              "      <th>1</th>\n",
              "      <td>Adventure Action Science Fiction</td>\n",
              "      <td>android galaxy hermit death star lightsaber</td>\n",
              "      <td>A long time ago in a galaxy far, far away...</td>\n",
              "      <td>Mark Hamill Harrison Ford Carrie Fisher Peter ...</td>\n",
              "      <td>George Lucas</td>\n",
              "    </tr>\n",
              "    <tr>\n",
              "      <th>2</th>\n",
              "      <td>Animation Family</td>\n",
              "      <td>father son relationship harbor underwater fish...</td>\n",
              "      <td>There are 3.7 trillion fish in the ocean, they...</td>\n",
              "      <td>Albert Brooks Ellen DeGeneres Alexander Gould ...</td>\n",
              "      <td>Andrew Stanton</td>\n",
              "    </tr>\n",
              "    <tr>\n",
              "      <th>3</th>\n",
              "      <td>Comedy Drama Romance</td>\n",
              "      <td>vietnam veteran hippie mentally disabled runni...</td>\n",
              "      <td>The world will never be the same, once you've ...</td>\n",
              "      <td>Tom Hanks Robin Wright Gary Sinise Mykelti Wil...</td>\n",
              "      <td>Robert Zemeckis</td>\n",
              "    </tr>\n",
              "    <tr>\n",
              "      <th>4</th>\n",
              "      <td>Drama</td>\n",
              "      <td>male nudity female nudity adultery midlife cri...</td>\n",
              "      <td>Look closer.</td>\n",
              "      <td>Kevin Spacey Annette Bening Thora Birch Wes Be...</td>\n",
              "      <td>Sam Mendes</td>\n",
              "    </tr>\n",
              "    <tr>\n",
              "      <th>...</th>\n",
              "      <td>...</td>\n",
              "      <td>...</td>\n",
              "      <td>...</td>\n",
              "      <td>...</td>\n",
              "      <td>...</td>\n",
              "    </tr>\n",
              "    <tr>\n",
              "      <th>4755</th>\n",
              "      <td>Horror</td>\n",
              "      <td></td>\n",
              "      <td>The hot spot where Satan's waitin'.</td>\n",
              "      <td>Lisa Hart Carroll Michael Des Barres Paul Drak...</td>\n",
              "      <td>Pece Dingo</td>\n",
              "    </tr>\n",
              "    <tr>\n",
              "      <th>4756</th>\n",
              "      <td>Comedy Family Drama</td>\n",
              "      <td></td>\n",
              "      <td>It’s better to stand out than to fit in.</td>\n",
              "      <td>Roni Akurati Brighton Sharbino Jason Lee Anjul...</td>\n",
              "      <td>Frank Lotito</td>\n",
              "    </tr>\n",
              "    <tr>\n",
              "      <th>4757</th>\n",
              "      <td>Thriller Drama</td>\n",
              "      <td>christian film sex trafficking</td>\n",
              "      <td>She never knew it could happen to her...</td>\n",
              "      <td>Nicole Smolen Kim Baldwin Ariana Stephens Brys...</td>\n",
              "      <td>Jaco Booyens</td>\n",
              "    </tr>\n",
              "    <tr>\n",
              "      <th>4758</th>\n",
              "      <td>Family</td>\n",
              "      <td></td>\n",
              "      <td></td>\n",
              "      <td></td>\n",
              "      <td></td>\n",
              "    </tr>\n",
              "    <tr>\n",
              "      <th>4759</th>\n",
              "      <td>Documentary</td>\n",
              "      <td>music actors legendary perfomer classic hollyw...</td>\n",
              "      <td></td>\n",
              "      <td>Tony Oppedisano</td>\n",
              "      <td>Simon Napier-Bell</td>\n",
              "    </tr>\n",
              "  </tbody>\n",
              "</table>\n",
              "<p>4760 rows × 5 columns</p>\n",
              "</div>\n",
              "    <div class=\"colab-df-buttons\">\n",
              "\n",
              "  <div class=\"colab-df-container\">\n",
              "    <button class=\"colab-df-convert\" onclick=\"convertToInteractive('df-a4a03a17-057d-43ca-9b68-8ddd385489e0')\"\n",
              "            title=\"Convert this dataframe to an interactive table.\"\n",
              "            style=\"display:none;\">\n",
              "\n",
              "  <svg xmlns=\"http://www.w3.org/2000/svg\" height=\"24px\" viewBox=\"0 -960 960 960\">\n",
              "    <path d=\"M120-120v-720h720v720H120Zm60-500h600v-160H180v160Zm220 220h160v-160H400v160Zm0 220h160v-160H400v160ZM180-400h160v-160H180v160Zm440 0h160v-160H620v160ZM180-180h160v-160H180v160Zm440 0h160v-160H620v160Z\"/>\n",
              "  </svg>\n",
              "    </button>\n",
              "\n",
              "  <style>\n",
              "    .colab-df-container {\n",
              "      display:flex;\n",
              "      gap: 12px;\n",
              "    }\n",
              "\n",
              "    .colab-df-convert {\n",
              "      background-color: #E8F0FE;\n",
              "      border: none;\n",
              "      border-radius: 50%;\n",
              "      cursor: pointer;\n",
              "      display: none;\n",
              "      fill: #1967D2;\n",
              "      height: 32px;\n",
              "      padding: 0 0 0 0;\n",
              "      width: 32px;\n",
              "    }\n",
              "\n",
              "    .colab-df-convert:hover {\n",
              "      background-color: #E2EBFA;\n",
              "      box-shadow: 0px 1px 2px rgba(60, 64, 67, 0.3), 0px 1px 3px 1px rgba(60, 64, 67, 0.15);\n",
              "      fill: #174EA6;\n",
              "    }\n",
              "\n",
              "    .colab-df-buttons div {\n",
              "      margin-bottom: 4px;\n",
              "    }\n",
              "\n",
              "    [theme=dark] .colab-df-convert {\n",
              "      background-color: #3B4455;\n",
              "      fill: #D2E3FC;\n",
              "    }\n",
              "\n",
              "    [theme=dark] .colab-df-convert:hover {\n",
              "      background-color: #434B5C;\n",
              "      box-shadow: 0px 1px 3px 1px rgba(0, 0, 0, 0.15);\n",
              "      filter: drop-shadow(0px 1px 2px rgba(0, 0, 0, 0.3));\n",
              "      fill: #FFFFFF;\n",
              "    }\n",
              "  </style>\n",
              "\n",
              "    <script>\n",
              "      const buttonEl =\n",
              "        document.querySelector('#df-a4a03a17-057d-43ca-9b68-8ddd385489e0 button.colab-df-convert');\n",
              "      buttonEl.style.display =\n",
              "        google.colab.kernel.accessAllowed ? 'block' : 'none';\n",
              "\n",
              "      async function convertToInteractive(key) {\n",
              "        const element = document.querySelector('#df-a4a03a17-057d-43ca-9b68-8ddd385489e0');\n",
              "        const dataTable =\n",
              "          await google.colab.kernel.invokeFunction('convertToInteractive',\n",
              "                                                    [key], {});\n",
              "        if (!dataTable) return;\n",
              "\n",
              "        const docLinkHtml = 'Like what you see? Visit the ' +\n",
              "          '<a target=\"_blank\" href=https://colab.research.google.com/notebooks/data_table.ipynb>data table notebook</a>'\n",
              "          + ' to learn more about interactive tables.';\n",
              "        element.innerHTML = '';\n",
              "        dataTable['output_type'] = 'display_data';\n",
              "        await google.colab.output.renderOutput(dataTable, element);\n",
              "        const docLink = document.createElement('div');\n",
              "        docLink.innerHTML = docLinkHtml;\n",
              "        element.appendChild(docLink);\n",
              "      }\n",
              "    </script>\n",
              "  </div>\n",
              "\n",
              "\n",
              "<div id=\"df-d9b7246a-203f-42d4-8945-4c92b055fa15\">\n",
              "  <button class=\"colab-df-quickchart\" onclick=\"quickchart('df-d9b7246a-203f-42d4-8945-4c92b055fa15')\"\n",
              "            title=\"Suggest charts\"\n",
              "            style=\"display:none;\">\n",
              "\n",
              "<svg xmlns=\"http://www.w3.org/2000/svg\" height=\"24px\"viewBox=\"0 0 24 24\"\n",
              "     width=\"24px\">\n",
              "    <g>\n",
              "        <path d=\"M19 3H5c-1.1 0-2 .9-2 2v14c0 1.1.9 2 2 2h14c1.1 0 2-.9 2-2V5c0-1.1-.9-2-2-2zM9 17H7v-7h2v7zm4 0h-2V7h2v10zm4 0h-2v-4h2v4z\"/>\n",
              "    </g>\n",
              "</svg>\n",
              "  </button>\n",
              "\n",
              "<style>\n",
              "  .colab-df-quickchart {\n",
              "      --bg-color: #E8F0FE;\n",
              "      --fill-color: #1967D2;\n",
              "      --hover-bg-color: #E2EBFA;\n",
              "      --hover-fill-color: #174EA6;\n",
              "      --disabled-fill-color: #AAA;\n",
              "      --disabled-bg-color: #DDD;\n",
              "  }\n",
              "\n",
              "  [theme=dark] .colab-df-quickchart {\n",
              "      --bg-color: #3B4455;\n",
              "      --fill-color: #D2E3FC;\n",
              "      --hover-bg-color: #434B5C;\n",
              "      --hover-fill-color: #FFFFFF;\n",
              "      --disabled-bg-color: #3B4455;\n",
              "      --disabled-fill-color: #666;\n",
              "  }\n",
              "\n",
              "  .colab-df-quickchart {\n",
              "    background-color: var(--bg-color);\n",
              "    border: none;\n",
              "    border-radius: 50%;\n",
              "    cursor: pointer;\n",
              "    display: none;\n",
              "    fill: var(--fill-color);\n",
              "    height: 32px;\n",
              "    padding: 0;\n",
              "    width: 32px;\n",
              "  }\n",
              "\n",
              "  .colab-df-quickchart:hover {\n",
              "    background-color: var(--hover-bg-color);\n",
              "    box-shadow: 0 1px 2px rgba(60, 64, 67, 0.3), 0 1px 3px 1px rgba(60, 64, 67, 0.15);\n",
              "    fill: var(--button-hover-fill-color);\n",
              "  }\n",
              "\n",
              "  .colab-df-quickchart-complete:disabled,\n",
              "  .colab-df-quickchart-complete:disabled:hover {\n",
              "    background-color: var(--disabled-bg-color);\n",
              "    fill: var(--disabled-fill-color);\n",
              "    box-shadow: none;\n",
              "  }\n",
              "\n",
              "  .colab-df-spinner {\n",
              "    border: 2px solid var(--fill-color);\n",
              "    border-color: transparent;\n",
              "    border-bottom-color: var(--fill-color);\n",
              "    animation:\n",
              "      spin 1s steps(1) infinite;\n",
              "  }\n",
              "\n",
              "  @keyframes spin {\n",
              "    0% {\n",
              "      border-color: transparent;\n",
              "      border-bottom-color: var(--fill-color);\n",
              "      border-left-color: var(--fill-color);\n",
              "    }\n",
              "    20% {\n",
              "      border-color: transparent;\n",
              "      border-left-color: var(--fill-color);\n",
              "      border-top-color: var(--fill-color);\n",
              "    }\n",
              "    30% {\n",
              "      border-color: transparent;\n",
              "      border-left-color: var(--fill-color);\n",
              "      border-top-color: var(--fill-color);\n",
              "      border-right-color: var(--fill-color);\n",
              "    }\n",
              "    40% {\n",
              "      border-color: transparent;\n",
              "      border-right-color: var(--fill-color);\n",
              "      border-top-color: var(--fill-color);\n",
              "    }\n",
              "    60% {\n",
              "      border-color: transparent;\n",
              "      border-right-color: var(--fill-color);\n",
              "    }\n",
              "    80% {\n",
              "      border-color: transparent;\n",
              "      border-right-color: var(--fill-color);\n",
              "      border-bottom-color: var(--fill-color);\n",
              "    }\n",
              "    90% {\n",
              "      border-color: transparent;\n",
              "      border-bottom-color: var(--fill-color);\n",
              "    }\n",
              "  }\n",
              "</style>\n",
              "\n",
              "  <script>\n",
              "    async function quickchart(key) {\n",
              "      const quickchartButtonEl =\n",
              "        document.querySelector('#' + key + ' button');\n",
              "      quickchartButtonEl.disabled = true;  // To prevent multiple clicks.\n",
              "      quickchartButtonEl.classList.add('colab-df-spinner');\n",
              "      try {\n",
              "        const charts = await google.colab.kernel.invokeFunction(\n",
              "            'suggestCharts', [key], {});\n",
              "      } catch (error) {\n",
              "        console.error('Error during call to suggestCharts:', error);\n",
              "      }\n",
              "      quickchartButtonEl.classList.remove('colab-df-spinner');\n",
              "      quickchartButtonEl.classList.add('colab-df-quickchart-complete');\n",
              "    }\n",
              "    (() => {\n",
              "      let quickchartButtonEl =\n",
              "        document.querySelector('#df-d9b7246a-203f-42d4-8945-4c92b055fa15 button');\n",
              "      quickchartButtonEl.style.display =\n",
              "        google.colab.kernel.accessAllowed ? 'block' : 'none';\n",
              "    })();\n",
              "  </script>\n",
              "</div>\n",
              "\n",
              "  <div id=\"id_678a7c3e-828e-4e48-a2bc-87c901dc2cb1\">\n",
              "    <style>\n",
              "      .colab-df-generate {\n",
              "        background-color: #E8F0FE;\n",
              "        border: none;\n",
              "        border-radius: 50%;\n",
              "        cursor: pointer;\n",
              "        display: none;\n",
              "        fill: #1967D2;\n",
              "        height: 32px;\n",
              "        padding: 0 0 0 0;\n",
              "        width: 32px;\n",
              "      }\n",
              "\n",
              "      .colab-df-generate:hover {\n",
              "        background-color: #E2EBFA;\n",
              "        box-shadow: 0px 1px 2px rgba(60, 64, 67, 0.3), 0px 1px 3px 1px rgba(60, 64, 67, 0.15);\n",
              "        fill: #174EA6;\n",
              "      }\n",
              "\n",
              "      [theme=dark] .colab-df-generate {\n",
              "        background-color: #3B4455;\n",
              "        fill: #D2E3FC;\n",
              "      }\n",
              "\n",
              "      [theme=dark] .colab-df-generate:hover {\n",
              "        background-color: #434B5C;\n",
              "        box-shadow: 0px 1px 3px 1px rgba(0, 0, 0, 0.15);\n",
              "        filter: drop-shadow(0px 1px 2px rgba(0, 0, 0, 0.3));\n",
              "        fill: #FFFFFF;\n",
              "      }\n",
              "    </style>\n",
              "    <button class=\"colab-df-generate\" onclick=\"generateWithVariable('df_features')\"\n",
              "            title=\"Generate code using this dataframe.\"\n",
              "            style=\"display:none;\">\n",
              "\n",
              "  <svg xmlns=\"http://www.w3.org/2000/svg\" height=\"24px\"viewBox=\"0 0 24 24\"\n",
              "       width=\"24px\">\n",
              "    <path d=\"M7,19H8.4L18.45,9,17,7.55,7,17.6ZM5,21V16.75L18.45,3.32a2,2,0,0,1,2.83,0l1.4,1.43a1.91,1.91,0,0,1,.58,1.4,1.91,1.91,0,0,1-.58,1.4L9.25,21ZM18.45,9,17,7.55Zm-12,3A5.31,5.31,0,0,0,4.9,8.1,5.31,5.31,0,0,0,1,6.5,5.31,5.31,0,0,0,4.9,4.9,5.31,5.31,0,0,0,6.5,1,5.31,5.31,0,0,0,8.1,4.9,5.31,5.31,0,0,0,12,6.5,5.46,5.46,0,0,0,6.5,12Z\"/>\n",
              "  </svg>\n",
              "    </button>\n",
              "    <script>\n",
              "      (() => {\n",
              "      const buttonEl =\n",
              "        document.querySelector('#id_678a7c3e-828e-4e48-a2bc-87c901dc2cb1 button.colab-df-generate');\n",
              "      buttonEl.style.display =\n",
              "        google.colab.kernel.accessAllowed ? 'block' : 'none';\n",
              "\n",
              "      buttonEl.onclick = () => {\n",
              "        google.colab.notebook.generateWithVariable('df_features');\n",
              "      }\n",
              "      })();\n",
              "    </script>\n",
              "  </div>\n",
              "\n",
              "    </div>\n",
              "  </div>\n"
            ],
            "application/vnd.google.colaboratory.intrinsic+json": {
              "type": "dataframe",
              "variable_name": "df_features",
              "summary": "{\n  \"name\": \"df_features\",\n  \"rows\": 4760,\n  \"fields\": [\n    {\n      \"column\": \"Movie_Genre\",\n      \"properties\": {\n        \"dtype\": \"category\",\n        \"num_unique_values\": 1164,\n        \"samples\": [\n          \"Family Animation Adventure\",\n          \"Adventure Science Fiction Action\",\n          \"Action Crime Drama Romance Thriller\"\n        ],\n        \"semantic_type\": \"\",\n        \"description\": \"\"\n      }\n    },\n    {\n      \"column\": \"Movie_Keywords\",\n      \"properties\": {\n        \"dtype\": \"string\",\n        \"num_unique_values\": 4203,\n        \"samples\": [\n          \"canada nazis sequel spin off ancient evil\",\n          \"sex professor wedding woman director columbia university\",\n          \"prophecy sea beach gold small town\"\n        ],\n        \"semantic_type\": \"\",\n        \"description\": \"\"\n      }\n    },\n    {\n      \"column\": \"Movie_Tagline\",\n      \"properties\": {\n        \"dtype\": \"string\",\n        \"num_unique_values\": 3928,\n        \"samples\": [\n          \"The messenger must be silenced.\",\n          \"It's not the house that's haunted.\",\n          \"The final hunt begins.\"\n        ],\n        \"semantic_type\": \"\",\n        \"description\": \"\"\n      }\n    },\n    {\n      \"column\": \"Movie_Cast\",\n      \"properties\": {\n        \"dtype\": \"string\",\n        \"num_unique_values\": 4715,\n        \"samples\": [\n          \"Robin Tunney Fairuza Balk Neve Campbell Rachel True Skeet Ulrich\",\n          \"Peter Sellers Christopher Plummer Herbert Lom Catherine Schell Peter Arne\",\n          \"John Wayne Laraine Day Cedric Hardwicke Judith Anderson Anthony Quinn\"\n        ],\n        \"semantic_type\": \"\",\n        \"description\": \"\"\n      }\n    },\n    {\n      \"column\": \"Movie_Director\",\n      \"properties\": {\n        \"dtype\": \"category\",\n        \"num_unique_values\": 2332,\n        \"samples\": [\n          \"Rob McKittrick\",\n          \"Terron R. Parsons\",\n          \"Cyrus Nowrasteh\"\n        ],\n        \"semantic_type\": \"\",\n        \"description\": \"\"\n      }\n    }\n  ]\n}"
            }
          },
          "metadata": {},
          "execution_count": 9
        }
      ]
    },
    {
      "cell_type": "code",
      "source": [
        "x = df_features['Movie_Genre'] + '' + df_features['Movie_Keywords'] + '' + df_features['Movie_Tagline'] +''+ df_features['Movie_Cast']+ ''+ df_features['Movie_Director']"
      ],
      "metadata": {
        "id": "ll_W5n5m2g5J"
      },
      "execution_count": 12,
      "outputs": []
    },
    {
      "cell_type": "code",
      "source": [
        "x"
      ],
      "metadata": {
        "colab": {
          "base_uri": "https://localhost:8080/"
        },
        "id": "mhO16Sju2nJA",
        "outputId": "146d0d81-c490-4642-caab-87f19b67741e"
      },
      "execution_count": 13,
      "outputs": [
        {
          "output_type": "execute_result",
          "data": {
            "text/plain": [
              "0       Crime Comedyhotel new year's eve witch bet hot...\n",
              "1       Adventure Action Science Fictionandroid galaxy...\n",
              "2       Animation Familyfather son relationship harbor...\n",
              "3       Comedy Drama Romancevietnam veteran hippie men...\n",
              "4       Dramamale nudity female nudity adultery midlif...\n",
              "                              ...                        \n",
              "4755    HorrorThe hot spot where Satan's waitin'.Lisa ...\n",
              "4756    Comedy Family DramaIt’s better to stand out th...\n",
              "4757    Thriller Dramachristian film sex traffickingSh...\n",
              "4758                                               Family\n",
              "4759    Documentarymusic actors legendary perfomer cla...\n",
              "Length: 4760, dtype: object"
            ]
          },
          "metadata": {},
          "execution_count": 13
        }
      ]
    },
    {
      "cell_type": "code",
      "source": [
        "x.shape"
      ],
      "metadata": {
        "colab": {
          "base_uri": "https://localhost:8080/"
        },
        "id": "lO8EyZBg2sLS",
        "outputId": "f3a7d360-4240-480f-bf6b-3d60fa304f87"
      },
      "execution_count": 15,
      "outputs": [
        {
          "output_type": "execute_result",
          "data": {
            "text/plain": [
              "(4760,)"
            ]
          },
          "metadata": {},
          "execution_count": 15
        }
      ]
    },
    {
      "cell_type": "markdown",
      "source": [
        "## **Get Feature Text Conversion to Tokens**"
      ],
      "metadata": {
        "id": "4DY33MZRBDob"
      }
    },
    {
      "cell_type": "code",
      "source": [
        "from sklearn.feature_extraction.text import TfidfVectorizer"
      ],
      "metadata": {
        "id": "KYSbPNCxBHxw"
      },
      "execution_count": 16,
      "outputs": []
    },
    {
      "cell_type": "code",
      "source": [
        "tfidf = TfidfVectorizer()"
      ],
      "metadata": {
        "id": "bR6dHUcABRG_"
      },
      "execution_count": 17,
      "outputs": []
    },
    {
      "cell_type": "code",
      "source": [
        "x = tfidf.fit_transform(x)"
      ],
      "metadata": {
        "id": "SRPK2E62BUAu"
      },
      "execution_count": 18,
      "outputs": []
    },
    {
      "cell_type": "code",
      "source": [
        "x.shape"
      ],
      "metadata": {
        "colab": {
          "base_uri": "https://localhost:8080/"
        },
        "id": "Q9m1Zt9MBWtV",
        "outputId": "bf4ec8bc-7e54-483b-bf56-7f8765cfeae4"
      },
      "execution_count": 19,
      "outputs": [
        {
          "output_type": "execute_result",
          "data": {
            "text/plain": [
              "(4760, 27466)"
            ]
          },
          "metadata": {},
          "execution_count": 19
        }
      ]
    },
    {
      "cell_type": "code",
      "source": [
        "print(x)"
      ],
      "metadata": {
        "colab": {
          "base_uri": "https://localhost:8080/"
        },
        "id": "h2_RvDWKBbD1",
        "outputId": "c758484f-3fec-42ac-be98-ce943cf15958"
      },
      "execution_count": 20,
      "outputs": [
        {
          "output_type": "stream",
          "name": "stdout",
          "text": [
            "  (0, 1028)\t0.16196019146631543\n",
            "  (0, 24785)\t0.1954632929283795\n",
            "  (0, 15844)\t0.14205053053187272\n",
            "  (0, 15553)\t0.17099186675469502\n",
            "  (0, 2132)\t0.18002354204307464\n",
            "  (0, 13312)\t0.09914387783149516\n",
            "  (0, 1887)\t0.14106037409792174\n",
            "  (0, 1216)\t0.13920306109638164\n",
            "  (0, 21158)\t0.14205053053187272\n",
            "  (0, 24701)\t0.11357423942624927\n",
            "  (0, 14943)\t0.091376722056839\n",
            "  (0, 18098)\t0.06200430666985742\n",
            "  (0, 26738)\t0.175053052455033\n",
            "  (0, 9790)\t0.08712552095655665\n",
            "  (0, 26675)\t0.1116831168780693\n",
            "  (0, 13401)\t0.13748876529263096\n",
            "  (0, 24105)\t0.10726395493180996\n",
            "  (0, 18192)\t0.07278761942152372\n",
            "  (0, 6172)\t0.11970212451073885\n",
            "  (0, 9626)\t0.11757910435818826\n",
            "  (0, 11960)\t0.20134029899961134\n",
            "  (0, 12801)\t0.1530338818199682\n",
            "  (0, 2292)\t0.1954632929283795\n",
            "  (0, 15172)\t0.1537691763994982\n",
            "  (0, 18196)\t0.08579029869987485\n",
            "  :\t:\n",
            "  (4757, 1839)\t0.19327629083107672\n",
            "  (4757, 5410)\t0.19734759150400596\n",
            "  (4757, 11350)\t0.21582294886514122\n",
            "  (4757, 22017)\t0.1646400247918531\n",
            "  (4757, 17789)\t0.18881341937258544\n",
            "  (4757, 9484)\t0.1411164779725638\n",
            "  (4757, 14176)\t0.2330831990045816\n",
            "  (4757, 11762)\t0.17321388936472645\n",
            "  (4757, 14052)\t0.1776312353410007\n",
            "  (4757, 24232)\t0.10947784435203887\n",
            "  (4757, 24746)\t0.09744940789814222\n",
            "  (4757, 13079)\t0.12400374714145113\n",
            "  (4757, 17721)\t0.1489085353667712\n",
            "  (4758, 8651)\t1.0\n",
            "  (4759, 18229)\t0.33527342183765224\n",
            "  (4759, 22434)\t0.33527342183765224\n",
            "  (4759, 18841)\t0.33527342183765224\n",
            "  (4759, 6950)\t0.33527342183765224\n",
            "  (4759, 345)\t0.31978160936741457\n",
            "  (4759, 14742)\t0.31978160936741457\n",
            "  (4759, 12139)\t0.2778063685558062\n",
            "  (4759, 4446)\t0.282306565154911\n",
            "  (4759, 17552)\t0.3087899934962816\n",
            "  (4759, 9955)\t0.21805075638656476\n",
            "  (4759, 2285)\t0.21465229435984196\n"
          ]
        }
      ]
    },
    {
      "cell_type": "markdown",
      "source": [
        "## **Get Similarity Score using Cosine Similarity**"
      ],
      "metadata": {
        "id": "0DBxQ2v_BfrD"
      }
    },
    {
      "cell_type": "markdown",
      "source": [
        "cosine_similarity computes the L2-normalized dot product of vectors. Euclidean (L2) normalization projects the vectors onto the unit sphere, and their dot product is then the cosine of the angle between the points denoted by the vectors."
      ],
      "metadata": {
        "id": "QdfxCUjvBprD"
      }
    },
    {
      "cell_type": "code",
      "source": [
        "from sklearn.metrics.pairwise import cosine_similarity"
      ],
      "metadata": {
        "id": "_Pa6S3NxBrMd"
      },
      "execution_count": 21,
      "outputs": []
    },
    {
      "cell_type": "code",
      "source": [
        "Similarity_Score = cosine_similarity(x)"
      ],
      "metadata": {
        "id": "pFt6IAz4BvRt"
      },
      "execution_count": 22,
      "outputs": []
    },
    {
      "cell_type": "code",
      "source": [
        "Similarity_Score"
      ],
      "metadata": {
        "colab": {
          "base_uri": "https://localhost:8080/"
        },
        "id": "Wc1tdIRCBybq",
        "outputId": "69d54a83-1020-4218-f106-087033108631"
      },
      "execution_count": 23,
      "outputs": [
        {
          "output_type": "execute_result",
          "data": {
            "text/plain": [
              "array([[1.        , 0.01438634, 0.03807033, ..., 0.        , 0.        ,\n",
              "        0.        ],\n",
              "       [0.01438634, 1.        , 0.00844858, ..., 0.        , 0.        ,\n",
              "        0.        ],\n",
              "       [0.03807033, 0.00844858, 1.        , ..., 0.        , 0.        ,\n",
              "        0.        ],\n",
              "       ...,\n",
              "       [0.        , 0.        , 0.        , ..., 1.        , 0.        ,\n",
              "        0.        ],\n",
              "       [0.        , 0.        , 0.        , ..., 0.        , 1.        ,\n",
              "        0.        ],\n",
              "       [0.        , 0.        , 0.        , ..., 0.        , 0.        ,\n",
              "        1.        ]])"
            ]
          },
          "metadata": {},
          "execution_count": 23
        }
      ]
    },
    {
      "cell_type": "code",
      "source": [
        "Similarity_Score.shape"
      ],
      "metadata": {
        "colab": {
          "base_uri": "https://localhost:8080/"
        },
        "id": "iJo61RVBB2PJ",
        "outputId": "b502ac05-0166-4ff6-da30-896b5c960d40"
      },
      "execution_count": 24,
      "outputs": [
        {
          "output_type": "execute_result",
          "data": {
            "text/plain": [
              "(4760, 4760)"
            ]
          },
          "metadata": {},
          "execution_count": 24
        }
      ]
    },
    {
      "cell_type": "markdown",
      "source": [
        "## **Get Movie Name as Input from User and Validate for Closest Spelling**"
      ],
      "metadata": {
        "id": "r3eB0xTuCOhv"
      }
    },
    {
      "cell_type": "code",
      "source": [
        "Favourite_Movie_Name = input(' Enter your favourite movie name :')"
      ],
      "metadata": {
        "colab": {
          "base_uri": "https://localhost:8080/"
        },
        "id": "ruBzm23QCSuh",
        "outputId": "c72f62b5-df64-41f0-c156-cf705daeb86b"
      },
      "execution_count": 36,
      "outputs": [
        {
          "name": "stdout",
          "output_type": "stream",
          "text": [
            " Enter your favourite movie name :The Good Heart\n"
          ]
        }
      ]
    },
    {
      "cell_type": "code",
      "source": [
        "All_Movies_Title_List = df['Movie_Title'].tolist()"
      ],
      "metadata": {
        "id": "Gdxee44iCrHA"
      },
      "execution_count": 37,
      "outputs": []
    },
    {
      "cell_type": "code",
      "source": [
        "import difflib"
      ],
      "metadata": {
        "id": "a__1wzebCws0"
      },
      "execution_count": 38,
      "outputs": []
    },
    {
      "cell_type": "code",
      "source": [
        "Movie_Recommendation = difflib.get_close_matches (Favourite_Movie_Name, All_Movies_Title_List)\n",
        "print(Movie_Recommendation)"
      ],
      "metadata": {
        "colab": {
          "base_uri": "https://localhost:8080/"
        },
        "id": "zu5T7pcaC1yZ",
        "outputId": "0a638cd2-7ea8-4f27-eedb-c12f5229ef4c"
      },
      "execution_count": 39,
      "outputs": [
        {
          "output_type": "stream",
          "name": "stdout",
          "text": [
            "['The Good Heart', 'The Good German', 'The Good Girl']\n"
          ]
        }
      ]
    },
    {
      "cell_type": "code",
      "source": [
        "Close_Match = Movie_Recommendation[0]\n",
        "print (Close_Match)"
      ],
      "metadata": {
        "colab": {
          "base_uri": "https://localhost:8080/"
        },
        "id": "CSFNso8TFxcd",
        "outputId": "b5cda25a-4b1f-48c3-e7a2-9906afb91873"
      },
      "execution_count": 40,
      "outputs": [
        {
          "output_type": "stream",
          "name": "stdout",
          "text": [
            "The Good Heart\n"
          ]
        }
      ]
    },
    {
      "cell_type": "code",
      "source": [
        "Index_of_Close_Match_Movie = df [df.Movie_Title == Close_Match]['Movie_ID'].values[0]\n",
        "print(Index_of_Close_Match_Movie)"
      ],
      "metadata": {
        "colab": {
          "base_uri": "https://localhost:8080/"
        },
        "id": "OLytPLUsF0Kl",
        "outputId": "6899f3df-df7d-4f7b-83a8-9f04cbd888bd"
      },
      "execution_count": 41,
      "outputs": [
        {
          "output_type": "stream",
          "name": "stdout",
          "text": [
            "908\n"
          ]
        }
      ]
    },
    {
      "cell_type": "code",
      "source": [
        "# getting a list of similar movies\n",
        "\n",
        "Recommendation_Score = list(enumerate(Similarity_Score[Index_of_Close_Match_Movie]))\n",
        "print (Recommendation_Score)"
      ],
      "metadata": {
        "colab": {
          "base_uri": "https://localhost:8080/"
        },
        "id": "6gUK_nS-F5NJ",
        "outputId": "83a42435-8097-4411-a098-81dfd33326b6"
      },
      "execution_count": 46,
      "outputs": [
        {
          "output_type": "stream",
          "name": "stdout",
          "text": [
            "[(0, 0.01569618455906672), (1, 0.005430035270240386), (2, 0.004752318616886722), (3, 0.013958212446660786), (4, 0.0), (5, 0.018888399107460888), (6, 0.006615769906418219), (7, 0.012471712975471871), (8, 0.0), (9, 0.013254367473398115), (10, 0.01243207488070985), (11, 0.040630657227880194), (12, 0.02289547038140413), (13, 0.0), (14, 0.009920033181473678), (15, 0.0), (16, 0.0), (17, 0.0), (18, 0.005158991521409176), (19, 0.015860613844508504), (20, 0.0), (21, 0.011719150683612442), (22, 0.020182712631201465), (23, 0.015892811877017698), (24, 0.0), (25, 0.016201805358517778), (26, 0.0), (27, 0.0), (28, 0.010954088343363557), (29, 0.005354175779665686), (30, 0.015751677796971852), (31, 0.0), (32, 0.005592731893570845), (33, 0.004927580646778663), (34, 0.0), (35, 0.015385049508546465), (36, 0.0), (37, 0.010012632341355628), (38, 0.012529003885431229), (39, 0.01126727018590043), (40, 0.012662420679497667), (41, 0.006504142007388127), (42, 0.013739376075611001), (43, 0.022819096423727127), (44, 0.005123925868486843), (45, 0.018159692436232933), (46, 0.0056152051646277115), (47, 0.0), (48, 0.061479641623571626), (49, 0.008259575282277862), (50, 0.0051225836169325875), (51, 0.010773676277982348), (52, 0.03239993221352051), (53, 0.004909052329780744), (54, 0.00863670462756679), (55, 0.0), (56, 0.005613439018912881), (57, 0.00933200286601908), (58, 0.0073407417043958294), (59, 0.006005450393010499), (60, 0.004793532878111814), (61, 0.0), (62, 0.02671335921297746), (63, 0.02546734489850312), (64, 0.012329420235873268), (65, 0.0), (66, 0.008888558484701414), (67, 0.020446950719093505), (68, 0.028470396721843358), (69, 0.006835978325861773), (70, 0.0), (71, 0.0), (72, 0.005368799577921737), (73, 0.00489453681935933), (74, 0.011718834281942312), (75, 0.022212826100005675), (76, 0.012452642184557688), (77, 0.0), (78, 0.009801706391653398), (79, 0.014982928618768324), (80, 0.031521442107390475), (81, 0.015887870429510596), (82, 0.012874306219147553), (83, 0.010522329634932388), (84, 0.005762300731955825), (85, 0.025400328814303492), (86, 0.03131083025726848), (87, 0.010538455108747286), (88, 0.0303582204961054), (89, 0.03619529270839764), (90, 0.006029917549134952), (91, 0.009401981206144022), (92, 0.005622978598573655), (93, 0.006075112531626594), (94, 0.03257786184086107), (95, 0.006172287100092975), (96, 0.019581114992229594), (97, 0.004823763748736086), (98, 0.014843443047200554), (99, 0.0), (100, 0.0), (101, 0.005846584888457538), (102, 0.012508787678580211), (103, 0.004771171378004721), (104, 0.0), (105, 0.02421838101084072), (106, 0.019281661921050755), (107, 0.0), (108, 0.0230708963445211), (109, 0.015023971059284021), (110, 0.005315495703006641), (111, 0.036465100449475665), (112, 0.01554035632478663), (113, 0.029237622809746948), (114, 0.005150140159705245), (115, 0.022746794143325293), (116, 0.015099386151054106), (117, 0.0), (118, 0.0062737143494528795), (119, 0.029436114263535613), (120, 0.011132835647302579), (121, 0.0), (122, 0.01951929188887612), (123, 0.03426804940065372), (124, 0.019613361819337184), (125, 0.007278604889139818), (126, 0.0), (127, 0.0), (128, 0.02354729972967785), (129, 0.0037006767366202418), (130, 0.014870315571292063), (131, 0.008903659001999072), (132, 0.0), (133, 0.021543048922360628), (134, 0.036259180630312665), (135, 0.011444155861885321), (136, 0.0), (137, 0.0250438376357726), (138, 0.0053115806622843495), (139, 0.012443684023229816), (140, 0.0), (141, 0.0), (142, 0.012870396867101341), (143, 0.006718828948875807), (144, 0.0158110220164454), (145, 0.03632921944065368), (146, 0.005646412763525717), (147, 0.009261274923510514), (148, 0.019770914298957075), (149, 0.009345324447797261), (150, 0.00546469011571996), (151, 0.0062951318227420635), (152, 0.011302205021688085), (153, 0.04182530296312395), (154, 0.0), (155, 0.019215025650454725), (156, 0.004269738951646489), (157, 0.005061326417517163), (158, 0.014526077721735415), (159, 0.00934064030415126), (160, 0.0055135695259500885), (161, 0.012411778340377135), (162, 0.055464778628372666), (163, 0.0), (164, 0.0), (165, 0.014826376005362858), (166, 0.02366712872490325), (167, 0.0), (168, 0.022568071254847125), (169, 0.01098362537978843), (170, 0.020472825928201252), (171, 0.005399757355384221), (172, 0.010328836508818016), (173, 0.0), (174, 0.0053787861474917775), (175, 0.025940843226909358), (176, 0.0), (177, 0.004698604391096777), (178, 0.0), (179, 0.00526194740901455), (180, 0.10223401528641586), (181, 0.026559620059550832), (182, 0.010806909413465737), (183, 0.0), (184, 0.005027113996497459), (185, 0.004908040839526686), (186, 0.004717951159292338), (187, 0.0), (188, 0.005136378654239485), (189, 0.06717740625635088), (190, 0.0), (191, 0.018100795241072064), (192, 0.00579282330314348), (193, 0.008703414682574798), (194, 0.0), (195, 0.02389162505922861), (196, 0.014220354652025896), (197, 0.0050566554763872874), (198, 0.0), (199, 0.009416830707668212), (200, 0.014777111296314522), (201, 0.04895190216246094), (202, 0.016344355973270962), (203, 0.0), (204, 0.008876241315777437), (205, 0.008919594925399944), (206, 0.026966556931572096), (207, 0.011650454213024217), (208, 0.00671195913043942), (209, 0.010862733067774109), (210, 0.017845923110981106), (211, 0.010500932680704407), (212, 0.02527454391205301), (213, 0.0), (214, 0.0361600221472919), (215, 0.01843682700650951), (216, 0.021504385769525267), (217, 0.010793731372462338), (218, 0.02218537361466394), (219, 0.005424752035609816), (220, 0.011946208890787194), (221, 0.010594281072872339), (222, 0.009748541437674613), (223, 0.005368206294184481), (224, 0.008147670584524534), (225, 0.01249193299507351), (226, 0.0), (227, 0.00910790767963388), (228, 0.008430092007133447), (229, 0.0), (230, 0.0), (231, 0.0061984480377893945), (232, 0.03712587570142537), (233, 0.00604007318538755), (234, 0.005153891468802476), (235, 0.0), (236, 0.02466996544571253), (237, 0.02373460201354573), (238, 0.005308672664520292), (239, 0.021652354106812287), (240, 0.0131931159365819), (241, 0.0), (242, 0.007523121616289211), (243, 0.013925409292324796), (244, 0.01680907460022406), (245, 0.005498237773768994), (246, 0.02640419236643501), (247, 0.0), (248, 0.0), (249, 0.032162771178883234), (250, 0.006041001200094389), (251, 0.01892188122973425), (252, 0.0), (253, 0.00574559627841923), (254, 0.011405130848788296), (255, 0.0), (256, 0.0), (257, 0.01361725852692311), (258, 0.006153699370124492), (259, 0.025795126833780636), (260, 0.011402380966755124), (261, 0.011287610149960735), (262, 0.01628782773650782), (263, 0.02662528612106211), (264, 0.017019029306422455), (265, 0.0), (266, 0.01314802155905355), (267, 0.0), (268, 0.0), (269, 0.019371192895448315), (270, 0.019120601118153065), (271, 0.0047768901706912925), (272, 0.005780633649225622), (273, 0.01568039590700808), (274, 0.017267191404687302), (275, 0.0), (276, 0.009862851583328926), (277, 0.01699281603363536), (278, 0.004707449969045103), (279, 0.009941728683022295), (280, 0.0), (281, 0.011808235089918219), (282, 0.014926857852927551), (283, 0.0), (284, 0.01076734157495845), (285, 0.05159869359866368), (286, 0.0), (287, 0.02057699617467359), (288, 0.048914451234001434), (289, 0.0049611900509573745), (290, 0.005389308984955529), (291, 0.005089460212333724), (292, 0.00582441857079306), (293, 0.004046162230779576), (294, 0.01589307805017212), (295, 0.005196997868191707), (296, 0.012476272259315174), (297, 0.04245736683729742), (298, 0.005786738924523822), (299, 0.005555898543472863), (300, 0.0), (301, 0.005721676021144159), (302, 0.03507366858878454), (303, 0.006518808881482105), (304, 0.0), (305, 0.00587619965402374), (306, 0.018518475021526988), (307, 0.0), (308, 0.018098147557691558), (309, 0.01143991252563193), (310, 0.01645563105313757), (311, 0.0048828072705243775), (312, 0.02116965554400036), (313, 0.0), (314, 0.031734333580494184), (315, 0.014183048687022047), (316, 0.005590405805134711), (317, 0.00758887749324077), (318, 0.005671851335570498), (319, 0.013801177620500028), (320, 0.006180531087418591), (321, 0.014347664400444689), (322, 0.02936460085238899), (323, 0.005523029487077311), (324, 0.012901409561008603), (325, 0.013141156287460102), (326, 0.0), (327, 0.03237828029828027), (328, 0.09548808503687393), (329, 0.015259004418742768), (330, 0.01371773241311046), (331, 0.00533773053418697), (332, 0.004584472325829551), (333, 0.022068054294873442), (334, 0.012740445368613209), (335, 0.0), (336, 0.012136286530416854), (337, 0.0), (338, 0.01783245057225844), (339, 0.0), (340, 0.0), (341, 0.02904156522522106), (342, 0.022195579285225194), (343, 0.0), (344, 0.016740539278534333), (345, 0.010121067998510739), (346, 0.010623558240627181), (347, 0.02140682426054408), (348, 0.005413371687662402), (349, 0.0), (350, 0.012337406548832535), (351, 0.004167208758750168), (352, 0.005047634705030094), (353, 0.0), (354, 0.019693259755019305), (355, 0.0), (356, 0.0280407388234487), (357, 0.029784690365626473), (358, 0.0), (359, 0.0), (360, 0.034829772799758206), (361, 0.005467795659862526), (362, 0.005618222685119963), (363, 0.005560527739547699), (364, 0.0), (365, 0.005841187466529123), (366, 0.019639701746669454), (367, 0.004880204522917556), (368, 0.041829217937872365), (369, 0.01642543282959692), (370, 0.025418857979793843), (371, 0.0), (372, 0.005193208999764647), (373, 0.0), (374, 0.0), (375, 0.006159116475965303), (376, 0.013962593086051404), (377, 0.005274441777976837), (378, 0.0), (379, 0.005405143157017643), (380, 0.02394535738180604), (381, 0.017399450220643924), (382, 0.0055682027249659635), (383, 0.004847980233364038), (384, 0.009301345901257592), (385, 0.026643445881083097), (386, 0.006580992719276482), (387, 0.0), (388, 0.02811747885789507), (389, 0.0), (390, 0.005724149533565119), (391, 0.0062722806302580635), (392, 0.005524661812010783), (393, 0.0), (394, 0.012131491207418032), (395, 0.0), (396, 0.010071727288320155), (397, 0.005590268996282184), (398, 0.005273419831453706), (399, 0.02332740208830106), (400, 0.015033204398756491), (401, 0.0054927276062975705), (402, 0.026865126688714196), (403, 0.009577380581360066), (404, 0.00519609832231593), (405, 0.014410981228357302), (406, 0.0), (407, 0.0132708616689026), (408, 0.015027349163057077), (409, 0.010196418450883205), (410, 0.012718831281923554), (411, 0.026232640330106173), (412, 0.008983228707593733), (413, 0.040971285789890566), (414, 0.0), (415, 0.037445141905770994), (416, 0.004766391358106058), (417, 0.06739117910319259), (418, 0.03508477310716832), (419, 0.0), (420, 0.0), (421, 0.004207217858762331), (422, 0.0), (423, 0.0), (424, 0.013006805651570322), (425, 0.013024738301106596), (426, 0.005491341456723808), (427, 0.010689537279831945), (428, 0.010108526543440001), (429, 0.010881975331127444), (430, 0.0), (431, 0.0), (432, 0.04466219204268418), (433, 0.006969670168994079), (434, 0.009721658630449556), (435, 0.03165369226482869), (436, 0.017899490271175045), (437, 0.0), (438, 0.0), (439, 0.029631226153805507), (440, 0.0), (441, 0.009349424415298666), (442, 0.005106016906206314), (443, 0.01782833978396889), (444, 0.026318871317184817), (445, 0.007505465003742102), (446, 0.0), (447, 0.01901520017122128), (448, 0.006500835855266123), (449, 0.0), (450, 0.011065930504074941), (451, 0.014251049302589032), (452, 0.03551864381678218), (453, 0.0), (454, 0.005080084635972818), (455, 0.0), (456, 0.020162077100703415), (457, 0.013807917903784373), (458, 0.01857592459220379), (459, 0.0), (460, 0.0345398019768716), (461, 0.045229633817631454), (462, 0.0), (463, 0.007693790160922468), (464, 0.008644976729030484), (465, 0.0), (466, 0.008249632508419862), (467, 0.0059265517450351815), (468, 0.005603062554454608), (469, 0.016631517131422878), (470, 0.0), (471, 0.0), (472, 0.014847581084163383), (473, 0.005137803859987122), (474, 0.00548991341256003), (475, 0.01848972102743249), (476, 0.0), (477, 0.009433988596834135), (478, 0.0), (479, 0.03547762914478329), (480, 0.0), (481, 0.0), (482, 0.016716538776301526), (483, 0.016207070002222945), (484, 0.0), (485, 0.020269581982488745), (486, 0.013315606928699557), (487, 0.0), (488, 0.0), (489, 0.0), (490, 0.0), (491, 0.013692294894005464), (492, 0.018937304494933624), (493, 0.0), (494, 0.015473120471605352), (495, 0.010506023685541665), (496, 0.019735631991343212), (497, 0.014801371339641357), (498, 0.011331948247652317), (499, 0.0), (500, 0.040601587160074525), (501, 0.09940222306238422), (502, 0.010580784847458516), (503, 0.005194390647341082), (504, 0.010950533410335481), (505, 0.005063724404488345), (506, 0.03094054271913758), (507, 0.010479104715502058), (508, 0.011828096717225418), (509, 0.0), (510, 0.01538061612183058), (511, 0.02698371647588799), (512, 0.006841527057184675), (513, 0.006367939392491565), (514, 0.006664073748541279), (515, 0.019881572999818718), (516, 0.030132015094757672), (517, 0.01521284485159095), (518, 0.0), (519, 0.005389906256939607), (520, 0.058589537409133724), (521, 0.03578554573572224), (522, 0.0), (523, 0.005625151685564405), (524, 0.010157953177589362), (525, 0.005685565886793816), (526, 0.0), (527, 0.0), (528, 0.019968092963880586), (529, 0.026196653826788183), (530, 0.03567843505187294), (531, 0.005973170884941556), (532, 0.025807775466401936), (533, 0.018522778779874592), (534, 0.033957650390384696), (535, 0.00832071878192441), (536, 0.0), (537, 0.006656309626106682), (538, 0.014221309709110399), (539, 0.00598225391584701), (540, 0.016110758143312674), (541, 0.0), (542, 0.02542336321532873), (543, 0.010759810967229921), (544, 0.010883588000367012), (545, 0.03570939451095975), (546, 0.004942656236037739), (547, 0.008815331174638721), (548, 0.005543081456933152), (549, 0.005208253824729467), (550, 0.0064960447617894886), (551, 0.0), (552, 0.0), (553, 0.035088234873214906), (554, 0.005902539916422133), (555, 0.023394054908654198), (556, 0.008575351171556228), (557, 0.0), (558, 0.0), (559, 0.0), (560, 0.011711285235297526), (561, 0.04935048523796224), (562, 0.021134641260407892), (563, 0.01567374563263195), (564, 0.0), (565, 0.0054408489386336195), (566, 0.01847525868783844), (567, 0.07627039568915629), (568, 0.03932444212343189), (569, 0.018433328743756385), (570, 0.007711097524813546), (571, 0.0), (572, 0.005993399123525343), (573, 0.01577238126454091), (574, 0.0), (575, 0.0050736336701340595), (576, 0.0), (577, 0.01283966491038117), (578, 0.030042763805688183), (579, 0.0053934644132668744), (580, 0.016401270282065797), (581, 0.0), (582, 0.006195485761929738), (583, 0.017498892080562996), (584, 0.010931522419803429), (585, 0.0901491516032855), (586, 0.005274422671158072), (587, 0.0), (588, 0.0), (589, 0.004930054537654263), (590, 0.0), (591, 0.0), (592, 0.0060909799133338945), (593, 0.0), (594, 0.010323244124896115), (595, 0.006401480669157925), (596, 0.024688068635173078), (597, 0.014787810051377505), (598, 0.0), (599, 0.0367977032297722), (600, 0.03598387598046617), (601, 0.005326063628796094), (602, 0.005218979612040848), (603, 0.0), (604, 0.0), (605, 0.004886403799642713), (606, 0.016641696841322978), (607, 0.0), (608, 0.0), (609, 0.024759184915649962), (610, 0.005515590905559394), (611, 0.0), (612, 0.009259633284061118), (613, 0.021569293120429118), (614, 0.01329544669993815), (615, 0.005992021663519093), (616, 0.0), (617, 0.013991718508243935), (618, 0.0053550523653402475), (619, 0.005857347363318895), (620, 0.014531268709441627), (621, 0.01231949907322686), (622, 0.12033317057621715), (623, 0.09726063749379724), (624, 0.0), (625, 0.0), (626, 0.0), (627, 0.021243747013854838), (628, 0.0), (629, 0.053673382327169256), (630, 0.005531198039962495), (631, 0.08705399504583944), (632, 0.010436321342352556), (633, 0.03982546094218721), (634, 0.024029616939098036), (635, 0.018630585926560243), (636, 0.016276304519071458), (637, 0.008634075653157972), (638, 0.007804090429357941), (639, 0.009798767389753521), (640, 0.02239471257028778), (641, 0.0), (642, 0.007453781592039769), (643, 0.02969463559866157), (644, 0.03581724597786215), (645, 0.007174430725755256), (646, 0.0), (647, 0.0), (648, 0.0), (649, 0.005011953002911857), (650, 0.0), (651, 0.0), (652, 0.041424379454763766), (653, 0.024095490642164073), (654, 0.027316254191170727), (655, 0.008038013252931329), (656, 0.015116293554404012), (657, 0.014717831999147625), (658, 0.03404501372757274), (659, 0.03051459842937603), (660, 0.0161371063432962), (661, 0.005686811766539207), (662, 0.013358616920714533), (663, 0.0), (664, 0.009671972721685424), (665, 0.018715786193686655), (666, 0.01273586211489399), (667, 0.01680890047997548), (668, 0.017475378312410472), (669, 0.015105290138464154), (670, 0.00721910758180912), (671, 0.005338146810814716), (672, 0.010732309442232371), (673, 0.0064323322672199265), (674, 0.006085756555228885), (675, 0.0352532589275707), (676, 0.025293248218515724), (677, 0.022473221151845454), (678, 0.005771581461288414), (679, 0.02681332322991816), (680, 0.0), (681, 0.0), (682, 0.018473918467805658), (683, 0.040670558230764466), (684, 0.02567612090053756), (685, 0.005636735105478851), (686, 0.0), (687, 0.04909615367064105), (688, 0.01590926026342629), (689, 0.008364179061815372), (690, 0.024403847829625343), (691, 0.013401379369635168), (692, 0.04242126255961644), (693, 0.0), (694, 0.0), (695, 0.009278329130695128), (696, 0.00860659435720517), (697, 0.005285150774498864), (698, 0.0), (699, 0.009782208733590779), (700, 0.047697002084722336), (701, 0.03557206541556381), (702, 0.013258463572294089), (703, 0.018627642329397065), (704, 0.005839475626442869), (705, 0.0), (706, 0.013838236761217572), (707, 0.004470795918365162), (708, 0.05574223586644783), (709, 0.014201827501250994), (710, 0.008015015802705557), (711, 0.0), (712, 0.011942709434659186), (713, 0.008184607354536525), (714, 0.0060561016300640065), (715, 0.006476794801685907), (716, 0.006654825473290174), (717, 0.00577045732534173), (718, 0.0), (719, 0.039240625444800975), (720, 0.005255832762658685), (721, 0.02528224635127956), (722, 0.0049658026098233065), (723, 0.019175454455711557), (724, 0.0), (725, 0.02280004369753288), (726, 0.028165462104707283), (727, 0.03220843532021467), (728, 0.006378204237071374), (729, 0.023810703980560493), (730, 0.0), (731, 0.015878927217955287), (732, 0.0), (733, 0.026064816939193235), (734, 0.0), (735, 0.007610838198173089), (736, 0.010780157411267373), (737, 0.03394972822532251), (738, 0.023377788402335592), (739, 0.0), (740, 0.009515182010653133), (741, 0.02466848774227336), (742, 0.03280154736264343), (743, 0.008920859242980837), (744, 0.041362466129189535), (745, 0.004789524364076101), (746, 0.02378502787870639), (747, 0.023157487985547617), (748, 0.0), (749, 0.017009599545431697), (750, 0.0), (751, 0.006121071092818233), (752, 0.010840011790631687), (753, 0.02824917290391714), (754, 0.005792672284129489), (755, 0.0), (756, 0.010190984058628179), (757, 0.025846002101193248), (758, 0.03411036506549713), (759, 0.005055763766701516), (760, 0.03702871264629838), (761, 0.0), (762, 0.009590027899148838), (763, 0.01592866670672266), (764, 0.007323806809047299), (765, 0.016609195451955917), (766, 0.0), (767, 0.022390615214452268), (768, 0.04268917394651891), (769, 0.005487175663820006), (770, 0.029744306890699103), (771, 0.0), (772, 0.0), (773, 0.03338092932361382), (774, 0.0), (775, 0.008667146693437842), (776, 0.00974115373438717), (777, 0.0), (778, 0.010905745394529034), (779, 0.010161224060392495), (780, 0.015722204974350194), (781, 0.029108121130660733), (782, 0.01583136706936143), (783, 0.0), (784, 0.005672524842645871), (785, 0.02460078165080437), (786, 0.011409994184496786), (787, 0.012298884076027115), (788, 0.009919631965301597), (789, 0.008911121476806939), (790, 0.03052966332142574), (791, 0.0), (792, 0.005827861897784516), (793, 0.011566697933269997), (794, 0.0), (795, 0.037060980859244794), (796, 0.0), (797, 0.0248775977572736), (798, 0.010518748559684385), (799, 0.010184615230950185), (800, 0.005354113277510984), (801, 0.05190246728797793), (802, 0.0887249099996884), (803, 0.020051460446591438), (804, 0.005481016386430243), (805, 0.0), (806, 0.010319519938463202), (807, 0.019668082359104624), (808, 0.0), (809, 0.01492614104582515), (810, 0.05448261358871822), (811, 0.03784671413420096), (812, 0.0), (813, 0.03099560746041078), (814, 0.008573417910389193), (815, 0.0), (816, 0.009063757661888048), (817, 0.0), (818, 0.0), (819, 0.0), (820, 0.01756192425893327), (821, 0.01147372312564838), (822, 0.00840963327588064), (823, 0.0), (824, 0.009701619885745336), (825, 0.006068754475307519), (826, 0.0064493521627901436), (827, 0.02359959318087542), (828, 0.009888914811262965), (829, 0.022687625073056827), (830, 0.0), (831, 0.0), (832, 0.01598042664292415), (833, 0.00991315699720132), (834, 0.02368609049462152), (835, 0.0), (836, 0.004615825908505434), (837, 0.0), (838, 0.0), (839, 0.0), (840, 0.016122187678782218), (841, 0.0), (842, 0.025646090334663883), (843, 0.0), (844, 0.0), (845, 0.014938936556058935), (846, 0.008267763138265907), (847, 0.0061785657427165085), (848, 0.006403065179719595), (849, 0.011713478677597602), (850, 0.0), (851, 0.010172446357346475), (852, 0.01601434277331006), (853, 0.025491004915711678), (854, 0.01945648080608743), (855, 0.0), (856, 0.02435821387570798), (857, 0.0), (858, 0.0), (859, 0.01352539067524983), (860, 0.01200692944907954), (861, 0.0), (862, 0.013795888122502563), (863, 0.0), (864, 0.01587288701541154), (865, 0.00903727708410073), (866, 0.02080417138924601), (867, 0.005237108961042532), (868, 0.005683390790247476), (869, 0.016479219843815653), (870, 0.030899354118884947), (871, 0.0), (872, 0.03731770799690456), (873, 0.005689729131596483), (874, 0.04010200573842966), (875, 0.006381175311167537), (876, 0.0), (877, 0.0), (878, 0.021004894530938317), (879, 0.016370136939739138), (880, 0.015298868994034523), (881, 0.012951501177885696), (882, 0.0), (883, 0.010436156831465686), (884, 0.005505337917977313), (885, 0.009733038469805003), (886, 0.023261548781765215), (887, 0.0), (888, 0.0), (889, 0.030708188426163116), (890, 0.01130840941603475), (891, 0.021240902431231848), (892, 0.00758916157454232), (893, 0.06788159827455938), (894, 0.03875552219421438), (895, 0.018094969563565495), (896, 0.20526685541173822), (897, 0.005589287179693823), (898, 0.017292017394647488), (899, 0.00508846883663988), (900, 0.0), (901, 0.0), (902, 0.022122675408694763), (903, 0.0055581430996480405), (904, 0.02640892481229075), (905, 0.04936478173737599), (906, 0.0), (907, 0.010176856622974018), (908, 1.0000000000000002), (909, 0.0), (910, 0.09235243581056429), (911, 0.01599637362351994), (912, 0.03356219597101977), (913, 0.012107969383551468), (914, 0.0), (915, 0.020739530819011146), (916, 0.014403540176577759), (917, 0.0), (918, 0.04721896545279399), (919, 0.01262532358914003), (920, 0.007881786475660001), (921, 0.0), (922, 0.0), (923, 0.005307624594254228), (924, 0.004691993930915049), (925, 0.006168667940432683), (926, 0.010894903789109019), (927, 0.015790156108564282), (928, 0.011849663645116741), (929, 0.05386488463348095), (930, 0.005786231927524296), (931, 0.04714036016923424), (932, 0.014177463151273969), (933, 0.0058342359795578985), (934, 0.010201814807375538), (935, 0.015964115572604427), (936, 0.0), (937, 0.05807553573979339), (938, 0.019114881371087834), (939, 0.037414693668009785), (940, 0.0036852979482577715), (941, 0.005437091244485979), (942, 0.008533898068368665), (943, 0.0), (944, 0.019834541620191888), (945, 0.016469588297273352), (946, 0.02010901530066479), (947, 0.023512011885471605), (948, 0.03347490836833641), (949, 0.0), (950, 0.0), (951, 0.004751590195425429), (952, 0.016683438807872625), (953, 0.024303002936178392), (954, 0.005755838695231121), (955, 0.03299022719755061), (956, 0.015496650767383402), (957, 0.004995408408424722), (958, 0.0), (959, 0.0), (960, 0.031069384192071094), (961, 0.005616480128822568), (962, 0.010688669984715123), (963, 0.010797678722605786), (964, 0.004484901965624371), (965, 0.0061922616990030465), (966, 0.03983154744983332), (967, 0.0), (968, 0.0), (969, 0.005221202454820433), (970, 0.0046460166965847085), (971, 0.019635815311710273), (972, 0.004113799065932514), (973, 0.010567431727618466), (974, 0.010883591677955877), (975, 0.0), (976, 0.01076516687473995), (977, 0.0), (978, 0.009669444545136591), (979, 0.01410057115943064), (980, 0.01617140520064387), (981, 0.04263445395376984), (982, 0.01152470146628612), (983, 0.005262507192402683), (984, 0.01295937973024059), (985, 0.006022222026129319), (986, 0.01745157800826713), (987, 0.008937016753746066), (988, 0.015425100951742446), (989, 0.010037590635763871), (990, 0.011913671741688642), (991, 0.0), (992, 0.0064455868258342834), (993, 0.020776629536888712), (994, 0.01678001258181562), (995, 0.034478348411633754), (996, 0.015557633273822466), (997, 0.005467607060820016), (998, 0.005952992796115695), (999, 0.005919595939804449), (1000, 0.02007757349504077), (1001, 0.016260196840120637), (1002, 0.02060329048045493), (1003, 0.0), (1004, 0.0), (1005, 0.013543381115946117), (1006, 0.005737476027534898), (1007, 0.012249160735348649), (1008, 0.004746683080172682), (1009, 0.00799473934100177), (1010, 0.08742982801265714), (1011, 0.012649470600420437), (1012, 0.005926423976151219), (1013, 0.005481379363860757), (1014, 0.00688668855045596), (1015, 0.006253018679010195), (1016, 0.0), (1017, 0.04458430347482217), (1018, 0.013789659810812094), (1019, 0.0), (1020, 0.0), (1021, 0.0), (1022, 0.010645928099566604), (1023, 0.006775440641259166), (1024, 0.02254881792745118), (1025, 0.0098607172241457), (1026, 0.008334191322138057), (1027, 0.0), (1028, 0.0), (1029, 0.010311734619833507), (1030, 0.0), (1031, 0.006289329855634566), (1032, 0.0), (1033, 0.025196324994713255), (1034, 0.008077769835077735), (1035, 0.024314940407704537), (1036, 0.020065059701669774), (1037, 0.0), (1038, 0.004798609366486839), (1039, 0.009735332527804084), (1040, 0.0045760968001703995), (1041, 0.01831634614688994), (1042, 0.007292251205362207), (1043, 0.0), (1044, 0.014176013112987967), (1045, 0.00615748897891573), (1046, 0.009992294605850952), (1047, 0.0053058580318797845), (1048, 0.005646296357716208), (1049, 0.006161670837074947), (1050, 0.023323962112953827), (1051, 0.0), (1052, 0.019883407538532297), (1053, 0.012293859228416023), (1054, 0.010648696029222752), (1055, 0.0), (1056, 0.0061881748983399045), (1057, 0.0), (1058, 0.012369631763128374), (1059, 0.005414764262719117), (1060, 0.005339042012114656), (1061, 0.02259910684222419), (1062, 0.014717739077034792), (1063, 0.030599473654323087), (1064, 0.032056750665566264), (1065, 0.00561460658095426), (1066, 0.01087191521453154), (1067, 0.0), (1068, 0.01522623679542717), (1069, 0.0), (1070, 0.0), (1071, 0.01727665388133548), (1072, 0.0), (1073, 0.00495965887342481), (1074, 0.02120087266319147), (1075, 0.0), (1076, 0.013554619905951163), (1077, 0.005574545261103671), (1078, 0.00448680974320532), (1079, 0.01576392008818321), (1080, 0.013804047395524743), (1081, 0.0), (1082, 0.005743150122794655), (1083, 0.016408972374115243), (1084, 0.013176025570406622), (1085, 0.005453184004880254), (1086, 0.05783336131843373), (1087, 0.010849289912107919), (1088, 0.004525395688845175), (1089, 0.0), (1090, 0.021741315961859506), (1091, 0.006621448182278021), (1092, 0.005471086506364651), (1093, 0.0), (1094, 0.005369978392130928), (1095, 0.024341623896248707), (1096, 0.005776132796516177), (1097, 0.0), (1098, 0.0), (1099, 0.012246997253764635), (1100, 0.005235743614582539), (1101, 0.023135123348700076), (1102, 0.0), (1103, 0.0), (1104, 0.0059054947329304445), (1105, 0.011210050414153055), (1106, 0.015472186503334096), (1107, 0.014188890663125979), (1108, 0.01164795568088514), (1109, 0.017816560231993333), (1110, 0.0), (1111, 0.01153762920868314), (1112, 0.005156223325057857), (1113, 0.01622172361443047), (1114, 0.0050676729674810055), (1115, 0.0185619901992986), (1116, 0.019729958413323527), (1117, 0.0050623774385900756), (1118, 0.04741864777081663), (1119, 0.020874338595016532), (1120, 0.004805888473500075), (1121, 0.0), (1122, 0.030713016021573405), (1123, 0.0), (1124, 0.08161859162593527), (1125, 0.010873483462868453), (1126, 0.005145450446211436), (1127, 0.0060733830363291635), (1128, 0.03255991604201871), (1129, 0.011351738472938694), (1130, 0.0134941890100967), (1131, 0.02973578325190978), (1132, 0.025158471075497093), (1133, 0.0), (1134, 0.005359202657644175), (1135, 0.005766906254408972), (1136, 0.00492140695041091), (1137, 0.030140459030972695), (1138, 0.021658076280616282), (1139, 0.023102112542218303), (1140, 0.02221808115591816), (1141, 0.01795943039896551), (1142, 0.005814922956829931), (1143, 0.0), (1144, 0.0), (1145, 0.0), (1146, 0.005596099795640771), (1147, 0.0), (1148, 0.011828126606712529), (1149, 0.0), (1150, 0.006238960810987492), (1151, 0.005965453827740063), (1152, 0.0), (1153, 0.008373866407958055), (1154, 0.08076129128179539), (1155, 0.04107684331121779), (1156, 0.0), (1157, 0.017680853826636755), (1158, 0.0), (1159, 0.0), (1160, 0.010381522681755151), (1161, 0.0), (1162, 0.031338605213905066), (1163, 0.0), (1164, 0.0053593256934748685), (1165, 0.005370814977066899), (1166, 0.00531300335094365), (1167, 0.024636053761566468), (1168, 0.03341222969400246), (1169, 0.024248674952308476), (1170, 0.005166692557469272), (1171, 0.005077044472919895), (1172, 0.0), (1173, 0.015511286029717306), (1174, 0.006416085310717878), (1175, 0.015308366702635284), (1176, 0.0), (1177, 0.0), (1178, 0.0047460475872348595), (1179, 0.02728827529478508), (1180, 0.007819574566211358), (1181, 0.0), (1182, 0.0), (1183, 0.01563107289561705), (1184, 0.029767209013150824), (1185, 0.016857069530743396), (1186, 0.00760609735873813), (1187, 0.006122583163189701), (1188, 0.0), (1189, 0.0), (1190, 0.005106524435030436), (1191, 0.01956991638696192), (1192, 0.02732026561097675), (1193, 0.0), (1194, 0.022703261368585956), (1195, 0.005687310666309432), (1196, 0.033192748284454995), (1197, 0.04322173567269172), (1198, 0.00531328456941498), (1199, 0.0046883139593455175), (1200, 0.05477264968421448), (1201, 0.005742552625874244), (1202, 0.0), (1203, 0.004920093895973824), (1204, 0.005161945270169986), (1205, 0.00549923820913405), (1206, 0.0), (1207, 0.013989705219364334), (1208, 0.013138601969256593), (1209, 0.0), (1210, 0.02091338699114605), (1211, 0.005098700608334627), (1212, 0.009664232463795493), (1213, 0.004661996908068597), (1214, 0.01895732550062385), (1215, 0.004771282163792704), (1216, 0.01964022937195107), (1217, 0.0732049150228172), (1218, 0.0), (1219, 0.007741309045686437), (1220, 0.0), (1221, 0.01906949257350303), (1222, 0.004368035557847645), (1223, 0.03989702657503108), (1224, 0.01662454861142889), (1225, 0.015489943647166049), (1226, 0.029600245569541238), (1227, 0.0), (1228, 0.025437614688949523), (1229, 0.047989385340267934), (1230, 0.015775896417678865), (1231, 0.015133169070444444), (1232, 0.015940537813714482), (1233, 0.02477359986817241), (1234, 0.04799955262900006), (1235, 0.028391341673915185), (1236, 0.009519844773433001), (1237, 0.02932922446887884), (1238, 0.0051843266114204945), (1239, 0.00553493929930018), (1240, 0.006762273032626498), (1241, 0.014708195956070274), (1242, 0.0), (1243, 0.005766744244755636), (1244, 0.006178460192622651), (1245, 0.014832131862865505), (1246, 0.005720851712206558), (1247, 0.038408800059633624), (1248, 0.010119146151619256), (1249, 0.019931521889105526), (1250, 0.08061919748565075), (1251, 0.0046610216036533595), (1252, 0.032631350666204914), (1253, 0.005834932321481372), (1254, 0.017899110091872672), (1255, 0.00808343680555872), (1256, 0.04310977575410522), (1257, 0.019741673047466157), (1258, 0.007323128328804291), (1259, 0.015803141821574267), (1260, 0.005760084269378273), (1261, 0.0050398123830485055), (1262, 0.01182785240351414), (1263, 0.005856752925469452), (1264, 0.0), (1265, 0.0), (1266, 0.006298068816653012), (1267, 0.02766693279017552), (1268, 0.025389806851826263), (1269, 0.006054918239133813), (1270, 0.012921204361195454), (1271, 0.0), (1272, 0.0), (1273, 0.005506927780299668), (1274, 0.005812161768386329), (1275, 0.011593133978344562), (1276, 0.012336741338792723), (1277, 0.004150440546723306), (1278, 0.012703332934325164), (1279, 0.011785983561690125), (1280, 0.03274606438189116), (1281, 0.005434997978333231), (1282, 0.011563231860524879), (1283, 0.0), (1284, 0.01338585477469602), (1285, 0.005989787983368233), (1286, 0.02796557553978822), (1287, 0.0), (1288, 0.0), (1289, 0.0), (1290, 0.014585343955692897), (1291, 0.015245696137010368), (1292, 0.014670832891695124), (1293, 0.005808725407275854), (1294, 0.016376437960206016), (1295, 0.015269510815735588), (1296, 0.036460097034188566), (1297, 0.020141094660309746), (1298, 0.005190077732333037), (1299, 0.0), (1300, 0.020241553982213223), (1301, 0.009917002006197044), (1302, 0.06342344796248882), (1303, 0.012880105877765525), (1304, 0.024467299205604233), (1305, 0.05385011702875724), (1306, 0.03325678205230201), (1307, 0.025652212788196647), (1308, 0.01796043423541288), (1309, 0.021552155739808003), (1310, 0.010454765749833924), (1311, 0.0), (1312, 0.03738330086193794), (1313, 0.0), (1314, 0.03557732088195064), (1315, 0.005867812573306221), (1316, 0.0), (1317, 0.020330053566971606), (1318, 0.007585657399564498), (1319, 0.01099062899202014), (1320, 0.017858155315161203), (1321, 0.03008093598297004), (1322, 0.006124934883342955), (1323, 0.004852132412710175), (1324, 0.0), (1325, 0.017772534697081118), (1326, 0.004980147832579493), (1327, 0.004947040337685058), (1328, 0.006424794956856761), (1329, 0.021011516083980043), (1330, 0.013796681501301505), (1331, 0.0), (1332, 0.006844189999056101), (1333, 0.026539187669754733), (1334, 0.010350769174654042), (1335, 0.014858625242715242), (1336, 0.005439614682984949), (1337, 0.021226924925177512), (1338, 0.011492015992787877), (1339, 0.010678009672680622), (1340, 0.004878781988302837), (1341, 0.01851811590786915), (1342, 0.0), (1343, 0.018665700315430685), (1344, 0.023935191478632357), (1345, 0.0053436817104936495), (1346, 0.012091607459353376), (1347, 0.0), (1348, 0.019399200313922515), (1349, 0.006090252805364671), (1350, 0.006416293176108481), (1351, 0.0102996816710819), (1352, 0.05260927249418033), (1353, 0.029124719578690898), (1354, 0.031173545983005226), (1355, 0.0), (1356, 0.07127311009810387), (1357, 0.013617629758422945), (1358, 0.0385773869236916), (1359, 0.03595591765578281), (1360, 0.03033404358318845), (1361, 0.005391620258001851), (1362, 0.003912438861126345), (1363, 0.00506257905592448), (1364, 0.005552987585113068), (1365, 0.01680634492323472), (1366, 0.005420305411602066), (1367, 0.004376437094677851), (1368, 0.015883909660333585), (1369, 0.01825651521235681), (1370, 0.004537709049623023), (1371, 0.01128935598915492), (1372, 0.055350367344370516), (1373, 0.010657674574211715), (1374, 0.0), (1375, 0.014918174286522387), (1376, 0.0), (1377, 0.04019643634563523), (1378, 0.01577975340749082), (1379, 0.01998719860744296), (1380, 0.006278950393832333), (1381, 0.031683161034610774), (1382, 0.01448211281371222), (1383, 0.0), (1384, 0.04459993453067245), (1385, 0.03846921066915712), (1386, 0.021397049059351057), (1387, 0.022057752716587775), (1388, 0.07629246261304008), (1389, 0.0), (1390, 0.005875339868082808), (1391, 0.017117632069042973), (1392, 0.009528819469668222), (1393, 0.006406451556371529), (1394, 0.009335005232890782), (1395, 0.024259995234410678), (1396, 0.011768688704993348), (1397, 0.004757619977052252), (1398, 0.0069442796829713395), (1399, 0.028398632542108015), (1400, 0.016569749573694156), (1401, 0.0), (1402, 0.03775925360472399), (1403, 0.004053060154921485), (1404, 0.0482379660901275), (1405, 0.0313485063808805), (1406, 0.016257105975959384), (1407, 0.0), (1408, 0.0051041990079776205), (1409, 0.0056701843408858005), (1410, 0.005289969148211944), (1411, 0.019581676308923927), (1412, 0.0337638202844594), (1413, 0.011851168390431373), (1414, 0.0), (1415, 0.0), (1416, 0.008196247307895223), (1417, 0.012906079915166173), (1418, 0.009053375538951835), (1419, 0.01656548806595137), (1420, 0.031717933210976844), (1421, 0.008357924898024543), (1422, 0.020231103893239625), (1423, 0.01918681528901274), (1424, 0.006271073265704472), (1425, 0.008268107786331282), (1426, 0.0), (1427, 0.004804615610601389), (1428, 0.03737764680822385), (1429, 0.018907930220790452), (1430, 0.005185898974158831), (1431, 0.013720007757694674), (1432, 0.023069043172125783), (1433, 0.0), (1434, 0.014484779950312858), (1435, 0.008709056404815807), (1436, 0.022283078689809978), (1437, 0.006993554630588442), (1438, 0.0), (1439, 0.0), (1440, 0.016513112099546118), (1441, 0.0), (1442, 0.026275572870038257), (1443, 0.011820418439493392), (1444, 0.02559425888877266), (1445, 0.005470753783834979), (1446, 0.005336063754003377), (1447, 0.011018615544002932), (1448, 0.0), (1449, 0.0), (1450, 0.0), (1451, 0.005204677985286861), (1452, 0.0), (1453, 0.013755409046780758), (1454, 0.006393615765391678), (1455, 0.040301811542660326), (1456, 0.012817423480200249), (1457, 0.01312107323195452), (1458, 0.005344037035670869), (1459, 0.01965349440738985), (1460, 0.006828155234758189), (1461, 0.019552317043663458), (1462, 0.02702657136519126), (1463, 0.009011047349647012), (1464, 0.022549188340222404), (1465, 0.009424679379859233), (1466, 0.006924645629116083), (1467, 0.0318298609934405), (1468, 0.015556619906019626), (1469, 0.011465309363071637), (1470, 0.0), (1471, 0.0162906058397973), (1472, 0.01932084191620222), (1473, 0.0), (1474, 0.11242276610781704), (1475, 0.0), (1476, 0.013700454468584733), (1477, 0.009816959935255106), (1478, 0.0057159216689909465), (1479, 0.005634117187327141), (1480, 0.028391797198095623), (1481, 0.014630315787750729), (1482, 0.03201288301452594), (1483, 0.00591752144228232), (1484, 0.0061752389048842764), (1485, 0.03004018939631632), (1486, 0.012345773940246938), (1487, 0.03747733378775935), (1488, 0.03504393900494873), (1489, 0.04423350270434753), (1490, 0.021025444082636607), (1491, 0.005866348773257553), (1492, 0.007426643141152025), (1493, 0.0052264913337591755), (1494, 0.016494562203791703), (1495, 0.04242172557366572), (1496, 0.016384378628821104), (1497, 0.0), (1498, 0.018461114226412396), (1499, 0.024195137611507926), (1500, 0.010799511109982673), (1501, 0.010786941004121257), (1502, 0.006174982133115325), (1503, 0.0050619559806936755), (1504, 0.00614708522457963), (1505, 0.005395740254660229), (1506, 0.06087958069142983), (1507, 0.00600312233086843), (1508, 0.10936988369370446), (1509, 0.030715225129590098), (1510, 0.039452729479894484), (1511, 0.01248796191752802), (1512, 0.006092593780714391), (1513, 0.012088677556435792), (1514, 0.0), (1515, 0.011424066498369844), (1516, 0.011808516350542652), (1517, 0.011127828175895178), (1518, 0.014833782914775984), (1519, 0.0), (1520, 0.011556155669192601), (1521, 0.009895221139072355), (1522, 0.017200929259636177), (1523, 0.02454518730120714), (1524, 0.019805963667813665), (1525, 0.010907915572627536), (1526, 0.005464048664682392), (1527, 0.016086761550197382), (1528, 0.004807541003772915), (1529, 0.0), (1530, 0.07613098660761576), (1531, 0.0), (1532, 0.0), (1533, 0.005277083100403418), (1534, 0.04002537131685391), (1535, 0.009758182556110634), (1536, 0.00605198924236033), (1537, 0.027108371167192485), (1538, 0.0), (1539, 0.014406665694824326), (1540, 0.0070240113200634915), (1541, 0.0), (1542, 0.01584278093717291), (1543, 0.012585438794142534), (1544, 0.01578973729067675), (1545, 0.0057798875517003166), (1546, 0.07583928441768972), (1547, 0.007039249160373493), (1548, 0.0069001311319065815), (1549, 0.005348145112488317), (1550, 0.0), (1551, 0.005514109199012043), (1552, 0.010927563781168326), (1553, 0.02942352685762642), (1554, 0.015775979404951887), (1555, 0.005116305596340324), (1556, 0.021615823480921385), (1557, 0.08803819140084018), (1558, 0.0), (1559, 0.004760438214667668), (1560, 0.01277278720185527), (1561, 0.00840751485485151), (1562, 0.014302663898601216), (1563, 0.0), (1564, 0.012190252365263707), (1565, 0.0), (1566, 0.0), (1567, 0.010210217655572208), (1568, 0.005067282788469043), (1569, 0.004629954635822249), (1570, 0.054040575457294814), (1571, 0.012217142845450349), (1572, 0.04635040859136505), (1573, 0.015516508646582671), (1574, 0.0), (1575, 0.0), (1576, 0.004975967874899905), (1577, 0.011899340460502138), (1578, 0.0), (1579, 0.08868442113987893), (1580, 0.0), (1581, 0.021869982705988743), (1582, 0.03267461647567076), (1583, 0.0), (1584, 0.015156598671457749), (1585, 0.021752062231228553), (1586, 0.0180872997114632), (1587, 0.0491823653973012), (1588, 0.015630605473519348), (1589, 0.013788092613479425), (1590, 0.0), (1591, 0.01843754727530309), (1592, 0.03689993607697899), (1593, 0.0), (1594, 0.017553426340741737), (1595, 0.024026822469487036), (1596, 0.005745898381035691), (1597, 0.013589170184625824), (1598, 0.005107014173116782), (1599, 0.00619679659099585), (1600, 0.0), (1601, 0.005881233716433731), (1602, 0.0), (1603, 0.0), (1604, 0.005945026927813181), (1605, 0.0), (1606, 0.0), (1607, 0.0), (1608, 0.01037594661666182), (1609, 0.0), (1610, 0.013307938308655957), (1611, 0.021217338797618064), (1612, 0.0), (1613, 0.011066664266869048), (1614, 0.022386869912813884), (1615, 0.006032130072842585), (1616, 0.004606383717627327), (1617, 0.005331458337511461), (1618, 0.005351245252655343), (1619, 0.005716654408658819), (1620, 0.005448904909232828), (1621, 0.010258696671171581), (1622, 0.01630466805395159), (1623, 0.021779832131112266), (1624, 0.0), (1625, 0.0), (1626, 0.004965918745555959), (1627, 0.019336607437947642), (1628, 0.0), (1629, 0.010388830936133426), (1630, 0.03448356586201489), (1631, 0.0), (1632, 0.0), (1633, 0.0), (1634, 0.04328211713871499), (1635, 0.0), (1636, 0.0), (1637, 0.006166961872825062), (1638, 0.020840404052610423), (1639, 0.030299401022673225), (1640, 0.012110574106622224), (1641, 0.0), (1642, 0.010181511328162609), (1643, 0.0), (1644, 0.0), (1645, 0.028170698648621692), (1646, 0.006963740512838995), (1647, 0.0), (1648, 0.00849494952130232), (1649, 0.013597921157481582), (1650, 0.010071681687439875), (1651, 0.03056913624340872), (1652, 0.004691666689227279), (1653, 0.005999143565752775), (1654, 0.008129090426893129), (1655, 0.0), (1656, 0.005807947355180466), (1657, 0.014112270461453564), (1658, 0.006095939693909109), (1659, 0.006413204052692559), (1660, 0.011162733987570558), (1661, 0.0), (1662, 0.019376230087607273), (1663, 0.0051686162140124545), (1664, 0.020276234113532247), (1665, 0.030942584049813607), (1666, 0.010757584328780665), (1667, 0.0), (1668, 0.010555555740496355), (1669, 0.029049861224287998), (1670, 0.016634870184855176), (1671, 0.03650643979497258), (1672, 0.0), (1673, 0.00814264601269891), (1674, 0.011614012038347162), (1675, 0.020699132413654422), (1676, 0.004271605115607673), (1677, 0.011180628837286256), (1678, 0.020122113935636787), (1679, 0.03729665224019868), (1680, 0.015268691461538093), (1681, 0.012964146861148731), (1682, 0.03563198202474817), (1683, 0.005499855269513061), (1684, 0.004727133314317355), (1685, 0.0), (1686, 0.0), (1687, 0.006489002577322382), (1688, 0.041320170936794756), (1689, 0.005622609412521403), (1690, 0.028994219459708696), (1691, 0.004637290442605754), (1692, 0.020275039332310382), (1693, 0.005143362383916246), (1694, 0.013714497023641723), (1695, 0.022090886444488013), (1696, 0.005901698369004068), (1697, 0.005383204643027675), (1698, 0.04764377935666679), (1699, 0.0), (1700, 0.016217261964110226), (1701, 0.01299008631001595), (1702, 0.0060243772413884015), (1703, 0.0), (1704, 0.005942021490361028), (1705, 0.1879547958603412), (1706, 0.00843500848418934), (1707, 0.039433258687120595), (1708, 0.006909333978209771), (1709, 0.028195223036185817), (1710, 0.03824356734285328), (1711, 0.0), (1712, 0.0), (1713, 0.007035921754146726), (1714, 0.07637356121663585), (1715, 0.004759658088371722), (1716, 0.011356107086568177), (1717, 0.0), (1718, 0.011464250909040838), (1719, 0.009705535850714639), (1720, 0.0), (1721, 0.011011738816285654), (1722, 0.027667316882605257), (1723, 0.0), (1724, 0.0), (1725, 0.09586573846798833), (1726, 0.010861314358807952), (1727, 0.022894668632910137), (1728, 0.02915810292122121), (1729, 0.027015013426013534), (1730, 0.0), (1731, 0.005560140922985996), (1732, 0.006373189584299237), (1733, 0.01183173276708921), (1734, 0.02226415446649233), (1735, 0.017294929565653597), (1736, 0.01755702204062583), (1737, 0.009013980130344663), (1738, 0.01054723802720722), (1739, 0.038101040700972304), (1740, 0.006059742934679767), (1741, 0.021038363968126285), (1742, 0.005317907788671128), (1743, 0.004660571581449498), (1744, 0.01308131430207739), (1745, 0.012861476791985921), (1746, 0.010063661224042507), (1747, 0.0), (1748, 0.0), (1749, 0.005877141603066899), (1750, 0.005100816677122917), (1751, 0.01097000726452322), (1752, 0.0), (1753, 0.0), (1754, 0.01138260160980485), (1755, 0.010861675467256773), (1756, 0.020332746414471026), (1757, 0.008466067259038099), (1758, 0.006239973053960263), (1759, 0.0104909340744051), (1760, 0.041542381960796654), (1761, 0.01626895896542288), (1762, 0.004958645910526442), (1763, 0.0), (1764, 0.017908513852623292), (1765, 0.06284315517057396), (1766, 0.00594843061775811), (1767, 0.04079434217186155), (1768, 0.01403918535721195), (1769, 0.005329551493456271), (1770, 0.0), (1771, 0.005113384559213597), (1772, 0.01032151905216903), (1773, 0.0), (1774, 0.007990406890304527), (1775, 0.0), (1776, 0.009640486525807913), (1777, 0.01750398679050204), (1778, 0.010229947445799543), (1779, 0.01633207864670382), (1780, 0.017003985645956874), (1781, 0.018718594338605704), (1782, 0.005313514313166961), (1783, 0.013736055862343697), (1784, 0.00973826241909918), (1785, 0.0), (1786, 0.0), (1787, 0.089797370931596), (1788, 0.026049800623821555), (1789, 0.005743072080397896), (1790, 0.018190473131172412), (1791, 0.018252764423466274), (1792, 0.006113544405248208), (1793, 0.019871264055931745), (1794, 0.01058968746844436), (1795, 0.04089428101726245), (1796, 0.020928176402220184), (1797, 0.02030580329400557), (1798, 0.029241362208885846), (1799, 0.018922846327964392), (1800, 0.0), (1801, 0.01325004630414687), (1802, 0.005138273954151416), (1803, 0.011381417416953803), (1804, 0.005159339020303963), (1805, 0.0), (1806, 0.01795062319073747), (1807, 0.0), (1808, 0.005045727091912188), (1809, 0.005444181525289405), (1810, 0.0), (1811, 0.015425007869118252), (1812, 0.02977535563018762), (1813, 0.0), (1814, 0.0), (1815, 0.018813768313178637), (1816, 0.046196659968463505), (1817, 0.01962599256839858), (1818, 0.018818884186224107), (1819, 0.021517635812652224), (1820, 0.0), (1821, 0.01646317385308173), (1822, 0.012297984684488625), (1823, 0.010543268105868924), (1824, 0.04570803981594549), (1825, 0.010622327131242225), (1826, 0.0), (1827, 0.012619669566579554), (1828, 0.005149610018727251), (1829, 0.01736987846494758), (1830, 0.04461491463933931), (1831, 0.024154347446340443), (1832, 0.010777346508856029), (1833, 0.01972738871385559), (1834, 0.0), (1835, 0.0), (1836, 0.005875312405034286), (1837, 0.0053218692633127205), (1838, 0.0), (1839, 0.05539772495733101), (1840, 0.03653517480338849), (1841, 0.012375906499933951), (1842, 0.005118029518793248), (1843, 0.027314262610936144), (1844, 0.0), (1845, 0.011769491959277817), (1846, 0.01431709839278566), (1847, 0.011495130367016285), (1848, 0.005743723095215378), (1849, 0.0), (1850, 0.016937199512354978), (1851, 0.011455666389276344), (1852, 0.015663713742811752), (1853, 0.017218701537342163), (1854, 0.009744200140495964), (1855, 0.05854067438284408), (1856, 0.0), (1857, 0.02963705140357345), (1858, 0.017107895817637282), (1859, 0.016410411894796268), (1860, 0.0), (1861, 0.01592961027525021), (1862, 0.0), (1863, 0.0), (1864, 0.014545749141567631), (1865, 0.0), (1866, 0.0), (1867, 0.013560102017873506), (1868, 0.0), (1869, 0.0), (1870, 0.005423912701856511), (1871, 0.004184331654263108), (1872, 0.0), (1873, 0.03125024029319482), (1874, 0.011037918240992607), (1875, 0.0), (1876, 0.02237269105050869), (1877, 0.004948689348026361), (1878, 0.01314414529270533), (1879, 0.029316530523288534), (1880, 0.005190617354351223), (1881, 0.017110224470108105), (1882, 0.0), (1883, 0.004226609227662792), (1884, 0.0), (1885, 0.0), (1886, 0.004943813999282051), (1887, 0.006218112678920532), (1888, 0.01570430029067249), (1889, 0.005376434368553625), (1890, 0.0), (1891, 0.008391985543893716), (1892, 0.0), (1893, 0.017096576110128776), (1894, 0.006549508886275979), (1895, 0.018800062914563886), (1896, 0.0), (1897, 0.017269122300091724), (1898, 0.0106935306265755), (1899, 0.03382891398028358), (1900, 0.020291844267624662), (1901, 0.006257428810330361), (1902, 0.01431884444975556), (1903, 0.009796606513857768), (1904, 0.006561482667483779), (1905, 0.0), (1906, 0.0), (1907, 0.030247732714444628), (1908, 0.005646141250832946), (1909, 0.0), (1910, 0.0047783023461972435), (1911, 0.0054048453839199975), (1912, 0.0051407136078869915), (1913, 0.013347167066283527), (1914, 0.019055525579232672), (1915, 0.019572120451328213), (1916, 0.0), (1917, 0.0), (1918, 0.009005209456090225), (1919, 0.02100307115519951), (1920, 0.0), (1921, 0.0), (1922, 0.010550157184582788), (1923, 0.015067066141224758), (1924, 0.026649440000111057), (1925, 0.028927185030599496), (1926, 0.005669853607572481), (1927, 0.0), (1928, 0.0), (1929, 0.0049578438242009895), (1930, 0.008895679322893842), (1931, 0.006161904014987621), (1932, 0.00908220046227503), (1933, 0.025088326945478894), (1934, 0.005403191833004317), (1935, 0.014832996131281778), (1936, 0.006078641704720508), (1937, 0.0161431253579171), (1938, 0.0), (1939, 0.014618210961824087), (1940, 0.062418130703095404), (1941, 0.012987863658090784), (1942, 0.010666425764773512), (1943, 0.029753056563116533), (1944, 0.0), (1945, 0.03930611204324373), (1946, 0.0), (1947, 0.02809974280320048), (1948, 0.03679829409401278), (1949, 0.03350960230893032), (1950, 0.011762820644682249), (1951, 0.016931529372922517), (1952, 0.006015034923559168), (1953, 0.0), (1954, 0.012038629428728718), (1955, 0.00560944428488334), (1956, 0.005382868759056655), (1957, 0.009299563677141312), (1958, 0.03302307149211586), (1959, 0.0), (1960, 0.0), (1961, 0.010887355184520497), (1962, 0.0), (1963, 0.011604601040863294), (1964, 0.1026071712064156), (1965, 0.030988329212646118), (1966, 0.0), (1967, 0.010504241357424442), (1968, 0.022409547968286744), (1969, 0.005501268902218371), (1970, 0.026170729966751308), (1971, 0.02710120079148581), (1972, 0.0), (1973, 0.0303407914417675), (1974, 0.004852153375149681), (1975, 0.016714359997498554), (1976, 0.006531951153876573), (1977, 0.005376386205308177), (1978, 0.007510621412648708), (1979, 0.007983272497924573), (1980, 0.004688219055350082), (1981, 0.02338312392050538), (1982, 0.014964557144210813), (1983, 0.01608266012116423), (1984, 0.010542246920980648), (1985, 0.022235061608628807), (1986, 0.005213899425103505), (1987, 0.022954693087393126), (1988, 0.0052708119821125495), (1989, 0.0), (1990, 0.005031065496391399), (1991, 0.030970387523061436), (1992, 0.044046403604894285), (1993, 0.03122897438927397), (1994, 0.004976182302391343), (1995, 0.0), (1996, 0.014612666315275072), (1997, 0.01732829109837162), (1998, 0.0), (1999, 0.005824324151364847), (2000, 0.02601295054177559), (2001, 0.0045716140475973045), (2002, 0.0), (2003, 0.010884136167735616), (2004, 0.0), (2005, 0.018053778029078114), (2006, 0.004511054497212207), (2007, 0.01239231397625476), (2008, 0.015745923720760033), (2009, 0.0062413191890180846), (2010, 0.004974522564630383), (2011, 0.0), (2012, 0.018689431876264255), (2013, 0.016071039549995076), (2014, 0.016521090526370744), (2015, 0.006368642856781386), (2016, 0.023274017641424213), (2017, 0.020814029896755494), (2018, 0.037459395995826573), (2019, 0.005173322672193552), (2020, 0.0), (2021, 0.012308449913246394), (2022, 0.01607050924133772), (2023, 0.10538865323477653), (2024, 0.016197521719581068), (2025, 0.012365741586456327), (2026, 0.015295688255754837), (2027, 0.04956965552371883), (2028, 0.0), (2029, 0.00532018977299832), (2030, 0.0), (2031, 0.010068839032043158), (2032, 0.012207674164713666), (2033, 0.01002598352773976), (2034, 0.007270820954833234), (2035, 0.01450826680421796), (2036, 0.015705982027937153), (2037, 0.016641547360821973), (2038, 0.0), (2039, 0.0), (2040, 0.04200286659789025), (2041, 0.005367132649097519), (2042, 0.0), (2043, 0.04750880906483544), (2044, 0.023267522177472747), (2045, 0.011480352382167045), (2046, 0.005384487826994042), (2047, 0.012134682290837265), (2048, 0.0), (2049, 0.05578521960018239), (2050, 0.025821774057705575), (2051, 0.0), (2052, 0.005921570407784878), (2053, 0.010982998021586135), (2054, 0.009946696183670172), (2055, 0.01982554494188157), (2056, 0.010492968968210937), (2057, 0.0), (2058, 0.015191007441528027), (2059, 0.0), (2060, 0.005167600085540931), (2061, 0.011433316890444913), (2062, 0.010404946559954262), (2063, 0.0), (2064, 0.0), (2065, 0.024229693975417813), (2066, 0.0066756919088337245), (2067, 0.08959369132019648), (2068, 0.019876943839530162), (2069, 0.0), (2070, 0.020756735299086823), (2071, 0.005453181693068066), (2072, 0.06618862636846425), (2073, 0.0), (2074, 0.017437585548677425), (2075, 0.00766660432467472), (2076, 0.013291743365653898), (2077, 0.013482570815081356), (2078, 0.029247213326959974), (2079, 0.015743882938335715), (2080, 0.010622102671268339), (2081, 0.011679145250505715), (2082, 0.04210377019266079), (2083, 0.006283290640150207), (2084, 0.0), (2085, 0.006404639698219876), (2086, 0.005566434697471312), (2087, 0.005193429604141621), (2088, 0.006390152993495735), (2089, 0.043210929525229314), (2090, 0.005462607041010017), (2091, 0.006268378142462484), (2092, 0.0), (2093, 0.018632548967270034), (2094, 0.010819935299167704), (2095, 0.0), (2096, 0.0), (2097, 0.011360277402228466), (2098, 0.0), (2099, 0.03220197255415851), (2100, 0.008097633131884312), (2101, 0.005762761234008907), (2102, 0.0317616953367334), (2103, 0.005871987685615768), (2104, 0.0), (2105, 0.0), (2106, 0.010846848958227559), (2107, 0.005021217270587033), (2108, 0.005876914580682671), (2109, 0.005484299110241954), (2110, 0.009722769550378898), (2111, 0.025035134273362396), (2112, 0.04330176522939455), (2113, 0.005117008494234254), (2114, 0.021815892384608543), (2115, 0.0), (2116, 0.03222448954581587), (2117, 0.005775675763504755), (2118, 0.01243022784406065), (2119, 0.024480274440826018), (2120, 0.008521781712564217), (2121, 0.0), (2122, 0.02760369013109406), (2123, 0.0), (2124, 0.006214048994985861), (2125, 0.011461615339608993), (2126, 0.01669744479593767), (2127, 0.0), (2128, 0.005385895983963984), (2129, 0.007827791546262128), (2130, 0.047934170425804556), (2131, 0.018781863084735007), (2132, 0.007234674854031279), (2133, 0.0), (2134, 0.0), (2135, 0.008064353339834053), (2136, 0.006404093095488569), (2137, 0.007085960732725088), (2138, 0.0), (2139, 0.005686591396998226), (2140, 0.005498165689567127), (2141, 0.0), (2142, 0.0), (2143, 0.008031928310636507), (2144, 0.0), (2145, 0.01463583041411679), (2146, 0.0047130134855124396), (2147, 0.014885386748691623), (2148, 0.01083547082629212), (2149, 0.0), (2150, 0.010729458581710932), (2151, 0.011191219366156116), (2152, 0.014239918990340154), (2153, 0.011087983373649534), (2154, 0.0), (2155, 0.0), (2156, 0.03089357930999606), (2157, 0.011787110587966764), (2158, 0.00586580506352939), (2159, 0.01671526620702115), (2160, 0.010835882941209457), (2161, 0.01453303438904806), (2162, 0.0), (2163, 0.007819531202885428), (2164, 0.0068750955587723196), (2165, 0.0), (2166, 0.010791192204556073), (2167, 0.010551140442561596), (2168, 0.004673564318252099), (2169, 0.005532555712375228), (2170, 0.004865927719895052), (2171, 0.0), (2172, 0.0), (2173, 0.0), (2174, 0.0), (2175, 0.024784053321465764), (2176, 0.0), (2177, 0.029838126216103343), (2178, 0.019727153749894782), (2179, 0.005119493604274123), (2180, 0.04036000118063395), (2181, 0.09582682700609754), (2182, 0.0), (2183, 0.0), (2184, 0.005818269651489586), (2185, 0.005443315619755869), (2186, 0.006148320736545319), (2187, 0.049112298576314536), (2188, 0.017119045784833312), (2189, 0.0), (2190, 0.025811532069644857), (2191, 0.0), (2192, 0.005271241899899816), (2193, 0.010833407904758584), (2194, 0.005537987178496695), (2195, 0.005383069254688084), (2196, 0.020104275986697773), (2197, 0.005142121835797505), (2198, 0.005547776706530503), (2199, 0.02589998704303895), (2200, 0.0), (2201, 0.004875755437943194), (2202, 0.005089776110325344), (2203, 0.007826159237103359), (2204, 0.0047313333647856495), (2205, 0.04937090565378961), (2206, 0.015890320605656587), (2207, 0.005054250903056553), (2208, 0.02070563108890472), (2209, 0.005863411144618407), (2210, 0.04175343702891135), (2211, 0.009191333353744223), (2212, 0.016442695465492374), (2213, 0.0), (2214, 0.011373800142583665), (2215, 0.01081599596440158), (2216, 0.055503100063029484), (2217, 0.011496121191437222), (2218, 0.011575784238178649), (2219, 0.0), (2220, 0.0), (2221, 0.009168346393392125), (2222, 0.01121358476261097), (2223, 0.005750516680048862), (2224, 0.060644575218908967), (2225, 0.004838300680794891), (2226, 0.02382218877737596), (2227, 0.027474463891199667), (2228, 0.006562760477926097), (2229, 0.05134304463510456), (2230, 0.0), (2231, 0.0), (2232, 0.005874778525619976), (2233, 0.006311721085001078), (2234, 0.010462360380925137), (2235, 0.0109926300003195), (2236, 0.0149121131320566), (2237, 0.014900458396526792), (2238, 0.0), (2239, 0.030635326778718473), (2240, 0.03470608095018542), (2241, 0.01137846231209931), (2242, 0.005429774253636995), (2243, 0.006567669472374418), (2244, 0.0), (2245, 0.013410095574352144), (2246, 0.021850499149990935), (2247, 0.018722642551918422), (2248, 0.0), (2249, 0.005408130068686438), (2250, 0.03886748666324816), (2251, 0.0), (2252, 0.01198459937596769), (2253, 0.0), (2254, 0.02733290042952146), (2255, 0.0), (2256, 0.0), (2257, 0.06964311699948449), (2258, 0.0), (2259, 0.005913768719917318), (2260, 0.055773069753090425), (2261, 0.006014846971397654), (2262, 0.009751219877783178), (2263, 0.005938517131337246), (2264, 0.03574265166518444), (2265, 0.004821877564120833), (2266, 0.0), (2267, 0.0), (2268, 0.005550783621977792), (2269, 0.009795089754558556), (2270, 0.004609031657802803), (2271, 0.008225602764417205), (2272, 0.0), (2273, 0.009858886394935156), (2274, 0.013090591941642096), (2275, 0.03329990142084349), (2276, 0.0162997667110631), (2277, 0.028673490193148743), (2278, 0.0056413294167813105), (2279, 0.019010861780239904), (2280, 0.01531561369024926), (2281, 0.017988038289143096), (2282, 0.0), (2283, 0.0), (2284, 0.015847263258006564), (2285, 0.009917270178605737), (2286, 0.01884201575508842), (2287, 0.025940142404831987), (2288, 0.0), (2289, 0.0), (2290, 0.00524091910928306), (2291, 0.025533478324442214), (2292, 0.005456902279011692), (2293, 0.023490316003808888), (2294, 0.005281215838689044), (2295, 0.0), (2296, 0.009560403907397404), (2297, 0.020614954956982276), (2298, 0.0058849424851356875), (2299, 0.0), (2300, 0.0), (2301, 0.00506778411673284), (2302, 0.0059420771160892975), (2303, 0.011310317962841807), (2304, 0.036732346343947585), (2305, 0.0), (2306, 0.0), (2307, 0.0), (2308, 0.006195873892317195), (2309, 0.005530906841877234), (2310, 0.0), (2311, 0.0051519462035013635), (2312, 0.0), (2313, 0.0), (2314, 0.017798813880030902), (2315, 0.013297787323206248), (2316, 0.017180682312274678), (2317, 0.013770389034905881), (2318, 0.026434655888833234), (2319, 0.0), (2320, 0.018949005006811348), (2321, 0.0), (2322, 0.013545520403030344), (2323, 0.0074564983158063374), (2324, 0.0), (2325, 0.0), (2326, 0.011857179140769267), (2327, 0.03339915292041413), (2328, 0.0), (2329, 0.010510414019649774), (2330, 0.015135031517378099), (2331, 0.011874367999517396), (2332, 0.0), (2333, 0.0063126415823103596), (2334, 0.02585626658943363), (2335, 0.0051913578407082155), (2336, 0.027208124576666142), (2337, 0.0), (2338, 0.00990136799500847), (2339, 0.006216816593412569), (2340, 0.005284682883428144), (2341, 0.0), (2342, 0.0), (2343, 0.0), (2344, 0.01695479628550874), (2345, 0.0), (2346, 0.011486978850811728), (2347, 0.0), (2348, 0.0056987246502079175), (2349, 0.0), (2350, 0.0), (2351, 0.01266508873289987), (2352, 0.0075547716410734435), (2353, 0.011619437111494081), (2354, 0.0), (2355, 0.0), (2356, 0.034380299841049226), (2357, 0.0060355512622119675), (2358, 0.0), (2359, 0.0), (2360, 0.0), (2361, 0.006582967112070457), (2362, 0.0), (2363, 0.021303453017591175), (2364, 0.004438033513035432), (2365, 0.03182752113939226), (2366, 0.0), (2367, 0.00999127672254171), (2368, 0.006165700108206755), (2369, 0.01525786564756424), (2370, 0.0), (2371, 0.0), (2372, 0.0), (2373, 0.0), (2374, 0.0), (2375, 0.014823586585114009), (2376, 0.00865358757902242), (2377, 0.022455441680348336), (2378, 0.007328237251595481), (2379, 0.007260628157261313), (2380, 0.0), (2381, 0.012495290818038523), (2382, 0.0), (2383, 0.006614429442579997), (2384, 0.0), (2385, 0.005282453867071945), (2386, 0.03036725831335308), (2387, 0.005429303872149124), (2388, 0.0), (2389, 0.010234378939746387), (2390, 0.0), (2391, 0.014876612206279966), (2392, 0.0), (2393, 0.008774285137091099), (2394, 0.005739245113686162), (2395, 0.00738913777507822), (2396, 0.013945222761443705), (2397, 0.01348139770922013), (2398, 0.01618930106140528), (2399, 0.03010255597918305), (2400, 0.009544101833143555), (2401, 0.0), (2402, 0.013289556227885468), (2403, 0.006003257567001473), (2404, 0.007095884639145247), (2405, 0.0), (2406, 0.022654754773009315), (2407, 0.0), (2408, 0.0), (2409, 0.010348602318576372), (2410, 0.015471310458025826), (2411, 0.0), (2412, 0.023645539204178393), (2413, 0.006336692814579338), (2414, 0.005543130072392217), (2415, 0.007656616410959096), (2416, 0.005649523976126861), (2417, 0.0), (2418, 0.005985774926418863), (2419, 0.0), (2420, 0.005739434907085894), (2421, 0.0), (2422, 0.04557717910769929), (2423, 0.0067758868884759405), (2424, 0.03176470968937009), (2425, 0.0), (2426, 0.010281386816994257), (2427, 0.0199779099352368), (2428, 0.007201092754070041), (2429, 0.005776501294425096), (2430, 0.005365701382160705), (2431, 0.01114227347327539), (2432, 0.005854041147352295), (2433, 0.010249368884120513), (2434, 0.00623399149177819), (2435, 0.005221072873170677), (2436, 0.006069257462460099), (2437, 0.0), (2438, 0.0), (2439, 0.023659312864901718), (2440, 0.005136885528116646), (2441, 0.004338493786850367), (2442, 0.005677024173896943), (2443, 0.0037400135601486956), (2444, 0.03300861720336069), (2445, 0.007867812439209221), (2446, 0.01030809644970489), (2447, 0.028379674892145275), (2448, 0.0), (2449, 0.014122622795187794), (2450, 0.005160747910035462), (2451, 0.0), (2452, 0.0), (2453, 0.0735741163483561), (2454, 0.0), (2455, 0.0), (2456, 0.005359119224026311), (2457, 0.007940147463087917), (2458, 0.006416010116360113), (2459, 0.007023978077470446), (2460, 0.007380679249403498), (2461, 0.013191793115329715), (2462, 0.0), (2463, 0.0), (2464, 0.018523672241588792), (2465, 0.0), (2466, 0.01581783821833993), (2467, 0.005010927569035592), (2468, 0.035738952515779986), (2469, 0.019725860488541996), (2470, 0.0), (2471, 0.0), (2472, 0.005497421463818085), (2473, 0.0), (2474, 0.013249307277268436), (2475, 0.0), (2476, 0.006842619804962348), (2477, 0.016856718803726384), (2478, 0.005971490549278151), (2479, 0.01339761007134124), (2480, 0.005392782488502457), (2481, 0.0046677725447198835), (2482, 0.04190652224931575), (2483, 0.0), (2484, 0.0), (2485, 0.01255298750082831), (2486, 0.03641935318264154), (2487, 0.04196469331257115), (2488, 0.016486420339364725), (2489, 0.010573819592046584), (2490, 0.0), (2491, 0.04753126627870564), (2492, 0.016542781977197926), (2493, 0.02227523304885079), (2494, 0.019851598072847376), (2495, 0.00549114290374033), (2496, 0.0), (2497, 0.00485193585680683), (2498, 0.032740632034372066), (2499, 0.005368745549709606), (2500, 0.007217889004616673), (2501, 0.011681247352968724), (2502, 0.007701664848365765), (2503, 0.005495457378143239), (2504, 0.011174264749298519), (2505, 0.0), (2506, 0.006463591024414015), (2507, 0.0056538705883008855), (2508, 0.0), (2509, 0.014220058724850031), (2510, 0.03925157193677082), (2511, 0.019824607662198943), (2512, 0.04623977070747291), (2513, 0.04424065399541959), (2514, 0.005047762202524539), (2515, 0.0), (2516, 0.0), (2517, 0.0), (2518, 0.006168718031379209), (2519, 0.005642227999197208), (2520, 0.0), (2521, 0.00774078401135362), (2522, 0.017664981298915805), (2523, 0.0), (2524, 0.012841384210916688), (2525, 0.0050262600071044), (2526, 0.004667152898793848), (2527, 0.0), (2528, 0.01459907393402843), (2529, 0.007549799890237086), (2530, 0.007424035332751543), (2531, 0.014427983217883179), (2532, 0.0), (2533, 0.0), (2534, 0.007642375666930388), (2535, 0.006157866542954896), (2536, 0.0), (2537, 0.007007698224499074), (2538, 0.0), (2539, 0.012258838362475068), (2540, 0.005816033524200358), (2541, 0.007387910232240956), (2542, 0.0), (2543, 0.006717564268480945), (2544, 0.004159261962820982), (2545, 0.0), (2546, 0.022723744606785213), (2547, 0.006794551645426482), (2548, 0.0), (2549, 0.006041764505811471), (2550, 0.01242464762191774), (2551, 0.0), (2552, 0.0051724568822747235), (2553, 0.01568763882754506), (2554, 0.011692160725462362), (2555, 0.006597694476570031), (2556, 0.0), (2557, 0.0), (2558, 0.0), (2559, 0.007934326247053595), (2560, 0.006113609510891368), (2561, 0.005762991846077009), (2562, 0.008344144015693028), (2563, 0.0), (2564, 0.0), (2565, 0.060615403656606004), (2566, 0.005517783264630947), (2567, 0.025645985869404163), (2568, 0.007554909798274909), (2569, 0.005383383575722094), (2570, 0.006161706774093942), (2571, 0.008308209719640016), (2572, 0.0), (2573, 0.023124683002996065), (2574, 0.0), (2575, 0.03415401310935499), (2576, 0.006750908421505144), (2577, 0.0), (2578, 0.05362710590393711), (2579, 0.0), (2580, 0.007588138797892524), (2581, 0.020302531213170348), (2582, 0.03230627924668547), (2583, 0.0), (2584, 0.05233743835803842), (2585, 0.0), (2586, 0.005393406181343847), (2587, 0.014184082010189225), (2588, 0.005534478304635907), (2589, 0.0), (2590, 0.019952008618660543), (2591, 0.004714535498868082), (2592, 0.0057999918695367065), (2593, 0.0), (2594, 0.005029079453530167), (2595, 0.0), (2596, 0.0), (2597, 0.033208177402247935), (2598, 0.014846689780488444), (2599, 0.0), (2600, 0.014681606193704745), (2601, 0.0055849471217575605), (2602, 0.009204805035622408), (2603, 0.016514060730557195), (2604, 0.033437758784508054), (2605, 0.005509892403274378), (2606, 0.0), (2607, 0.009558642105610802), (2608, 0.03686653494580591), (2609, 0.01597436008435167), (2610, 0.016662546394848717), (2611, 0.004982842549312072), (2612, 0.013767870125480856), (2613, 0.0), (2614, 0.0), (2615, 0.00978612422771382), (2616, 0.04999363230832042), (2617, 0.0353084828239406), (2618, 0.0), (2619, 0.006226632757923725), (2620, 0.0), (2621, 0.0), (2622, 0.0488411864242524), (2623, 0.0), (2624, 0.0), (2625, 0.0195828449629318), (2626, 0.028455747120826526), (2627, 0.004900721224296077), (2628, 0.0), (2629, 0.09871151805643975), (2630, 0.016131528214322448), (2631, 0.005194505468352384), (2632, 0.02724090883677389), (2633, 0.011376797230270068), (2634, 0.005830927349188215), (2635, 0.005993714177094227), (2636, 0.010536174212817863), (2637, 0.015518762251932845), (2638, 0.029690602159143015), (2639, 0.0), (2640, 0.011665870756471339), (2641, 0.0), (2642, 0.01628690446891848), (2643, 0.0), (2644, 0.005005710212146605), (2645, 0.028295795093552137), (2646, 0.009085318579964256), (2647, 0.006050766528693173), (2648, 0.0), (2649, 0.02843563420479675), (2650, 0.008849426260229238), (2651, 0.0), (2652, 0.0), (2653, 0.0), (2654, 0.00493529679411979), (2655, 0.020753632897256482), (2656, 0.01981785514925802), (2657, 0.008268433637666774), (2658, 0.0), (2659, 0.00826127670916643), (2660, 0.020358691729818607), (2661, 0.014303714380262742), (2662, 0.005594484846544301), (2663, 0.0339088489416555), (2664, 0.027414620161301643), (2665, 0.013598230725041885), (2666, 0.01019985280981042), (2667, 0.008402978211805665), (2668, 0.017479735135671505), (2669, 0.06329046192774199), (2670, 0.03169421586383461), (2671, 0.010566908446872705), (2672, 0.0067737851121297925), (2673, 0.006887774521291128), (2674, 0.005783361426971413), (2675, 0.015057460943737867), (2676, 0.0069344018038866246), (2677, 0.005176547924274649), (2678, 0.008389849803671566), (2679, 0.0), (2680, 0.030926858078155074), (2681, 0.005032294762029181), (2682, 0.010459772358867423), (2683, 0.0), (2684, 0.0), (2685, 0.005316155583011928), (2686, 0.0), (2687, 0.005200242450291408), (2688, 0.004574837795570969), (2689, 0.01204119089925736), (2690, 0.027885399526152915), (2691, 0.03656804807030932), (2692, 0.009067705968381806), (2693, 0.005138388923777897), (2694, 0.0), (2695, 0.04919551075473316), (2696, 0.006158611807394798), (2697, 0.0050034175366047125), (2698, 0.005392256778930069), (2699, 0.013279122507944875), (2700, 0.0), (2701, 0.007733548376341607), (2702, 0.006015157877649714), (2703, 0.0), (2704, 0.0), (2705, 0.0), (2706, 0.025443724328492016), (2707, 0.007073401271256343), (2708, 0.0), (2709, 0.005632604747982468), (2710, 0.056109830382071506), (2711, 0.021842958386375396), (2712, 0.005811888284625458), (2713, 0.006158865337245711), (2714, 0.00641491784879271), (2715, 0.13959251759058272), (2716, 0.0), (2717, 0.0), (2718, 0.00553000666924243), (2719, 0.0), (2720, 0.02873878293175359), (2721, 0.004688576227050358), (2722, 0.007310973362532216), (2723, 0.0), (2724, 0.009886780313371228), (2725, 0.021535243737872623), (2726, 0.02988383620873884), (2727, 0.01908958316227733), (2728, 0.013122167821786657), (2729, 0.038359182807859014), (2730, 0.0062957556989512815), (2731, 0.0), (2732, 0.04612337563900173), (2733, 0.0), (2734, 0.03499721803995733), (2735, 0.0), (2736, 0.0), (2737, 0.008195398643560201), (2738, 0.013034559112884953), (2739, 0.010935913908349438), (2740, 0.0063595247575511495), (2741, 0.0048445974011214485), (2742, 0.015030403375689304), (2743, 0.021455957348867804), (2744, 0.005364780648432479), (2745, 0.015326002476817003), (2746, 0.005330239717166503), (2747, 0.0094762766276222), (2748, 0.0), (2749, 0.017875832765512686), (2750, 0.0), (2751, 0.015444119208758935), (2752, 0.03233189454419287), (2753, 0.0), (2754, 0.03690722212645293), (2755, 0.011811879026389503), (2756, 0.03505650548832724), (2757, 0.0), (2758, 0.00438791684421437), (2759, 0.0), (2760, 0.013325291360761694), (2761, 0.004667111773246731), (2762, 0.021687034317643513), (2763, 0.015951640304460606), (2764, 0.007317043719627171), (2765, 0.010620226389723432), (2766, 0.008802633588981559), (2767, 0.004757237278084061), (2768, 0.008298974515437397), (2769, 0.006044121646573186), (2770, 0.004770254183168371), (2771, 0.0), (2772, 0.03279829689799464), (2773, 0.0), (2774, 0.009281072397792488), (2775, 0.0), (2776, 0.0055599271998173095), (2777, 0.04418124331611741), (2778, 0.00732651537552103), (2779, 0.0), (2780, 0.03438157891927711), (2781, 0.016556080075844075), (2782, 0.005731914955896308), (2783, 0.0), (2784, 0.010371343055016977), (2785, 0.0), (2786, 0.00626555609881391), (2787, 0.011056898846720987), (2788, 0.028177277606890754), (2789, 0.018034178586380227), (2790, 0.014813172843918955), (2791, 0.026274669319673274), (2792, 0.00561901770775549), (2793, 0.011102830800491001), (2794, 0.005353951517492111), (2795, 0.021188518805325775), (2796, 0.006138494588315275), (2797, 0.00655937344542611), (2798, 0.014717824008112437), (2799, 0.005818172557272235), (2800, 0.0), (2801, 0.004839660003542538), (2802, 0.0), (2803, 0.005567805767947693), (2804, 0.005150056206708605), (2805, 0.004564596705049999), (2806, 0.0), (2807, 0.010899464493723636), (2808, 0.024071337771348723), (2809, 0.02166904118798077), (2810, 0.012961899327290728), (2811, 0.012062920181705097), (2812, 0.04003765418331445), (2813, 0.005278978948695647), (2814, 0.015638599898551365), (2815, 0.006002060594775029), (2816, 0.011228182259815317), (2817, 0.020442377904072363), (2818, 0.007836051888866713), (2819, 0.006489799416304269), (2820, 0.044333371659688856), (2821, 0.0), (2822, 0.012691617958167721), (2823, 0.005097615250505008), (2824, 0.0), (2825, 0.03455940951153981), (2826, 0.005911226455790956), (2827, 0.0), (2828, 0.015450319531142261), (2829, 0.004981159072590389), (2830, 0.01660048372064663), (2831, 0.0), (2832, 0.007236078375870208), (2833, 0.004629395246264894), (2834, 0.01303185795120584), (2835, 0.0), (2836, 0.0051867884342699224), (2837, 0.0), (2838, 0.0065208004739624745), (2839, 0.0), (2840, 0.006702762434039612), (2841, 0.030719307000218236), (2842, 0.012065917441124924), (2843, 0.01249703070515366), (2844, 0.01847371594419779), (2845, 0.007719987240868311), (2846, 0.006153353651446293), (2847, 0.005878438146559926), (2848, 0.028735048999536935), (2849, 0.011715771675334195), (2850, 0.07781735712033465), (2851, 0.010280772369242366), (2852, 0.005870700589912164), (2853, 0.0), (2854, 0.022025711089464148), (2855, 0.009790107362452966), (2856, 0.005392627408297004), (2857, 0.016230425070553223), (2858, 0.007307076623159214), (2859, 0.005242850877439862), (2860, 0.006492781893221171), (2861, 0.0), (2862, 0.010883213023354345), (2863, 0.0), (2864, 0.007484850319760934), (2865, 0.07965048515603206), (2866, 0.026378542801223946), (2867, 0.017744360658593507), (2868, 0.0), (2869, 0.0), (2870, 0.0), (2871, 0.10683757667149225), (2872, 0.006146960680349005), (2873, 0.011806063318776875), (2874, 0.014185008793248785), (2875, 0.0), (2876, 0.004497927511432481), (2877, 0.014474955039006383), (2878, 0.03274242239485162), (2879, 0.01954759691986301), (2880, 0.012189020765269423), (2881, 0.025153971322897005), (2882, 0.005593970914992305), (2883, 0.0), (2884, 0.0433317335806206), (2885, 0.0), (2886, 0.02568942889183342), (2887, 0.0), (2888, 0.006781911419374578), (2889, 0.0), (2890, 0.0), (2891, 0.0072423839855861654), (2892, 0.013346948504680153), (2893, 0.039890414606206265), (2894, 0.0), (2895, 0.007141770535995832), (2896, 0.0), (2897, 0.020521283148276833), (2898, 0.0066228642608586715), (2899, 0.005635764554647009), (2900, 0.005746932755383503), (2901, 0.0), (2902, 0.0), (2903, 0.011532415337167107), (2904, 0.024352986807432433), (2905, 0.0), (2906, 0.019479142234579097), (2907, 0.0), (2908, 0.013126315559765251), (2909, 0.014809460724274057), (2910, 0.0461468226762045), (2911, 0.005865099992310142), (2912, 0.0051760259993244365), (2913, 0.018807927584992445), (2914, 0.0), (2915, 0.0), (2916, 0.0), (2917, 0.012240645031769692), (2918, 0.016178465473487037), (2919, 0.010816202736897164), (2920, 0.0051428564661165), (2921, 0.009472935775785523), (2922, 0.007975054633479957), (2923, 0.0), (2924, 0.03031808379072256), (2925, 0.03106933548060511), (2926, 0.005549737021067963), (2927, 0.03472912155836578), (2928, 0.006690700635172796), (2929, 0.021970643393382124), (2930, 0.0), (2931, 0.04938680241558097), (2932, 0.03481515777896489), (2933, 0.016986032523701726), (2934, 0.010621555963132507), (2935, 0.005694234180115545), (2936, 0.0), (2937, 0.008545110657364054), (2938, 0.0053834858236122595), (2939, 0.012442420084054969), (2940, 0.017357076795779466), (2941, 0.0), (2942, 0.0048599380503172645), (2943, 0.006738010568393439), (2944, 0.044212199851356805), (2945, 0.005173482064479029), (2946, 0.0), (2947, 0.0067261017241174266), (2948, 0.006631535868987119), (2949, 0.0), (2950, 0.006014188469260686), (2951, 0.011526224171906845), (2952, 0.010443938548843701), (2953, 0.025427092209921648), (2954, 0.010061862169228924), (2955, 0.02288662814753429), (2956, 0.0), (2957, 0.0), (2958, 0.0), (2959, 0.02322299664109965), (2960, 0.0), (2961, 0.010428169724558465), (2962, 0.02091340064483521), (2963, 0.02123964972023905), (2964, 0.0), (2965, 0.008360989582727447), (2966, 0.0), (2967, 0.0), (2968, 0.0), (2969, 0.009856614525885581), (2970, 0.005646461760126077), (2971, 0.010602852482475864), (2972, 0.005261085088916405), (2973, 0.005353232044412748), (2974, 0.0), (2975, 0.0172028574113558), (2976, 0.0), (2977, 0.0), (2978, 0.016588979973489675), (2979, 0.005749369854629147), (2980, 0.0), (2981, 0.024586441526161996), (2982, 0.015505019228044734), (2983, 0.04451089061670541), (2984, 0.014515631163939257), (2985, 0.011817565671813272), (2986, 0.0061439558996747605), (2987, 0.0), (2988, 0.09427828704953033), (2989, 0.0), (2990, 0.008138080814655144), (2991, 0.0), (2992, 0.010621591976410213), (2993, 0.0), (2994, 0.005823393225055611), (2995, 0.0), (2996, 0.03913417432186082), (2997, 0.0), (2998, 0.008662045563939059), (2999, 0.00555811320329503), (3000, 0.0482782244669729), (3001, 0.009482025834254504), (3002, 0.01581597928891826), (3003, 0.030244997431856557), (3004, 0.0), (3005, 0.0), (3006, 0.0), (3007, 0.0), (3008, 0.024724350081482084), (3009, 0.006911005034559927), (3010, 0.005324350668362063), (3011, 0.013578938442419489), (3012, 0.0), (3013, 0.0), (3014, 0.0), (3015, 0.0), (3016, 0.00532190689998605), (3017, 0.006353680868354002), (3018, 0.13270299100787783), (3019, 0.012494770098899636), (3020, 0.006409338295700272), (3021, 0.0), (3022, 0.019590003702585918), (3023, 0.0), (3024, 0.005060780018446924), (3025, 0.0), (3026, 0.005783738566979649), (3027, 0.02716435544263692), (3028, 0.005221960114514578), (3029, 0.0), (3030, 0.0), (3031, 0.0), (3032, 0.0), (3033, 0.0107589310533755), (3034, 0.0053636503978683105), (3035, 0.0), (3036, 0.04535047330230579), (3037, 0.0), (3038, 0.04316415919006487), (3039, 0.005894015857735052), (3040, 0.04238385507198396), (3041, 0.0), (3042, 0.0069532634262594985), (3043, 0.011430787441973773), (3044, 0.012735096610829789), (3045, 0.004991921705174439), (3046, 0.005287247920628782), (3047, 0.02438408933421016), (3048, 0.016744941746203848), (3049, 0.0), (3050, 0.005045977650759369), (3051, 0.0), (3052, 0.0), (3053, 0.005489418965050918), (3054, 0.0), (3055, 0.0), (3056, 0.06400326232231769), (3057, 0.0), (3058, 0.0), (3059, 0.006895572115664911), (3060, 0.017351974290102806), (3061, 0.005441037531021294), (3062, 0.013124750538920009), (3063, 0.019907134344894384), (3064, 0.007040139824990898), (3065, 0.005366605258514147), (3066, 0.025667528775367682), (3067, 0.0), (3068, 0.0), (3069, 0.0), (3070, 0.019886641698688243), (3071, 0.02581891332077685), (3072, 0.0), (3073, 0.027226717797862694), (3074, 0.0), (3075, 0.0), (3076, 0.0), (3077, 0.009893474236688415), (3078, 0.0065964247994974605), (3079, 0.01519932161535332), (3080, 0.006066793568357424), (3081, 0.0), (3082, 0.021194435080601606), (3083, 0.010265069070869938), (3084, 0.005471425412097805), (3085, 0.005735615888503413), (3086, 0.043691415081086316), (3087, 0.0), (3088, 0.0), (3089, 0.006270381602546933), (3090, 0.008458425584917868), (3091, 0.0), (3092, 0.0), (3093, 0.0), (3094, 0.0), (3095, 0.03461693419605702), (3096, 0.005230021545236133), (3097, 0.011990438062645378), (3098, 0.009414236532765855), (3099, 0.060235968062025705), (3100, 0.005863576448201331), (3101, 0.0), (3102, 0.0053340510984991076), (3103, 0.0), (3104, 0.0), (3105, 0.0), (3106, 0.0), (3107, 0.0), (3108, 0.023639838283480506), (3109, 0.015326383107986737), (3110, 0.02844250599341086), (3111, 0.004832925950477177), (3112, 0.006538914389032849), (3113, 0.0282290335034771), (3114, 0.005660289060875299), (3115, 0.008750755437908238), (3116, 0.0), (3117, 0.009523678686934142), (3118, 0.04763314672118131), (3119, 0.014283560281673137), (3120, 0.0), (3121, 0.028389934916547538), (3122, 0.026631470676956176), (3123, 0.018927084350885297), (3124, 0.006155921252103822), (3125, 0.005644963709598947), (3126, 0.005943321739469514), (3127, 0.010042963841876088), (3128, 0.0), (3129, 0.027855497226146046), (3130, 0.0), (3131, 0.006123720017643482), (3132, 0.006507060988993915), (3133, 0.013677973414584425), (3134, 0.006289268080760194), (3135, 0.005592559280473424), (3136, 0.0058798293699611585), (3137, 0.009418002137185322), (3138, 0.0), (3139, 0.0072481483514725085), (3140, 0.0), (3141, 0.01067412394668243), (3142, 0.04061419407171504), (3143, 0.005496228093354856), (3144, 0.015393875267986294), (3145, 0.036644539422649), (3146, 0.005761672277865171), (3147, 0.01766568984906059), (3148, 0.0), (3149, 0.03301356858265632), (3150, 0.010891401228849101), (3151, 0.005418566022327347), (3152, 0.004503849538486357), (3153, 0.04863337679355989), (3154, 0.025289146752051166), (3155, 0.015941457614883376), (3156, 0.006168802967144377), (3157, 0.0), (3158, 0.0), (3159, 0.0), (3160, 0.0), (3161, 0.005885517085354375), (3162, 0.0), (3163, 0.006562414038472187), (3164, 0.0), (3165, 0.007139829935788907), (3166, 0.007065671252668892), (3167, 0.03402922058828108), (3168, 0.013607248152997352), (3169, 0.006110595313196317), (3170, 0.0), (3171, 0.010215947642046166), (3172, 0.10575838297671658), (3173, 0.0), (3174, 0.0060808686935737285), (3175, 0.005508525722603849), (3176, 0.0), (3177, 0.004982299845057783), (3178, 0.00806851108517659), (3179, 0.0), (3180, 0.0), (3181, 0.023718863446198266), (3182, 0.010719425683326398), (3183, 0.029241086364401085), (3184, 0.0), (3185, 0.008684766668513099), (3186, 0.0), (3187, 0.03208761604702047), (3188, 0.013848612737148946), (3189, 0.014589720540104458), (3190, 0.0), (3191, 0.006594128977320647), (3192, 0.022770641450994847), (3193, 0.005517630962437392), (3194, 0.0050177043138985526), (3195, 0.0), (3196, 0.0), (3197, 0.0), (3198, 0.00568510476563861), (3199, 0.01115921279140265), (3200, 0.0), (3201, 0.005069927013366317), (3202, 0.006590415660393189), (3203, 0.0), (3204, 0.0), (3205, 0.026713142095406688), (3206, 0.0070925689565573165), (3207, 0.027282095249011692), (3208, 0.009023548394276175), (3209, 0.00882437523164577), (3210, 0.017454787314348928), (3211, 0.004869245238241419), (3212, 0.004435821903724272), (3213, 0.005054386145875921), (3214, 0.005414317376151135), (3215, 0.020015216145610446), (3216, 0.0), (3217, 0.0068967542387500715), (3218, 0.011634923515042741), (3219, 0.06893590623526323), (3220, 0.005046614947101415), (3221, 0.012599987168971028), (3222, 0.004674787541995192), (3223, 0.009446270042791983), (3224, 0.005466676523484281), (3225, 0.00625126189932313), (3226, 0.005058298262025579), (3227, 0.006287925227793547), (3228, 0.0), (3229, 0.021617883765530893), (3230, 0.0), (3231, 0.009695172873022594), (3232, 0.028523121481279008), (3233, 0.005736884467611342), (3234, 0.012047744993806685), (3235, 0.0), (3236, 0.0054837282718919024), (3237, 0.013898370392170362), (3238, 0.014850828797673203), (3239, 0.012588289537521755), (3240, 0.005243000213477238), (3241, 0.02204113281534512), (3242, 0.008896260556257989), (3243, 0.0), (3244, 0.012596812873804115), (3245, 0.01633634788755256), (3246, 0.013036586128452207), (3247, 0.013206095024236815), (3248, 0.0), (3249, 0.006436437242587256), (3250, 0.0), (3251, 0.0), (3252, 0.0), (3253, 0.030959402995620788), (3254, 0.0074323310120573225), (3255, 0.0), (3256, 0.006221361635572223), (3257, 0.0), (3258, 0.005981293768223651), (3259, 0.03233052075820182), (3260, 0.01884673966686029), (3261, 0.0), (3262, 0.0), (3263, 0.007021290178302345), (3264, 0.0314244756280952), (3265, 0.01617645439339095), (3266, 0.0), (3267, 0.020092874927635684), (3268, 0.0), (3269, 0.009074319212761592), (3270, 0.016777867845845982), (3271, 0.011191849872394431), (3272, 0.009029637166295904), (3273, 0.0), (3274, 0.0), (3275, 0.04691768270844647), (3276, 0.008730946076851981), (3277, 0.005983225783221406), (3278, 0.0), (3279, 0.0), (3280, 0.0), (3281, 0.0), (3282, 0.0065146964108755865), (3283, 0.011203651300948497), (3284, 0.005053826645494618), (3285, 0.0), (3286, 0.005161782248310059), (3287, 0.005477721487577566), (3288, 0.005222097376197019), (3289, 0.014036925906557238), (3290, 0.14193935910015104), (3291, 0.0), (3292, 0.0), (3293, 0.005275330228892578), (3294, 0.04854158797492407), (3295, 0.03225218726935327), (3296, 0.0), (3297, 0.042863782106553075), (3298, 0.0), (3299, 0.0), (3300, 0.00810551445517726), (3301, 0.0), (3302, 0.0), (3303, 0.028484254865286898), (3304, 0.024421623830786825), (3305, 0.0), (3306, 0.0295696190141794), (3307, 0.0), (3308, 0.00611615807153668), (3309, 0.0050428402195092144), (3310, 0.006438697875185543), (3311, 0.015576550957792637), (3312, 0.018481872940842962), (3313, 0.0), (3314, 0.0), (3315, 0.013517881824618702), (3316, 0.004322003445622238), (3317, 0.013123019244276335), (3318, 0.007750153291066029), (3319, 0.0048564212747512145), (3320, 0.010261968532158865), (3321, 0.014243217816142214), (3322, 0.0), (3323, 0.06005743167591811), (3324, 0.0), (3325, 0.025980665051829322), (3326, 0.0), (3327, 0.031888585131682176), (3328, 0.007559897467999375), (3329, 0.00475851954436346), (3330, 0.03022310824087814), (3331, 0.0), (3332, 0.027800394304415738), (3333, 0.0), (3334, 0.01083906372167504), (3335, 0.0), (3336, 0.010235522574206145), (3337, 0.006048910836853476), (3338, 0.015107529949087315), (3339, 0.005217927530591641), (3340, 0.0), (3341, 0.015481939249131023), (3342, 0.01311571358979147), (3343, 0.011265368417822053), (3344, 0.00928820429268142), (3345, 0.013697409424316121), (3346, 0.022645870270850323), (3347, 0.0), (3348, 0.013928751622929121), (3349, 0.005572452916031811), (3350, 0.0), (3351, 0.005348824739553262), (3352, 0.009967500083992322), (3353, 0.0), (3354, 0.0), (3355, 0.0), (3356, 0.006582473150361616), (3357, 0.0543127578881561), (3358, 0.0), (3359, 0.0), (3360, 0.004866485316638247), (3361, 0.03269000281831996), (3362, 0.004588423207204234), (3363, 0.0), (3364, 0.0125333917751728), (3365, 0.00833537270332324), (3366, 0.005120482357745829), (3367, 0.005878950176142511), (3368, 0.011587819255663826), (3369, 0.0), (3370, 0.017738848889492863), (3371, 0.006187561599921094), (3372, 0.0), (3373, 0.023885878591883642), (3374, 0.023245447554283198), (3375, 0.005248274995044056), (3376, 0.0), (3377, 0.02983692551638814), (3378, 0.0), (3379, 0.0), (3380, 0.0), (3381, 0.0), (3382, 0.01609198347902082), (3383, 0.0071164068695384495), (3384, 0.09534413630653833), (3385, 0.08114255058866356), (3386, 0.011179644319807218), (3387, 0.0), (3388, 0.014330676017613609), (3389, 0.009870894267628973), (3390, 0.008301139379719845), (3391, 0.016975629532849507), (3392, 0.01758745137778183), (3393, 0.00947678576755014), (3394, 0.0), (3395, 0.004860216419075897), (3396, 0.14711804443051496), (3397, 0.010510058083697768), (3398, 0.0), (3399, 0.005242729327689005), (3400, 0.005501361995451209), (3401, 0.0), (3402, 0.005177051063879644), (3403, 0.03710274049599254), (3404, 0.006490153513565721), (3405, 0.005029476320700847), (3406, 0.02582949349375776), (3407, 0.005316951339332414), (3408, 0.005757051294307312), (3409, 0.004782969866619014), (3410, 0.008728057436332974), (3411, 0.009764963460448434), (3412, 0.0052368825947760045), (3413, 0.006133494201050072), (3414, 0.012356982496966797), (3415, 0.0), (3416, 0.006000150280119833), (3417, 0.0), (3418, 0.018669027314724307), (3419, 0.007016218461397002), (3420, 0.010248140448874656), (3421, 0.009956616031341934), (3422, 0.0), (3423, 0.0), (3424, 0.02515084943998995), (3425, 0.0), (3426, 0.01518766651873706), (3427, 0.01461223535552162), (3428, 0.04504137683871361), (3429, 0.004357018298845621), (3430, 0.004398572742939782), (3431, 0.0), (3432, 0.022749506524962965), (3433, 0.0), (3434, 0.0), (3435, 0.005524519665567701), (3436, 0.0), (3437, 0.011010605659649817), (3438, 0.006477833476705567), (3439, 0.007076442466736995), (3440, 0.006842156868680347), (3441, 0.0060214637383560156), (3442, 0.0), (3443, 0.04847732688639676), (3444, 0.011698547250889358), (3445, 0.035454178526622374), (3446, 0.0055885967175832735), (3447, 0.015061048491537757), (3448, 0.03347092581857415), (3449, 0.005515554311429435), (3450, 0.030140818546685634), (3451, 0.006360269828257263), (3452, 0.0), (3453, 0.01882934338382733), (3454, 0.010653272601932306), (3455, 0.0), (3456, 0.03284969522407129), (3457, 0.031907943369600955), (3458, 0.01834272817293208), (3459, 0.03184643667256081), (3460, 0.0), (3461, 0.011456580571100232), (3462, 0.0), (3463, 0.01205267735405301), (3464, 0.017263280800636695), (3465, 0.02077851114285067), (3466, 0.005625942025119758), (3467, 0.00606850788051667), (3468, 0.006711085217901916), (3469, 0.01260552362616588), (3470, 0.0), (3471, 0.0), (3472, 0.007918670718168866), (3473, 0.0), (3474, 0.0), (3475, 0.0), (3476, 0.0), (3477, 0.019026913687359738), (3478, 0.0), (3479, 0.0068303474035534785), (3480, 0.0), (3481, 0.005216228939425525), (3482, 0.0), (3483, 0.010660779198152785), (3484, 0.012622728830168992), (3485, 0.004726407530216337), (3486, 0.006230687284473382), (3487, 0.0), (3488, 0.01669130735878865), (3489, 0.0), (3490, 0.0), (3491, 0.08504829385975872), (3492, 0.015201716378202728), (3493, 0.005529390653951405), (3494, 0.0), (3495, 0.0), (3496, 0.03081185878120995), (3497, 0.00969027935124223), (3498, 0.0), (3499, 0.0), (3500, 0.005201626522105921), (3501, 0.0), (3502, 0.006675501166090995), (3503, 0.0), (3504, 0.025019117943391532), (3505, 0.0), (3506, 0.026914519750023777), (3507, 0.011977576596838605), (3508, 0.02772320118898474), (3509, 0.0), (3510, 0.0), (3511, 0.0), (3512, 0.008530499897613671), (3513, 0.01154697810889972), (3514, 0.011684597153081719), (3515, 0.011803183484495924), (3516, 0.015011795313100089), (3517, 0.005261083046361259), (3518, 0.011106941966053408), (3519, 0.0), (3520, 0.005992137842520231), (3521, 0.0), (3522, 0.006464816397499398), (3523, 0.021271411262638144), (3524, 0.0), (3525, 0.039823264339984905), (3526, 0.005686335839880232), (3527, 0.0), (3528, 0.0), (3529, 0.005585625512496814), (3530, 0.0), (3531, 0.011109934590377882), (3532, 0.006718779494247554), (3533, 0.0), (3534, 0.0), (3535, 0.012448261487790569), (3536, 0.02739905573227865), (3537, 0.0065059766448404), (3538, 0.0043214553800729845), (3539, 0.005380041818218472), (3540, 0.0), (3541, 0.0), (3542, 0.0), (3543, 0.0), (3544, 0.006460691915085185), (3545, 0.005831741435866399), (3546, 0.00416438396648019), (3547, 0.0), (3548, 0.0), (3549, 0.011160304666164939), (3550, 0.0), (3551, 0.021506871280183627), (3552, 0.008355953079777673), (3553, 0.010655194197847231), (3554, 0.006178610130106652), (3555, 0.0059617564672602), (3556, 0.005294291166653128), (3557, 0.0267548783574784), (3558, 0.0), (3559, 0.004474948986929323), (3560, 0.006870367485747909), (3561, 0.0), (3562, 0.010302851730114231), (3563, 0.02105015204989181), (3564, 0.008750869243192454), (3565, 0.010700130441542761), (3566, 0.005424735127629819), (3567, 0.005419456274809209), (3568, 0.011493898543688801), (3569, 0.026057874813468624), (3570, 0.03510914020118357), (3571, 0.015894262024217266), (3572, 0.0), (3573, 0.0), (3574, 0.004076986590462701), (3575, 0.0045267565745675436), (3576, 0.0), (3577, 0.012776479470251192), (3578, 0.006894879407420921), (3579, 0.01751683900476967), (3580, 0.0), (3581, 0.005764703948670308), (3582, 0.020997348935771848), (3583, 0.0), (3584, 0.005780872259726524), (3585, 0.010635287530888457), (3586, 0.1588266613748507), (3587, 0.0), (3588, 0.03299142331577243), (3589, 0.004910332992330162), (3590, 0.0), (3591, 0.0063108175958986965), (3592, 0.0063695967852351884), (3593, 0.006549724466423989), (3594, 0.014235523410198542), (3595, 0.010882881998568586), (3596, 0.008925519322886915), (3597, 0.005981428923246439), (3598, 0.009734639401972129), (3599, 0.011150773208517758), (3600, 0.005756609403296279), (3601, 0.005744224909685703), (3602, 0.006124767114803023), (3603, 0.011683380918232848), (3604, 0.006344398454278667), (3605, 0.0058853462350730275), (3606, 0.005165394731370963), (3607, 0.0), (3608, 0.0), (3609, 0.02441917673438843), (3610, 0.03438665378046338), (3611, 0.0), (3612, 0.016740697437855896), (3613, 0.0), (3614, 0.0), (3615, 0.0), (3616, 0.012626960228713074), (3617, 0.017549377607005714), (3618, 0.006097582739140522), (3619, 0.0), (3620, 0.0), (3621, 0.006074169964982375), (3622, 0.0050937964686411825), (3623, 0.006306606125739801), (3624, 0.0), (3625, 0.0), (3626, 0.02169864407284923), (3627, 0.0), (3628, 0.005772191700380581), (3629, 0.0), (3630, 0.005491679390246804), (3631, 0.0), (3632, 0.029584731229542832), (3633, 0.03332896155521402), (3634, 0.0), (3635, 0.008042528341091057), (3636, 0.0), (3637, 0.014698785281647257), (3638, 0.0), (3639, 0.0), (3640, 0.025374902160127), (3641, 0.05222116602294623), (3642, 0.02590072133820318), (3643, 0.02821725251581016), (3644, 0.02056740727699398), (3645, 0.013634620674345378), (3646, 0.018498687569768187), (3647, 0.0), (3648, 0.0666599234792054), (3649, 0.006122618778265816), (3650, 0.010836591279660693), (3651, 0.006245799123044555), (3652, 0.017567793156473492), (3653, 0.0), (3654, 0.0), (3655, 0.012714645115953188), (3656, 0.0), (3657, 0.005282881025344411), (3658, 0.02148542324387904), (3659, 0.011024099510374348), (3660, 0.005739719770840278), (3661, 0.0063388997416144776), (3662, 0.0), (3663, 0.0), (3664, 0.0), (3665, 0.020003852813375612), (3666, 0.0), (3667, 0.006553864551375698), (3668, 0.009896031030986366), (3669, 0.0), (3670, 0.026755418400465907), (3671, 0.0064191016423352665), (3672, 0.0), (3673, 0.005291940513667586), (3674, 0.009254580503447046), (3675, 0.012746668127025108), (3676, 0.0121729956346695), (3677, 0.01214999822954509), (3678, 0.011258765822464541), (3679, 0.0), (3680, 0.006970922289753634), (3681, 0.011838700099612874), (3682, 0.0), (3683, 0.0), (3684, 0.0169678253137239), (3685, 0.013572158138286923), (3686, 0.006449008777838507), (3687, 0.0), (3688, 0.030608024565520114), (3689, 0.0056852434851071615), (3690, 0.11771614819825107), (3691, 0.0), (3692, 0.006513739876694433), (3693, 0.005401228953294653), (3694, 0.011307923027930744), (3695, 0.026228084104629377), (3696, 0.005331069720449141), (3697, 0.022870051792133205), (3698, 0.013057989754225981), (3699, 0.010944326075481852), (3700, 0.005933681991260236), (3701, 0.005526607532847088), (3702, 0.0), (3703, 0.008897549808526316), (3704, 0.01723663894064081), (3705, 0.0), (3706, 0.005808193856297435), (3707, 0.0), (3708, 0.019306466376741813), (3709, 0.0054316941480600555), (3710, 0.006368740081747977), (3711, 0.014395849282109477), (3712, 0.020532698335949402), (3713, 0.0), (3714, 0.0), (3715, 0.015098889928284405), (3716, 0.0), (3717, 0.0), (3718, 0.007914304895403693), (3719, 0.0), (3720, 0.01135156080056278), (3721, 0.0), (3722, 0.005672071102186446), (3723, 0.005715830387099538), (3724, 0.06246274555923079), (3725, 0.0), (3726, 0.0), (3727, 0.0), (3728, 0.005410484675106684), (3729, 0.0), (3730, 0.006014483419821073), (3731, 0.01347769294360264), (3732, 0.013113167137408191), (3733, 0.010686163193512304), (3734, 0.005824499605598471), (3735, 0.0), (3736, 0.020301482348758223), (3737, 0.0), (3738, 0.005506055504482704), (3739, 0.01385364714243855), (3740, 0.0), (3741, 0.050857047467555754), (3742, 0.030749767062989226), (3743, 0.01706298576101439), (3744, 0.007297492174914787), (3745, 0.0), (3746, 0.005432755137079383), (3747, 0.02966928128962581), (3748, 0.009547019104885824), (3749, 0.0), (3750, 0.006282389769173812), (3751, 0.023215156413676184), (3752, 0.004968290453968099), (3753, 0.005059254455283574), (3754, 0.0), (3755, 0.0), (3756, 0.02776156889502473), (3757, 0.0), (3758, 0.006249808700023751), (3759, 0.028569849928175666), (3760, 0.0), (3761, 0.0), (3762, 0.0), (3763, 0.006485234480405292), (3764, 0.006194912440233494), (3765, 0.011394015386917573), (3766, 0.0), (3767, 0.00470813372417246), (3768, 0.0), (3769, 0.0161498780677181), (3770, 0.0), (3771, 0.006394976931145032), (3772, 0.0), (3773, 0.0058350774751590164), (3774, 0.025901409577580067), (3775, 0.0), (3776, 0.00527752698219016), (3777, 0.01088662900676041), (3778, 0.05119327908367114), (3779, 0.0), (3780, 0.015238862019224204), (3781, 0.0), (3782, 0.00666196152203683), (3783, 0.005709720215286344), (3784, 0.0), (3785, 0.0), (3786, 0.01132412934815568), (3787, 0.006496038196095763), (3788, 0.0), (3789, 0.0), (3790, 0.014375583875821184), (3791, 0.0), (3792, 0.013936633326275), (3793, 0.0), (3794, 0.01555232257134439), (3795, 0.005697121831394648), (3796, 0.007050221753250461), (3797, 0.0), (3798, 0.006358991603677761), (3799, 0.0), (3800, 0.0066906504958097295), (3801, 0.009449904062492258), (3802, 0.0066548913483746195), (3803, 0.004832717668493633), (3804, 0.0), (3805, 0.005327442075509462), (3806, 0.0), (3807, 0.014709168396605986), (3808, 0.005975796734823155), (3809, 0.0), (3810, 0.005933446299271464), (3811, 0.0), (3812, 0.014784347535002674), (3813, 0.009353047426594518), (3814, 0.006097958118477114), (3815, 0.0), (3816, 0.0), (3817, 0.0), (3818, 0.059885978710910566), (3819, 0.013607004203289027), (3820, 0.0), (3821, 0.004685937296786972), (3822, 0.011507479664942335), (3823, 0.08689505894660979), (3824, 0.021232980404257376), (3825, 0.005111052571754126), (3826, 0.005258571146889796), (3827, 0.0), (3828, 0.012893435785967898), (3829, 0.0), (3830, 0.008951306493696019), (3831, 0.016912205884295345), (3832, 0.0), (3833, 0.0), (3834, 0.006612139662583472), (3835, 0.0), (3836, 0.0), (3837, 0.0), (3838, 0.0), (3839, 0.004768193561806407), (3840, 0.006172870627985443), (3841, 0.005125270319905624), (3842, 0.014499592919473885), (3843, 0.0), (3844, 0.036412501635803625), (3845, 0.005620216914125491), (3846, 0.006705197724521578), (3847, 0.0), (3848, 0.0), (3849, 0.015061261043430592), (3850, 0.006303033184714017), (3851, 0.0), (3852, 0.004865335453224825), (3853, 0.0), (3854, 0.014782341475400572), (3855, 0.007216237511360456), (3856, 0.00459670547101554), (3857, 0.005944718340064287), (3858, 0.028819324004066862), (3859, 0.0048055045566857925), (3860, 0.014959135232396061), (3861, 0.0), (3862, 0.01777359586618613), (3863, 0.0), (3864, 0.0), (3865, 0.004787818540564977), (3866, 0.03038248305405434), (3867, 0.0), (3868, 0.027179975811240258), (3869, 0.006839974729058337), (3870, 0.006086118945539302), (3871, 0.0), (3872, 0.0), (3873, 0.0), (3874, 0.0), (3875, 0.037384329264976195), (3876, 0.008451147643324913), (3877, 0.0), (3878, 0.019669667030108678), (3879, 0.03438527326142608), (3880, 0.0), (3881, 0.0), (3882, 0.0053306398819146245), (3883, 0.0), (3884, 0.0), (3885, 0.0), (3886, 0.010386628716312643), (3887, 0.0), (3888, 0.00527507478620837), (3889, 0.005582344937059243), (3890, 0.016086255372864233), (3891, 0.00528646226441302), (3892, 0.0635502400094028), (3893, 0.0), (3894, 0.005198712986674727), (3895, 0.0), (3896, 0.0), (3897, 0.006086362965076918), (3898, 0.0), (3899, 0.0), (3900, 0.0), (3901, 0.0), (3902, 0.0), (3903, 0.012652011940930971), (3904, 0.0), (3905, 0.005451020844285785), (3906, 0.0), (3907, 0.01789475263798414), (3908, 0.006238382104365382), (3909, 0.0), (3910, 0.020913222977037543), (3911, 0.0), (3912, 0.008303222901875467), (3913, 0.0), (3914, 0.009508442659290028), (3915, 0.0), (3916, 0.0), (3917, 0.005598274925877397), (3918, 0.0), (3919, 0.011487407262250289), (3920, 0.006011802705176415), (3921, 0.012561683265252479), (3922, 0.0), (3923, 0.010315605753765951), (3924, 0.01726254728550461), (3925, 0.0), (3926, 0.008498837808314074), (3927, 0.0), (3928, 0.004874723007270296), (3929, 0.0), (3930, 0.0), (3931, 0.0), (3932, 0.0), (3933, 0.004655932838079115), (3934, 0.005506992878337887), (3935, 0.0), (3936, 0.007234244692967183), (3937, 0.006089000933934294), (3938, 0.0), (3939, 0.0), (3940, 0.0), (3941, 0.03733525976681113), (3942, 0.0), (3943, 0.005494738193205708), (3944, 0.004834914523222965), (3945, 0.0), (3946, 0.013297597878557926), (3947, 0.019411934161705426), (3948, 0.0), (3949, 0.007232297285914211), (3950, 0.005632495364082885), (3951, 0.0), (3952, 0.006243060460983503), (3953, 0.0), (3954, 0.0), (3955, 0.011525844759740937), (3956, 0.0), (3957, 0.004727827958092581), (3958, 0.0), (3959, 0.041081493263184124), (3960, 0.0), (3961, 0.01133237646104126), (3962, 0.0), (3963, 0.011835140220863346), (3964, 0.06514080064430089), (3965, 0.005655715187060708), (3966, 0.029566556109708306), (3967, 0.0059271076532501155), (3968, 0.08187605392402901), (3969, 0.0), (3970, 0.038222724449432526), (3971, 0.0), (3972, 0.02347503616881657), (3973, 0.005454752913958887), (3974, 0.008066158257396702), (3975, 0.0), (3976, 0.0), (3977, 0.006479564048705545), (3978, 0.026659296072652938), (3979, 0.0063395366837966744), (3980, 0.010095578146276167), (3981, 0.0), (3982, 0.005927201121410298), (3983, 0.01085722365275862), (3984, 0.0057677396789835005), (3985, 0.029763025581910456), (3986, 0.0), (3987, 0.0), (3988, 0.0), (3989, 0.0), (3990, 0.0), (3991, 0.0), (3992, 0.04543917769081286), (3993, 0.0454601344173778), (3994, 0.0053844676939590694), (3995, 0.0), (3996, 0.0), (3997, 0.02348815112880665), (3998, 0.01640671246618233), (3999, 0.0), (4000, 0.010493972480361323), (4001, 0.047458502788224666), (4002, 0.0), (4003, 0.0), (4004, 0.03334241500007466), (4005, 0.006361415412790073), (4006, 0.0), (4007, 0.014224874904452699), (4008, 0.0), (4009, 0.005153384313160669), (4010, 0.0), (4011, 0.008246439787433984), (4012, 0.0216332939889719), (4013, 0.005768960567922439), (4014, 0.0), (4015, 0.01924362908579618), (4016, 0.0), (4017, 0.0), (4018, 0.018690555842187675), (4019, 0.0), (4020, 0.0), (4021, 0.0), (4022, 0.0), (4023, 0.006078876712002514), (4024, 0.0), (4025, 0.005664168955309898), (4026, 0.011446678262457299), (4027, 0.005357921646359332), (4028, 0.029135748640511088), (4029, 0.005267022490611649), (4030, 0.0), (4031, 0.0), (4032, 0.012685840604199375), (4033, 0.015283768206441197), (4034, 0.0), (4035, 0.008276690775520302), (4036, 0.005184575616982899), (4037, 0.011092212010483004), (4038, 0.012183350802141647), (4039, 0.0058444057646401685), (4040, 0.027607418600201425), (4041, 0.005915791560221048), (4042, 0.01745915319630929), (4043, 0.017282983302686322), (4044, 0.0058615857214734095), (4045, 0.015139238718694378), (4046, 0.006454095752462901), (4047, 0.0), (4048, 0.01178453209423761), (4049, 0.005227687319376647), (4050, 0.0), (4051, 0.005994501196728867), (4052, 0.032222397106249946), (4053, 0.0), (4054, 0.005369410877324255), (4055, 0.015376890217036598), (4056, 0.038491168005370356), (4057, 0.005031453797296812), (4058, 0.0), (4059, 0.013699475099348966), (4060, 0.009975670568462843), (4061, 0.017363010098392168), (4062, 0.00643260686016462), (4063, 0.0), (4064, 0.013229536432654166), (4065, 0.0), (4066, 0.004763246659951786), (4067, 0.0), (4068, 0.021811638822103734), (4069, 0.0), (4070, 0.01651189550482956), (4071, 0.005007459264804624), (4072, 0.0), (4073, 0.013709539300232537), (4074, 0.004909678376892152), (4075, 0.0), (4076, 0.005821997477329011), (4077, 0.006533169942855236), (4078, 0.0), (4079, 0.0), (4080, 0.0), (4081, 0.021487501907686248), (4082, 0.0), (4083, 0.0), (4084, 0.02648655138678382), (4085, 0.0), (4086, 0.015726240272195956), (4087, 0.0), (4088, 0.020909961589271945), (4089, 0.00866196089339647), (4090, 0.03137367075881842), (4091, 0.006356936284426777), (4092, 0.0), (4093, 0.011911366703200628), (4094, 0.011956307584181675), (4095, 0.013987091297963467), (4096, 0.008968088870254467), (4097, 0.009215887133183625), (4098, 0.006594449646969998), (4099, 0.011116190261397128), (4100, 0.0062917279814851), (4101, 0.017656246670337883), (4102, 0.006847304184135455), (4103, 0.006076445941600966), (4104, 0.004769716404219874), (4105, 0.006060665635351453), (4106, 0.01023805198473356), (4107, 0.0), (4108, 0.011474822615149628), (4109, 0.017379376095171643), (4110, 0.046456554169675354), (4111, 0.0), (4112, 0.04132858153880659), (4113, 0.005770813533981765), (4114, 0.012558799520125258), (4115, 0.0), (4116, 0.0066029795099705685), (4117, 0.006213135152538841), (4118, 0.029957033344545067), (4119, 0.03938967798777085), (4120, 0.0), (4121, 0.02439650685222053), (4122, 0.007623212388307485), (4123, 0.0), (4124, 0.010356104639044215), (4125, 0.0), (4126, 0.0), (4127, 0.0), (4128, 0.015550134043473336), (4129, 0.0), (4130, 0.0), (4131, 0.006865421576074341), (4132, 0.005651548849442869), (4133, 0.0), (4134, 0.0), (4135, 0.010767561113889738), (4136, 0.005826877184301006), (4137, 0.013829767636916672), (4138, 0.0), (4139, 0.0), (4140, 0.005832295648804308), (4141, 0.01884925746225233), (4142, 0.026899083423382486), (4143, 0.005016651264113656), (4144, 0.0), (4145, 0.02811567569508519), (4146, 0.0), (4147, 0.006283190516822632), (4148, 0.0059153231593076575), (4149, 0.0), (4150, 0.0), (4151, 0.0), (4152, 0.013509331269811974), (4153, 0.005526143042749278), (4154, 0.0), (4155, 0.013169173994383727), (4156, 0.009276081700409519), (4157, 0.005452695596167648), (4158, 0.004752728585254674), (4159, 0.008303198608542466), (4160, 0.0), (4161, 0.0), (4162, 0.0), (4163, 0.0), (4164, 0.029941608539528354), (4165, 0.009527097998818035), (4166, 0.006884306711708328), (4167, 0.0), (4168, 0.016426139611962376), (4169, 0.03408659068670657), (4170, 0.0), (4171, 0.010064335426929022), (4172, 0.0), (4173, 0.014640106677088902), (4174, 0.018015256689852512), (4175, 0.0), (4176, 0.005156183804975201), (4177, 0.0), (4178, 0.0), (4179, 0.0), (4180, 0.0), (4181, 0.006615728208909519), (4182, 0.0), (4183, 0.0), (4184, 0.0), (4185, 0.026918173685552844), (4186, 0.036522079169941456), (4187, 0.009350367851529179), (4188, 0.03147580429450618), (4189, 0.053032625904273795), (4190, 0.006156519665067803), (4191, 0.004669377241485807), (4192, 0.02536048187554824), (4193, 0.005681626099925608), (4194, 0.006773706584659029), (4195, 0.005244301033193672), (4196, 0.0), (4197, 0.013393245000266053), (4198, 0.007058831979446881), (4199, 0.04996333942879484), (4200, 0.004587133288021913), (4201, 0.009556171513324321), (4202, 0.008538056552799936), (4203, 0.01219663143190381), (4204, 0.0), (4205, 0.01053238511496204), (4206, 0.005164209875402861), (4207, 0.015338725259262206), (4208, 0.0), (4209, 0.0), (4210, 0.011713778423356448), (4211, 0.0062804307039328894), (4212, 0.0), (4213, 0.00512507529802416), (4214, 0.0), (4215, 0.0), (4216, 0.03228580204870111), (4217, 0.015400302835991864), (4218, 0.019337703570404628), (4219, 0.0), (4220, 0.0), (4221, 0.0076037356284700455), (4222, 0.007086434594614026), (4223, 0.007620100183057725), (4224, 0.035151692528508464), (4225, 0.016161865169842783), (4226, 0.011758059490397828), (4227, 0.011249512384335742), (4228, 0.0), (4229, 0.0), (4230, 0.0), (4231, 0.011045846202244603), (4232, 0.009184420889082437), (4233, 0.02190647999118564), (4234, 0.005453621161008689), (4235, 0.010088858177187196), (4236, 0.0058571417986942225), (4237, 0.004809845232016698), (4238, 0.006888426259181236), (4239, 0.0), (4240, 0.00921263466547953), (4241, 0.0), (4242, 0.01953679334656003), (4243, 0.0), (4244, 0.0071184333040950065), (4245, 0.042886803573386305), (4246, 0.024793799046992755), (4247, 0.007565949212806665), (4248, 0.006147578549643185), (4249, 0.006494337792862631), (4250, 0.0), (4251, 0.0), (4252, 0.013358692629986043), (4253, 0.0), (4254, 0.00521957617813432), (4255, 0.006089937899269104), (4256, 0.022564425573029036), (4257, 0.005197942053144459), (4258, 0.033351663698831954), (4259, 0.005640316482724619), (4260, 0.0), (4261, 0.012162861809130992), (4262, 0.023674931155776416), (4263, 0.005534648612202916), (4264, 0.02145962704081368), (4265, 0.0057864576392868475), (4266, 0.0), (4267, 0.006355106442420001), (4268, 0.01034216644552537), (4269, 0.006313776665148727), (4270, 0.0), (4271, 0.01196051421894403), (4272, 0.015874059348261027), (4273, 0.0), (4274, 0.01376110408637459), (4275, 0.017023018536821758), (4276, 0.006889728564350494), (4277, 0.00792594844422548), (4278, 0.0), (4279, 0.02863938886272912), (4280, 0.10553773246166545), (4281, 0.006351679905441668), (4282, 0.010436283776800335), (4283, 0.011517656425020792), (4284, 0.01618311507457489), (4285, 0.013085509320484964), (4286, 0.009116718520891966), (4287, 0.01410001658197485), (4288, 0.010815292800400014), (4289, 0.006385778340395688), (4290, 0.0049975559213213915), (4291, 0.0), (4292, 0.015181363833719418), (4293, 0.013102157862922632), (4294, 0.006244768285498223), (4295, 0.039944570046431496), (4296, 0.0), (4297, 0.005003787364983008), (4298, 0.0), (4299, 0.015130279424313175), (4300, 0.005630975565253135), (4301, 0.0), (4302, 0.0), (4303, 0.0), (4304, 0.005165334173428018), (4305, 0.0), (4306, 0.0), (4307, 0.0), (4308, 0.0058566324128237245), (4309, 0.0), (4310, 0.014343489915999784), (4311, 0.0), (4312, 0.01229947255425757), (4313, 0.0), (4314, 0.0), (4315, 0.005742469024107969), (4316, 0.0), (4317, 0.0), (4318, 0.0), (4319, 0.005431478069369947), (4320, 0.0), (4321, 0.012951956192580365), (4322, 0.0), (4323, 0.03792831391545321), (4324, 0.005628638988425612), (4325, 0.03452599110425929), (4326, 0.0), (4327, 0.004975411291812563), (4328, 0.03435960404472294), (4329, 0.00840598618882131), (4330, 0.006005096263175174), (4331, 0.0), (4332, 0.011715653063935658), (4333, 0.027701418754958775), (4334, 0.025612749452270954), (4335, 0.011576949575986116), (4336, 0.0), (4337, 0.0), (4338, 0.0), (4339, 0.029358398688552858), (4340, 0.022583928877801737), (4341, 0.0061992539797364535), (4342, 0.0), (4343, 0.0), (4344, 0.009469383239879281), (4345, 0.0), (4346, 0.005854863180853552), (4347, 0.005413740184703832), (4348, 0.005103011464240813), (4349, 0.0), (4350, 0.019974854547629404), (4351, 0.011801006033203658), (4352, 0.022727738591586975), (4353, 0.012862022901229078), (4354, 0.0), (4355, 0.0), (4356, 0.008222949936444875), (4357, 0.005569662281957554), (4358, 0.0), (4359, 0.0), (4360, 0.0), (4361, 0.038661433896795376), (4362, 0.0), (4363, 0.006114922121294708), (4364, 0.0), (4365, 0.03601353034574506), (4366, 0.017020263128775047), (4367, 0.0), (4368, 0.0), (4369, 0.08168382104460484), (4370, 0.0), (4371, 0.0), (4372, 0.0), (4373, 0.004621069881841726), (4374, 0.022962855328268274), (4375, 0.0), (4376, 0.005756474472588901), (4377, 0.016533273873050314), (4378, 0.0), (4379, 0.06342191088033003), (4380, 0.03678272572222889), (4381, 0.0), (4382, 0.0), (4383, 0.015459884305189207), (4384, 0.00650080493985634), (4385, 0.0), (4386, 0.0), (4387, 0.010097316051845726), (4388, 0.008563767390189367), (4389, 0.0), (4390, 0.03684464418234219), (4391, 0.0), (4392, 0.0063417504069369895), (4393, 0.0), (4394, 0.0), (4395, 0.011215873529850127), (4396, 0.0), (4397, 0.0), (4398, 0.0), (4399, 0.021364492496159883), (4400, 0.0), (4401, 0.0), (4402, 0.0050839473855353), (4403, 0.031800156894368346), (4404, 0.005374178896949176), (4405, 0.0), (4406, 0.005700556032857648), (4407, 0.01102921848008883), (4408, 0.006315778239148657), (4409, 0.0), (4410, 0.0), (4411, 0.0), (4412, 0.0), (4413, 0.0), (4414, 0.004610445657123275), (4415, 0.0), (4416, 0.0), (4417, 0.0), (4418, 0.0), (4419, 0.00648837852313565), (4420, 0.005435435141457492), (4421, 0.016040942539108923), (4422, 0.005516610995674306), (4423, 0.0), (4424, 0.0), (4425, 0.0), (4426, 0.004732497500940378), (4427, 0.008954533181062665), (4428, 0.0), (4429, 0.00548099172165174), (4430, 0.0063856610985215554), (4431, 0.011810072077950543), (4432, 0.005235488519623498), (4433, 0.005652122667404232), (4434, 0.028289721949508122), (4435, 0.03306980774877541), (4436, 0.023511349372046395), (4437, 0.017582094685437873), (4438, 0.0358234627822773), (4439, 0.005934031606069759), (4440, 0.01364784707064498), (4441, 0.0), (4442, 0.03514051898888916), (4443, 0.007223268034762998), (4444, 0.00795129293288291), (4445, 0.013087155010117806), (4446, 0.005470699150627745), (4447, 0.010861934780833847), (4448, 0.011958575649589439), (4449, 0.0), (4450, 0.015313878981043916), (4451, 0.0), (4452, 0.0), (4453, 0.09377643446359997), (4454, 0.02723811587005217), (4455, 0.0), (4456, 0.0061791485336827635), (4457, 0.005412217479823264), (4458, 0.0), (4459, 0.0051118765266885795), (4460, 0.04594657386795594), (4461, 0.0), (4462, 0.030714017556470283), (4463, 0.0060156707374667065), (4464, 0.04078528843031279), (4465, 0.01166800859279935), (4466, 0.0), (4467, 0.005599757601537795), (4468, 0.021246210991982647), (4469, 0.013094686795772428), (4470, 0.0), (4471, 0.0), (4472, 0.0133399073411146), (4473, 0.01795159477588342), (4474, 0.0107854795581176), (4475, 0.03224611328772531), (4476, 0.0), (4477, 0.013874610177321743), (4478, 0.0), (4479, 0.0), (4480, 0.0), (4481, 0.015833487745239797), (4482, 0.0), (4483, 0.0062551807486603914), (4484, 0.0), (4485, 0.0), (4486, 0.01718765083910018), (4487, 0.0), (4488, 0.013355000069911001), (4489, 0.005589056196917994), (4490, 0.00732363975376139), (4491, 0.0), (4492, 0.0), (4493, 0.08707111165272675), (4494, 0.017936963897256), (4495, 0.0), (4496, 0.0), (4497, 0.01839672990878489), (4498, 0.0), (4499, 0.0), (4500, 0.0), (4501, 0.0), (4502, 0.02478098840789835), (4503, 0.040348297610763695), (4504, 0.030011114449417193), (4505, 0.0), (4506, 0.0), (4507, 0.016877172348501585), (4508, 0.018933890552021666), (4509, 0.005834187405291398), (4510, 0.010830683991647107), (4511, 0.04277658582808436), (4512, 0.011477946928650817), (4513, 0.0), (4514, 0.0063663370527005745), (4515, 0.015249492679800648), (4516, 0.0), (4517, 0.0), (4518, 0.0), (4519, 0.004689303120141764), (4520, 0.0), (4521, 0.0), (4522, 0.005987463640214482), (4523, 0.0051690621466559845), (4524, 0.00666593406008595), (4525, 0.014623710105789799), (4526, 0.0), (4527, 0.0), (4528, 0.0), (4529, 0.0), (4530, 0.0), (4531, 0.011224430602128601), (4532, 0.0), (4533, 0.0), (4534, 0.005745801020628283), (4535, 0.0), (4536, 0.015188540545600851), (4537, 0.0), (4538, 0.0), (4539, 0.01877881055980115), (4540, 0.0), (4541, 0.008488702957311878), (4542, 0.01322925076402462), (4543, 0.0059557529734055245), (4544, 0.0), (4545, 0.023572502399316964), (4546, 0.0), (4547, 0.0), (4548, 0.005319131222348125), (4549, 0.006172763421150525), (4550, 0.005929791109264888), (4551, 0.016783354470533415), (4552, 0.005321784209607583), (4553, 0.01543755984702683), (4554, 0.05548520760024141), (4555, 0.008027059226268257), (4556, 0.011094760228006156), (4557, 0.022632380387640087), (4558, 0.01403251074192371), (4559, 0.0), (4560, 0.026998398789115887), (4561, 0.0), (4562, 0.00679801925663879), (4563, 0.0), (4564, 0.011097341580877006), (4565, 0.0), (4566, 0.0), (4567, 0.0), (4568, 0.00508376667215385), (4569, 0.008033349315857053), (4570, 0.006489741490595171), (4571, 0.0), (4572, 0.02706989862489072), (4573, 0.0), (4574, 0.008977438832715125), (4575, 0.0), (4576, 0.010476008253223904), (4577, 0.0), (4578, 0.0), (4579, 0.0), (4580, 0.005897503029538241), (4581, 0.01654321142385186), (4582, 0.0), (4583, 0.0), (4584, 0.053144557364367226), (4585, 0.0), (4586, 0.032943788256013046), (4587, 0.0382604585627946), (4588, 0.0), (4589, 0.020027094396528604), (4590, 0.017644598680699636), (4591, 0.005763552999171734), (4592, 0.05125283488079635), (4593, 0.01774711209697491), (4594, 0.0), (4595, 0.0), (4596, 0.059983746191800656), (4597, 0.0), (4598, 0.007036566055328923), (4599, 0.005972272420274828), (4600, 0.019370471349414616), (4601, 0.0), (4602, 0.0), (4603, 0.005386532023361343), (4604, 0.0), (4605, 0.0), (4606, 0.007853523628508443), (4607, 0.0), (4608, 0.005603838066241032), (4609, 0.006360967299734853), (4610, 0.008737083113937722), (4611, 0.0), (4612, 0.00703227551056314), (4613, 0.005816321258827412), (4614, 0.03797050595320587), (4615, 0.01573308673233055), (4616, 0.0), (4617, 0.0), (4618, 0.0), (4619, 0.007225519132262756), (4620, 0.0), (4621, 0.0059823430596294734), (4622, 0.0), (4623, 0.010201612829786091), (4624, 0.012127771743764509), (4625, 0.0), (4626, 0.0051913134006509295), (4627, 0.004746512563052983), (4628, 0.005446636350972977), (4629, 0.01215699321071103), (4630, 0.006466615785667796), (4631, 0.007607587518309236), (4632, 0.0), (4633, 0.0060952865586754125), (4634, 0.005168100516686157), (4635, 0.0), (4636, 0.004581315190990205), (4637, 0.019701859013654115), (4638, 0.02343428352621735), (4639, 0.025892306594433184), (4640, 0.0), (4641, 0.0), (4642, 0.006969481605685155), (4643, 0.0), (4644, 0.0), (4645, 0.0), (4646, 0.007973605080529408), (4647, 0.027441272970576792), (4648, 0.0), (4649, 0.00561673748258005), (4650, 0.0), (4651, 0.0), (4652, 0.013258756083725636), (4653, 0.007171206338903331), (4654, 0.03581327100210122), (4655, 0.03162400580011827), (4656, 0.01141828021464551), (4657, 0.0), (4658, 0.015107899085690957), (4659, 0.03579844177054681), (4660, 0.05413478872600127), (4661, 0.005336077191505131), (4662, 0.0), (4663, 0.015889577523240453), (4664, 0.1063555847832504), (4665, 0.0), (4666, 0.0), (4667, 0.0), (4668, 0.0164413731024376), (4669, 0.035552477104168034), (4670, 0.0), (4671, 0.0), (4672, 0.0), (4673, 0.0377200311002799), (4674, 0.008926357517978711), (4675, 0.005457653854355107), (4676, 0.006663591122232359), (4677, 0.022036999319534418), (4678, 0.01556039455980374), (4679, 0.03745777758596167), (4680, 0.0), (4681, 0.0), (4682, 0.01071600858097376), (4683, 0.0), (4684, 0.04087901645609462), (4685, 0.0), (4686, 0.005625220503131014), (4687, 0.005493518074974476), (4688, 0.0), (4689, 0.005149606456344981), (4690, 0.005652840017610952), (4691, 0.0), (4692, 0.0), (4693, 0.0), (4694, 0.0), (4695, 0.005777907172424103), (4696, 0.0), (4697, 0.0), (4698, 0.007467052744225069), (4699, 0.0176713910163238), (4700, 0.006968520555684393), (4701, 0.018433643180172755), (4702, 0.025483398755394838), (4703, 0.0), (4704, 0.0), (4705, 0.009303703433315694), (4706, 0.0), (4707, 0.0), (4708, 0.014671516047879784), (4709, 0.03614053956482915), (4710, 0.033252139429934484), (4711, 0.0), (4712, 0.0), (4713, 0.0), (4714, 0.0), (4715, 0.0), (4716, 0.0), (4717, 0.024799694909990264), (4718, 0.0), (4719, 0.00926456237473656), (4720, 0.006628387213953706), (4721, 0.006437996574608237), (4722, 0.0), (4723, 0.007651334631119516), (4724, 0.012306227146362711), (4725, 0.026895553229398496), (4726, 0.02624678940926166), (4727, 0.011575163184792361), (4728, 0.0), (4729, 0.0), (4730, 0.0), (4731, 0.0), (4732, 0.005919881054688619), (4733, 0.005295192070148815), (4734, 0.0), (4735, 0.012018478604169009), (4736, 0.0), (4737, 0.03293855968970511), (4738, 0.005148474892458056), (4739, 0.030231215709249977), (4740, 0.0), (4741, 0.0), (4742, 0.0068591550848262454), (4743, 0.005860070181240687), (4744, 0.00444866680290126), (4745, 0.0), (4746, 0.006353039365937531), (4747, 0.018537081821177075), (4748, 0.004835481284423903), (4749, 0.0), (4750, 0.0), (4751, 0.0), (4752, 0.006105366491013992), (4753, 0.0), (4754, 0.005845691926141396), (4755, 0.0), (4756, 0.022887800822914292), (4757, 0.009147681379523855), (4758, 0.0), (4759, 0.0)]\n"
          ]
        }
      ]
    },
    {
      "cell_type": "code",
      "source": [
        "len(Recommendation_Score)"
      ],
      "metadata": {
        "colab": {
          "base_uri": "https://localhost:8080/"
        },
        "id": "4Q4ghLnWGEa1",
        "outputId": "57f58bd9-8794-451f-b6a9-a941273b1db4"
      },
      "execution_count": 43,
      "outputs": [
        {
          "output_type": "execute_result",
          "data": {
            "text/plain": [
              "4760"
            ]
          },
          "metadata": {},
          "execution_count": 43
        }
      ]
    },
    {
      "cell_type": "markdown",
      "source": [
        "## **Get All Movies Sort Based on Recommendation Score wrt Favourite Movie**"
      ],
      "metadata": {
        "id": "ZSCNemBjGZW5"
      }
    },
    {
      "cell_type": "code",
      "source": [
        "#sorting the movies based on their similarity score\n",
        "\n",
        "Sorted_Similar_Movies = sorted(Recommendation_Score, key = lambda x:x[1], reverse=True)\n",
        "print (Sorted_Similar_Movies)"
      ],
      "metadata": {
        "colab": {
          "base_uri": "https://localhost:8080/"
        },
        "id": "XtXHttFKGmMC",
        "outputId": "b8c66b5c-aa03-4412-b1df-3fa720b1c62b"
      },
      "execution_count": 47,
      "outputs": [
        {
          "output_type": "stream",
          "name": "stdout",
          "text": [
            "[(908, 1.0000000000000002), (896, 0.20526685541173822), (1705, 0.1879547958603412), (3586, 0.1588266613748507), (3396, 0.14711804443051496), (3290, 0.14193935910015104), (2715, 0.13959251759058272), (3018, 0.13270299100787783), (622, 0.12033317057621715), (3690, 0.11771614819825107), (1474, 0.11242276610781704), (1508, 0.10936988369370446), (2871, 0.10683757667149225), (4664, 0.1063555847832504), (3172, 0.10575838297671658), (4280, 0.10553773246166545), (2023, 0.10538865323477653), (1964, 0.1026071712064156), (180, 0.10223401528641586), (501, 0.09940222306238422), (2629, 0.09871151805643975), (623, 0.09726063749379724), (1725, 0.09586573846798833), (2181, 0.09582682700609754), (328, 0.09548808503687393), (3384, 0.09534413630653833), (2988, 0.09427828704953033), (4453, 0.09377643446359997), (910, 0.09235243581056429), (585, 0.0901491516032855), (1787, 0.089797370931596), (2067, 0.08959369132019648), (802, 0.0887249099996884), (1579, 0.08868442113987893), (1557, 0.08803819140084018), (1010, 0.08742982801265714), (4493, 0.08707111165272675), (631, 0.08705399504583944), (3823, 0.08689505894660979), (3491, 0.08504829385975872), (3968, 0.08187605392402901), (4369, 0.08168382104460484), (1124, 0.08161859162593527), (3385, 0.08114255058866356), (1154, 0.08076129128179539), (1250, 0.08061919748565075), (2865, 0.07965048515603206), (2850, 0.07781735712033465), (1714, 0.07637356121663585), (1388, 0.07629246261304008), (567, 0.07627039568915629), (1530, 0.07613098660761576), (1546, 0.07583928441768972), (2453, 0.0735741163483561), (1217, 0.0732049150228172), (1356, 0.07127311009810387), (2257, 0.06964311699948449), (3219, 0.06893590623526323), (893, 0.06788159827455938), (417, 0.06739117910319259), (189, 0.06717740625635088), (3648, 0.0666599234792054), (2072, 0.06618862636846425), (3964, 0.06514080064430089), (3056, 0.06400326232231769), (3892, 0.0635502400094028), (1302, 0.06342344796248882), (4379, 0.06342191088033003), (2669, 0.06329046192774199), (1765, 0.06284315517057396), (3724, 0.06246274555923079), (1940, 0.062418130703095404), (48, 0.061479641623571626), (1506, 0.06087958069142983), (2224, 0.060644575218908967), (2565, 0.060615403656606004), (3099, 0.060235968062025705), (3323, 0.06005743167591811), (4596, 0.059983746191800656), (3818, 0.059885978710910566), (520, 0.058589537409133724), (1855, 0.05854067438284408), (937, 0.05807553573979339), (1086, 0.05783336131843373), (2710, 0.056109830382071506), (2049, 0.05578521960018239), (2260, 0.055773069753090425), (708, 0.05574223586644783), (2216, 0.055503100063029484), (4554, 0.05548520760024141), (162, 0.055464778628372666), (1839, 0.05539772495733101), (1372, 0.055350367344370516), (1200, 0.05477264968421448), (810, 0.05448261358871822), (3357, 0.0543127578881561), (4660, 0.05413478872600127), (1570, 0.054040575457294814), (929, 0.05386488463348095), (1305, 0.05385011702875724), (629, 0.053673382327169256), (2578, 0.05362710590393711), (4584, 0.053144557364367226), (4189, 0.053032625904273795), (1352, 0.05260927249418033), (2584, 0.05233743835803842), (3641, 0.05222116602294623), (801, 0.05190246728797793), (285, 0.05159869359866368), (2229, 0.05134304463510456), (4592, 0.05125283488079635), (3778, 0.05119327908367114), (3741, 0.050857047467555754), (2616, 0.04999363230832042), (4199, 0.04996333942879484), (2027, 0.04956965552371883), (2931, 0.04938680241558097), (2205, 0.04937090565378961), (905, 0.04936478173737599), (561, 0.04935048523796224), (2695, 0.04919551075473316), (1587, 0.0491823653973012), (2187, 0.049112298576314536), (687, 0.04909615367064105), (201, 0.04895190216246094), (288, 0.048914451234001434), (2622, 0.0488411864242524), (3153, 0.04863337679355989), (3294, 0.04854158797492407), (3443, 0.04847732688639676), (3000, 0.0482782244669729), (1404, 0.0482379660901275), (1234, 0.04799955262900006), (1229, 0.047989385340267934), (2130, 0.047934170425804556), (700, 0.047697002084722336), (1698, 0.04764377935666679), (3118, 0.04763314672118131), (2491, 0.04753126627870564), (2043, 0.04750880906483544), (4001, 0.047458502788224666), (1118, 0.04741864777081663), (918, 0.04721896545279399), (931, 0.04714036016923424), (3275, 0.04691768270844647), (4110, 0.046456554169675354), (1572, 0.04635040859136505), (2512, 0.04623977070747291), (1816, 0.046196659968463505), (2910, 0.0461468226762045), (2732, 0.04612337563900173), (4460, 0.04594657386795594), (1824, 0.04570803981594549), (2422, 0.04557717910769929), (3993, 0.0454601344173778), (3992, 0.04543917769081286), (3036, 0.04535047330230579), (461, 0.045229633817631454), (3428, 0.04504137683871361), (432, 0.04466219204268418), (1830, 0.04461491463933931), (1384, 0.04459993453067245), (1017, 0.04458430347482217), (2983, 0.04451089061670541), (2820, 0.044333371659688856), (2513, 0.04424065399541959), (1489, 0.04423350270434753), (2944, 0.044212199851356805), (2777, 0.04418124331611741), (1992, 0.044046403604894285), (3086, 0.043691415081086316), (2884, 0.0433317335806206), (2112, 0.04330176522939455), (1634, 0.04328211713871499), (1197, 0.04322173567269172), (2089, 0.043210929525229314), (3038, 0.04316415919006487), (1256, 0.04310977575410522), (4245, 0.042886803573386305), (3297, 0.042863782106553075), (4511, 0.04277658582808436), (768, 0.04268917394651891), (981, 0.04263445395376984), (297, 0.04245736683729742), (1495, 0.04242172557366572), (692, 0.04242126255961644), (3040, 0.04238385507198396), (2082, 0.04210377019266079), (2040, 0.04200286659789025), (2487, 0.04196469331257115), (2482, 0.04190652224931575), (368, 0.041829217937872365), (153, 0.04182530296312395), (2210, 0.04175343702891135), (1760, 0.041542381960796654), (652, 0.041424379454763766), (744, 0.041362466129189535), (4112, 0.04132858153880659), (1688, 0.041320170936794756), (3959, 0.041081493263184124), (1155, 0.04107684331121779), (413, 0.040971285789890566), (1795, 0.04089428101726245), (4684, 0.04087901645609462), (1767, 0.04079434217186155), (4464, 0.04078528843031279), (683, 0.040670558230764466), (11, 0.040630657227880194), (3142, 0.04061419407171504), (500, 0.040601587160074525), (2180, 0.04036000118063395), (4503, 0.040348297610763695), (1455, 0.040301811542660326), (1377, 0.04019643634563523), (874, 0.04010200573842966), (2812, 0.04003765418331445), (1534, 0.04002537131685391), (4295, 0.039944570046431496), (1223, 0.03989702657503108), (2893, 0.039890414606206265), (966, 0.03983154744983332), (633, 0.03982546094218721), (3525, 0.039823264339984905), (1510, 0.039452729479894484), (1707, 0.039433258687120595), (4119, 0.03938967798777085), (568, 0.03932444212343189), (1945, 0.03930611204324373), (2510, 0.03925157193677082), (719, 0.039240625444800975), (2996, 0.03913417432186082), (2250, 0.03886748666324816), (894, 0.03875552219421438), (4361, 0.038661433896795376), (1358, 0.0385773869236916), (4056, 0.038491168005370356), (1385, 0.03846921066915712), (1247, 0.038408800059633624), (2729, 0.038359182807859014), (4587, 0.0382604585627946), (1710, 0.03824356734285328), (3970, 0.038222724449432526), (1739, 0.038101040700972304), (4614, 0.03797050595320587), (4323, 0.03792831391545321), (811, 0.03784671413420096), (1402, 0.03775925360472399), (4673, 0.0377200311002799), (1487, 0.03747733378775935), (2018, 0.037459395995826573), (4679, 0.03745777758596167), (415, 0.037445141905770994), (939, 0.037414693668009785), (3875, 0.037384329264976195), (1312, 0.03738330086193794), (1428, 0.03737764680822385), (3941, 0.03733525976681113), (872, 0.03731770799690456), (1679, 0.03729665224019868), (232, 0.03712587570142537), (3403, 0.03710274049599254), (795, 0.037060980859244794), (760, 0.03702871264629838), (2754, 0.03690722212645293), (1592, 0.03689993607697899), (2608, 0.03686653494580591), (4390, 0.03684464418234219), (1948, 0.03679829409401278), (599, 0.0367977032297722), (4380, 0.03678272572222889), (2304, 0.036732346343947585), (3145, 0.036644539422649), (2691, 0.03656804807030932), (1840, 0.03653517480338849), (4186, 0.036522079169941456), (1671, 0.03650643979497258), (111, 0.036465100449475665), (1296, 0.036460097034188566), (2486, 0.03641935318264154), (3844, 0.036412501635803625), (145, 0.03632921944065368), (134, 0.036259180630312665), (89, 0.03619529270839764), (214, 0.0361600221472919), (4709, 0.03614053956482915), (4365, 0.03601353034574506), (600, 0.03598387598046617), (1359, 0.03595591765578281), (4438, 0.0358234627822773), (644, 0.03581724597786215), (4654, 0.03581327100210122), (4659, 0.03579844177054681), (521, 0.03578554573572224), (2264, 0.03574265166518444), (2468, 0.035738952515779986), (545, 0.03570939451095975), (530, 0.03567843505187294), (1682, 0.03563198202474817), (1314, 0.03557732088195064), (701, 0.03557206541556381), (4669, 0.035552477104168034), (452, 0.03551864381678218), (479, 0.03547762914478329), (3445, 0.035454178526622374), (2617, 0.0353084828239406), (675, 0.0352532589275707), (4224, 0.035151692528508464), (4442, 0.03514051898888916), (3570, 0.03510914020118357), (553, 0.035088234873214906), (418, 0.03508477310716832), (302, 0.03507366858878454), (2756, 0.03505650548832724), (1488, 0.03504393900494873), (2734, 0.03499721803995733), (360, 0.034829772799758206), (2932, 0.03481515777896489), (2927, 0.03472912155836578), (2240, 0.03470608095018542), (3095, 0.03461693419605702), (2825, 0.03455940951153981), (460, 0.0345398019768716), (4325, 0.03452599110425929), (1630, 0.03448356586201489), (995, 0.034478348411633754), (3610, 0.03438665378046338), (3879, 0.03438527326142608), (2780, 0.03438157891927711), (2356, 0.034380299841049226), (4328, 0.03435960404472294), (123, 0.03426804940065372), (2575, 0.03415401310935499), (758, 0.03411036506549713), (4169, 0.03408659068670657), (658, 0.03404501372757274), (3167, 0.03402922058828108), (534, 0.033957650390384696), (737, 0.03394972822532251), (2663, 0.0339088489416555), (1899, 0.03382891398028358), (1412, 0.0337638202844594), (912, 0.03356219597101977), (1949, 0.03350960230893032), (948, 0.03347490836833641), (3448, 0.03347092581857415), (2604, 0.033437758784508054), (1168, 0.03341222969400246), (2327, 0.03339915292041413), (773, 0.03338092932361382), (4258, 0.033351663698831954), (4004, 0.03334241500007466), (3633, 0.03332896155521402), (2275, 0.03329990142084349), (1306, 0.03325678205230201), (4710, 0.033252139429934484), (2597, 0.033208177402247935), (1196, 0.033192748284454995), (4435, 0.03306980774877541), (1958, 0.03302307149211586), (3149, 0.03301356858265632), (2444, 0.03300861720336069), (3588, 0.03299142331577243), (955, 0.03299022719755061), (4586, 0.032943788256013046), (4737, 0.03293855968970511), (3456, 0.03284969522407129), (742, 0.03280154736264343), (2772, 0.03279829689799464), (1280, 0.03274606438189116), (2878, 0.03274242239485162), (2498, 0.032740632034372066), (3361, 0.03269000281831996), (1582, 0.03267461647567076), (1252, 0.032631350666204914), (94, 0.03257786184086107), (1128, 0.03255991604201871), (52, 0.03239993221352051), (327, 0.03237828029828027), (2752, 0.03233189454419287), (3259, 0.03233052075820182), (2582, 0.03230627924668547), (4216, 0.03228580204870111), (3295, 0.03225218726935327), (4475, 0.03224611328772531), (2116, 0.03222448954581587), (4052, 0.032222397106249946), (727, 0.03220843532021467), (2099, 0.03220197255415851), (249, 0.032162771178883234), (3187, 0.03208761604702047), (1064, 0.032056750665566264), (1482, 0.03201288301452594), (3457, 0.031907943369600955), (3327, 0.031888585131682176), (3459, 0.03184643667256081), (1467, 0.0318298609934405), (2365, 0.03182752113939226), (4403, 0.031800156894368346), (2424, 0.03176470968937009), (2102, 0.0317616953367334), (314, 0.031734333580494184), (1420, 0.031717933210976844), (2670, 0.03169421586383461), (1381, 0.031683161034610774), (435, 0.03165369226482869), (4655, 0.03162400580011827), (80, 0.031521442107390475), (4188, 0.03147580429450618), (3264, 0.0314244756280952), (4090, 0.03137367075881842), (1405, 0.0313485063808805), (1162, 0.031338605213905066), (86, 0.03131083025726848), (1873, 0.03125024029319482), (1993, 0.03122897438927397), (1354, 0.031173545983005226), (960, 0.031069384192071094), (2925, 0.03106933548060511), (813, 0.03099560746041078), (1965, 0.030988329212646118), (1991, 0.030970387523061436), (3253, 0.030959402995620788), (1665, 0.030942584049813607), (506, 0.03094054271913758), (2680, 0.030926858078155074), (870, 0.030899354118884947), (2156, 0.03089357930999606), (3496, 0.03081185878120995), (3742, 0.030749767062989226), (2841, 0.030719307000218236), (1509, 0.030715225129590098), (4462, 0.030714017556470283), (1122, 0.030713016021573405), (889, 0.030708188426163116), (2239, 0.030635326778718473), (3688, 0.030608024565520114), (1063, 0.030599473654323087), (1651, 0.03056913624340872), (790, 0.03052966332142574), (659, 0.03051459842937603), (3866, 0.03038248305405434), (2386, 0.03036725831335308), (88, 0.0303582204961054), (1973, 0.0303407914417675), (1360, 0.03033404358318845), (2924, 0.03031808379072256), (1639, 0.030299401022673225), (1907, 0.030247732714444628), (3003, 0.030244997431856557), (4739, 0.030231215709249977), (3330, 0.03022310824087814), (3450, 0.030140818546685634), (1137, 0.030140459030972695), (516, 0.030132015094757672), (2399, 0.03010255597918305), (1321, 0.03008093598297004), (578, 0.030042763805688183), (1485, 0.03004018939631632), (4504, 0.030011114449417193), (4118, 0.029957033344545067), (4164, 0.029941608539528354), (2726, 0.02988383620873884), (2177, 0.029838126216103343), (3377, 0.02983692551638814), (357, 0.029784690365626473), (1812, 0.02977535563018762), (1184, 0.029767209013150824), (3985, 0.029763025581910456), (1943, 0.029753056563116533), (770, 0.029744306890699103), (1131, 0.02973578325190978), (643, 0.02969463559866157), (2638, 0.029690602159143015), (3747, 0.02966928128962581), (1857, 0.02963705140357345), (439, 0.029631226153805507), (1226, 0.029600245569541238), (3632, 0.029584731229542832), (3306, 0.0295696190141794), (3966, 0.029566556109708306), (119, 0.029436114263535613), (1553, 0.02942352685762642), (322, 0.02936460085238899), (4339, 0.029358398688552858), (1237, 0.02932922446887884), (1879, 0.029316530523288534), (2078, 0.029247213326959974), (1798, 0.029241362208885846), (3183, 0.029241086364401085), (113, 0.029237622809746948), (1728, 0.02915810292122121), (4028, 0.029135748640511088), (1353, 0.029124719578690898), (781, 0.029108121130660733), (1669, 0.029049861224287998), (341, 0.02904156522522106), (1690, 0.028994219459708696), (1925, 0.028927185030599496), (3858, 0.028819324004066862), (2720, 0.02873878293175359), (2848, 0.028735048999536935), (2277, 0.028673490193148743), (4279, 0.02863938886272912), (3759, 0.028569849928175666), (3232, 0.028523121481279008), (3303, 0.028484254865286898), (68, 0.028470396721843358), (2626, 0.028455747120826526), (3110, 0.02844250599341086), (2649, 0.02843563420479675), (1399, 0.028398632542108015), (1480, 0.028391797198095623), (1235, 0.028391341673915185), (3121, 0.028389934916547538), (2447, 0.028379674892145275), (2645, 0.028295795093552137), (4434, 0.028289721949508122), (753, 0.02824917290391714), (3113, 0.0282290335034771), (3643, 0.02821725251581016), (1709, 0.028195223036185817), (2788, 0.028177277606890754), (1645, 0.028170698648621692), (726, 0.028165462104707283), (388, 0.02811747885789507), (4145, 0.02811567569508519), (1947, 0.02809974280320048), (356, 0.0280407388234487), (1286, 0.02796557553978822), (2690, 0.027885399526152915), (3129, 0.027855497226146046), (3332, 0.027800394304415738), (3756, 0.02776156889502473), (3508, 0.02772320118898474), (4333, 0.027701418754958775), (1722, 0.027667316882605257), (1267, 0.02766693279017552), (4040, 0.027607418600201425), (2122, 0.02760369013109406), (2227, 0.027474463891199667), (4647, 0.027441272970576792), (2664, 0.027414620161301643), (3536, 0.02739905573227865), (2254, 0.02733290042952146), (1192, 0.02732026561097675), (654, 0.027316254191170727), (1843, 0.027314262610936144), (1179, 0.02728827529478508), (3207, 0.027282095249011692), (2632, 0.02724090883677389), (4454, 0.02723811587005217), (3073, 0.027226717797862694), (2336, 0.027208124576666142), (3868, 0.027179975811240258), (3027, 0.02716435544263692), (1537, 0.027108371167192485), (1971, 0.02710120079148581), (4572, 0.02706989862489072), (1462, 0.02702657136519126), (1729, 0.027015013426013534), (4560, 0.026998398789115887), (511, 0.02698371647588799), (206, 0.026966556931572096), (4185, 0.026918173685552844), (3506, 0.026914519750023777), (4142, 0.026899083423382486), (4725, 0.026895553229398496), (402, 0.026865126688714196), (679, 0.02681332322991816), (3670, 0.026755418400465907), (3557, 0.0267548783574784), (62, 0.02671335921297746), (3205, 0.026713142095406688), (3978, 0.026659296072652938), (1924, 0.026649440000111057), (385, 0.026643445881083097), (3122, 0.026631470676956176), (263, 0.02662528612106211), (181, 0.026559620059550832), (1333, 0.026539187669754733), (4084, 0.02648655138678382), (2318, 0.026434655888833234), (904, 0.02640892481229075), (246, 0.02640419236643501), (2866, 0.026378542801223946), (444, 0.026318871317184817), (1442, 0.026275572870038257), (2791, 0.026274669319673274), (4726, 0.02624678940926166), (411, 0.026232640330106173), (3695, 0.026228084104629377), (529, 0.026196653826788183), (1970, 0.026170729966751308), (733, 0.026064816939193235), (3569, 0.026057874813468624), (1788, 0.026049800623821555), (2000, 0.02601295054177559), (3325, 0.025980665051829322), (175, 0.025940843226909358), (2287, 0.025940142404831987), (3774, 0.025901409577580067), (3642, 0.02590072133820318), (2199, 0.02589998704303895), (4639, 0.025892306594433184), (2334, 0.02585626658943363), (757, 0.025846002101193248), (3406, 0.02582949349375776), (2050, 0.025821774057705575), (3071, 0.02581891332077685), (2190, 0.025811532069644857), (532, 0.025807775466401936), (259, 0.025795126833780636), (2886, 0.02568942889183342), (684, 0.02567612090053756), (3066, 0.025667528775367682), (1307, 0.025652212788196647), (842, 0.025646090334663883), (2567, 0.025645985869404163), (4334, 0.025612749452270954), (1444, 0.02559425888877266), (2291, 0.025533478324442214), (853, 0.025491004915711678), (4702, 0.025483398755394838), (63, 0.02546734489850312), (2706, 0.025443724328492016), (1228, 0.025437614688949523), (2953, 0.025427092209921648), (542, 0.02542336321532873), (370, 0.025418857979793843), (85, 0.025400328814303492), (1268, 0.025389806851826263), (3640, 0.025374902160127), (4192, 0.02536048187554824), (676, 0.025293248218515724), (3154, 0.025289146752051166), (721, 0.02528224635127956), (212, 0.02527454391205301), (1033, 0.025196324994713255), (1132, 0.025158471075497093), (2881, 0.025153971322897005), (3424, 0.02515084943998995), (1933, 0.025088326945478894), (137, 0.0250438376357726), (2111, 0.025035134273362396), (3504, 0.025019117943391532), (797, 0.0248775977572736), (4717, 0.024799694909990264), (4246, 0.024793799046992755), (2175, 0.024784053321465764), (4502, 0.02478098840789835), (1233, 0.02477359986817241), (609, 0.024759184915649962), (3008, 0.024724350081482084), (596, 0.024688068635173078), (236, 0.02466996544571253), (741, 0.02466848774227336), (1167, 0.024636053761566468), (785, 0.02460078165080437), (2981, 0.024586441526161996), (1523, 0.02454518730120714), (2119, 0.024480274440826018), (1304, 0.024467299205604233), (3304, 0.024421623830786825), (3609, 0.02441917673438843), (690, 0.024403847829625343), (4121, 0.02439650685222053), (3047, 0.02438408933421016), (856, 0.02435821387570798), (2904, 0.024352986807432433), (1095, 0.024341623896248707), (1035, 0.024314940407704537), (953, 0.024303002936178392), (1395, 0.024259995234410678), (1169, 0.024248674952308476), (2065, 0.024229693975417813), (105, 0.02421838101084072), (1499, 0.024195137611507926), (1831, 0.024154347446340443), (653, 0.024095490642164073), (2808, 0.024071337771348723), (634, 0.024029616939098036), (1595, 0.024026822469487036), (380, 0.02394535738180604), (1344, 0.023935191478632357), (195, 0.02389162505922861), (3373, 0.023885878591883642), (2226, 0.02382218877737596), (729, 0.023810703980560493), (746, 0.02378502787870639), (237, 0.02373460201354573), (3181, 0.023718863446198266), (834, 0.02368609049462152), (4262, 0.023674931155776416), (166, 0.02366712872490325), (2439, 0.023659312864901718), (2412, 0.023645539204178393), (3108, 0.023639838283480506), (827, 0.02359959318087542), (4545, 0.023572502399316964), (128, 0.02354729972967785), (947, 0.023512011885471605), (4436, 0.023511349372046395), (2293, 0.023490316003808888), (3997, 0.02348815112880665), (3972, 0.02347503616881657), (4638, 0.02343428352621735), (555, 0.023394054908654198), (1981, 0.02338312392050538), (738, 0.023377788402335592), (399, 0.02332740208830106), (1050, 0.023323962112953827), (2016, 0.023274017641424213), (2044, 0.023267522177472747), (886, 0.023261548781765215), (3374, 0.023245447554283198), (2959, 0.02322299664109965), (3751, 0.023215156413676184), (747, 0.023157487985547617), (1101, 0.023135123348700076), (2573, 0.023124683002996065), (1139, 0.023102112542218303), (108, 0.0230708963445211), (1432, 0.023069043172125783), (4374, 0.022962855328268274), (1987, 0.022954693087393126), (12, 0.02289547038140413), (1727, 0.022894668632910137), (4756, 0.022887800822914292), (2955, 0.02288662814753429), (3697, 0.022870051792133205), (43, 0.022819096423727127), (725, 0.02280004369753288), (3192, 0.022770641450994847), (3432, 0.022749506524962965), (115, 0.022746794143325293), (4352, 0.022727738591586975), (2546, 0.022723744606785213), (1194, 0.022703261368585956), (829, 0.022687625073056827), (2406, 0.022654754773009315), (3346, 0.022645870270850323), (4557, 0.022632380387640087), (1061, 0.02259910684222419), (4340, 0.022583928877801737), (168, 0.022568071254847125), (4256, 0.022564425573029036), (1464, 0.022549188340222404), (1024, 0.02254881792745118), (677, 0.022473221151845454), (2377, 0.022455441680348336), (1968, 0.022409547968286744), (640, 0.02239471257028778), (767, 0.022390615214452268), (1614, 0.022386869912813884), (1876, 0.02237269105050869), (1436, 0.022283078689809978), (2493, 0.02227523304885079), (1734, 0.02226415446649233), (1985, 0.022235061608628807), (1140, 0.02221808115591816), (75, 0.022212826100005675), (342, 0.022195579285225194), (218, 0.02218537361466394), (902, 0.022122675408694763), (1695, 0.022090886444488013), (333, 0.022068054294873442), (1387, 0.022057752716587775), (3241, 0.02204113281534512), (4677, 0.022036999319534418), (2854, 0.022025711089464148), (2929, 0.021970643393382124), (4233, 0.02190647999118564), (1581, 0.021869982705988743), (2246, 0.021850499149990935), (2711, 0.021842958386375396), (2114, 0.021815892384608543), (4068, 0.021811638822103734), (1623, 0.021779832131112266), (1585, 0.021752062231228553), (1090, 0.021741315961859506), (3626, 0.02169864407284923), (2762, 0.021687034317643513), (2809, 0.02166904118798077), (1138, 0.021658076280616282), (239, 0.021652354106812287), (4012, 0.0216332939889719), (3229, 0.021617883765530893), (1556, 0.021615823480921385), (613, 0.021569293120429118), (1309, 0.021552155739808003), (133, 0.021543048922360628), (2725, 0.021535243737872623), (1819, 0.021517635812652224), (3551, 0.021506871280183627), (216, 0.021504385769525267), (4081, 0.021487501907686248), (3658, 0.02148542324387904), (4264, 0.02145962704081368), (2743, 0.021455957348867804), (347, 0.02140682426054408), (1386, 0.021397049059351057), (4399, 0.021364492496159883), (2363, 0.021303453017591175), (3523, 0.021271411262638144), (4468, 0.021246210991982647), (627, 0.021243747013854838), (891, 0.021240902431231848), (2963, 0.02123964972023905), (3824, 0.021232980404257376), (1337, 0.021226924925177512), (1611, 0.021217338797618064), (1074, 0.02120087266319147), (3082, 0.021194435080601606), (2795, 0.021188518805325775), (312, 0.02116965554400036), (562, 0.021134641260407892), (3563, 0.02105015204989181), (1741, 0.021038363968126285), (1490, 0.021025444082636607), (1329, 0.021011516083980043), (878, 0.021004894530938317), (1919, 0.02100307115519951), (3582, 0.020997348935771848), (1796, 0.020928176402220184), (2962, 0.02091340064483521), (1210, 0.02091338699114605), (3910, 0.020913222977037543), (4088, 0.020909961589271945), (1119, 0.020874338595016532), (1638, 0.020840404052610423), (2017, 0.020814029896755494), (866, 0.02080417138924601), (3465, 0.02077851114285067), (993, 0.020776629536888712), (2070, 0.020756735299086823), (2655, 0.020753632897256482), (915, 0.020739530819011146), (2208, 0.02070563108890472), (1675, 0.020699132413654422), (2297, 0.020614954956982276), (1002, 0.02060329048045493), (287, 0.02057699617467359), (3644, 0.02056740727699398), (3712, 0.020532698335949402), (2897, 0.020521283148276833), (170, 0.020472825928201252), (67, 0.020446950719093505), (2817, 0.020442377904072363), (2660, 0.020358691729818607), (1756, 0.020332746414471026), (1317, 0.020330053566971606), (1797, 0.02030580329400557), (2581, 0.020302531213170348), (3736, 0.020301482348758223), (1900, 0.020291844267624662), (1664, 0.020276234113532247), (1692, 0.020275039332310382), (485, 0.020269581982488745), (1300, 0.020241553982213223), (1422, 0.020231103893239625), (22, 0.020182712631201465), (456, 0.020162077100703415), (1297, 0.020141094660309746), (1678, 0.020122113935636787), (946, 0.02010901530066479), (2196, 0.020104275986697773), (3267, 0.020092874927635684), (1000, 0.02007757349504077), (1036, 0.020065059701669774), (803, 0.020051460446591438), (4589, 0.020027094396528604), (3215, 0.020015216145610446), (3665, 0.020003852813375612), (1379, 0.01998719860744296), (2427, 0.0199779099352368), (4350, 0.019974854547629404), (528, 0.019968092963880586), (2590, 0.019952008618660543), (1249, 0.019931521889105526), (3063, 0.019907134344894384), (3070, 0.019886641698688243), (1052, 0.019883407538532297), (515, 0.019881572999818718), (2068, 0.019876943839530162), (1793, 0.019871264055931745), (2494, 0.019851598072847376), (944, 0.019834541620191888), (2055, 0.01982554494188157), (2511, 0.019824607662198943), (2656, 0.01981785514925802), (1524, 0.019805963667813665), (148, 0.019770914298957075), (1257, 0.019741673047466157), (496, 0.019735631991343212), (1116, 0.019729958413323527), (1833, 0.01972738871385559), (2178, 0.019727153749894782), (2469, 0.019725860488541996), (4637, 0.019701859013654115), (354, 0.019693259755019305), (3878, 0.019669667030108678), (807, 0.019668082359104624), (1459, 0.01965349440738985), (1216, 0.01964022937195107), (366, 0.019639701746669454), (971, 0.019635815311710273), (1817, 0.01962599256839858), (124, 0.019613361819337184), (3022, 0.019590003702585918), (2625, 0.0195828449629318), (1411, 0.019581676308923927), (96, 0.019581114992229594), (1915, 0.019572120451328213), (1191, 0.01956991638696192), (1461, 0.019552317043663458), (2879, 0.01954759691986301), (4242, 0.01953679334656003), (122, 0.01951929188887612), (2906, 0.019479142234579097), (854, 0.01945648080608743), (3947, 0.019411934161705426), (1348, 0.019399200313922515), (1662, 0.019376230087607273), (269, 0.019371192895448315), (4600, 0.019370471349414616), (4218, 0.019337703570404628), (1627, 0.019336607437947642), (1472, 0.01932084191620222), (3708, 0.019306466376741813), (106, 0.019281661921050755), (4015, 0.01924362908579618), (155, 0.019215025650454725), (1423, 0.01918681528901274), (723, 0.019175454455711557), (270, 0.019120601118153065), (938, 0.019114881371087834), (2727, 0.01908958316227733), (1221, 0.01906949257350303), (1914, 0.019055525579232672), (3477, 0.019026913687359738), (447, 0.01901520017122128), (2279, 0.019010861780239904), (1214, 0.01895732550062385), (2320, 0.018949005006811348), (492, 0.018937304494933624), (4508, 0.018933890552021666), (3123, 0.018927084350885297), (1799, 0.018922846327964392), (251, 0.01892188122973425), (1429, 0.018907930220790452), (5, 0.018888399107460888), (4141, 0.01884925746225233), (3260, 0.01884673966686029), (2286, 0.01884201575508842), (3453, 0.01882934338382733), (1818, 0.018818884186224107), (1815, 0.018813768313178637), (2913, 0.018807927584992445), (1895, 0.018800062914563886), (2131, 0.018781863084735007), (4539, 0.01877881055980115), (2247, 0.018722642551918422), (1781, 0.018718594338605704), (665, 0.018715786193686655), (4018, 0.018690555842187675), (2012, 0.018689431876264255), (3418, 0.018669027314724307), (1343, 0.018665700315430685), (2093, 0.018632548967270034), (635, 0.018630585926560243), (703, 0.018627642329397065), (458, 0.01857592459220379), (1115, 0.0185619901992986), (4747, 0.018537081821177075), (2464, 0.018523672241588792), (533, 0.018522778779874592), (306, 0.018518475021526988), (1341, 0.01851811590786915), (3646, 0.018498687569768187), (475, 0.01848972102743249), (3312, 0.018481872940842962), (566, 0.01847525868783844), (682, 0.018473918467805658), (2844, 0.01847371594419779), (1498, 0.018461114226412396), (1591, 0.01843754727530309), (215, 0.01843682700650951), (4701, 0.018433643180172755), (569, 0.018433328743756385), (4497, 0.01839672990878489), (3458, 0.01834272817293208), (1041, 0.01831634614688994), (1369, 0.01825651521235681), (1791, 0.018252764423466274), (1790, 0.018190473131172412), (45, 0.018159692436232933), (191, 0.018100795241072064), (308, 0.018098147557691558), (895, 0.018094969563565495), (1586, 0.0180872997114632), (2005, 0.018053778029078114), (2789, 0.018034178586380227), (4174, 0.018015256689852512), (2281, 0.017988038289143096), (1308, 0.01796043423541288), (1141, 0.01795943039896551), (4473, 0.01795159477588342), (1806, 0.01795062319073747), (4494, 0.017936963897256), (1764, 0.017908513852623292), (436, 0.017899490271175045), (1254, 0.017899110091872672), (3907, 0.01789475263798414), (2749, 0.017875832765512686), (1320, 0.017858155315161203), (210, 0.017845923110981106), (338, 0.01783245057225844), (443, 0.01782833978396889), (1109, 0.017816560231993333), (2314, 0.017798813880030902), (3862, 0.01777359586618613), (1325, 0.017772534697081118), (4593, 0.01774711209697491), (2867, 0.017744360658593507), (3370, 0.017738848889492863), (1157, 0.017680853826636755), (4699, 0.0176713910163238), (3147, 0.01766568984906059), (2522, 0.017664981298915805), (4101, 0.017656246670337883), (4590, 0.017644598680699636), (3392, 0.01758745137778183), (4437, 0.017582094685437873), (3652, 0.017567793156473492), (820, 0.01756192425893327), (1736, 0.01755702204062583), (1594, 0.017553426340741737), (3617, 0.017549377607005714), (3579, 0.01751683900476967), (1777, 0.01750398679050204), (583, 0.017498892080562996), (2668, 0.017479735135671505), (668, 0.017475378312410472), (4042, 0.01745915319630929), (3210, 0.017454787314348928), (986, 0.01745157800826713), (2074, 0.017437585548677425), (381, 0.017399450220643924), (4109, 0.017379376095171643), (1829, 0.01736987846494758), (4061, 0.017363010098392168), (2940, 0.017357076795779466), (3060, 0.017351974290102806), (1997, 0.01732829109837162), (1735, 0.017294929565653597), (898, 0.017292017394647488), (4043, 0.017282983302686322), (1071, 0.01727665388133548), (1897, 0.017269122300091724), (274, 0.017267191404687302), (3464, 0.017263280800636695), (3924, 0.01726254728550461), (3704, 0.01723663894064081), (1853, 0.017218701537342163), (2975, 0.0172028574113558), (1522, 0.017200929259636177), (4486, 0.01718765083910018), (2316, 0.017180682312274678), (2188, 0.017119045784833312), (1391, 0.017117632069042973), (1881, 0.017110224470108105), (1858, 0.017107895817637282), (1893, 0.017096576110128776), (3743, 0.01706298576101439), (4275, 0.017023018536821758), (4366, 0.017020263128775047), (264, 0.017019029306422455), (749, 0.017009599545431697), (1780, 0.017003985645956874), (277, 0.01699281603363536), (2933, 0.016986032523701726), (3391, 0.016975629532849507), (3684, 0.0169678253137239), (2344, 0.01695479628550874), (1850, 0.016937199512354978), (1951, 0.016931529372922517), (3831, 0.016912205884295345), (4507, 0.016877172348501585), (1185, 0.016857069530743396), (2477, 0.016856718803726384), (244, 0.01680907460022406), (667, 0.01680890047997548), (1365, 0.01680634492323472), (4551, 0.016783354470533415), (994, 0.01678001258181562), (3270, 0.016777867845845982), (3048, 0.016744941746203848), (3612, 0.016740697437855896), (344, 0.016740539278534333), (482, 0.016716538776301526), (2159, 0.01671526620702115), (1975, 0.016714359997498554), (2126, 0.01669744479593767), (3488, 0.01669130735878865), (952, 0.016683438807872625), (2610, 0.016662546394848717), (606, 0.016641696841322978), (2037, 0.016641547360821973), (1670, 0.016634870184855176), (469, 0.016631517131422878), (1224, 0.01662454861142889), (765, 0.016609195451955917), (2830, 0.01660048372064663), (2978, 0.016588979973489675), (1400, 0.016569749573694156), (1419, 0.01656548806595137), (2781, 0.016556080075844075), (4581, 0.01654321142385186), (2492, 0.016542781977197926), (4377, 0.016533273873050314), (2014, 0.016521090526370744), (2603, 0.016514060730557195), (1440, 0.016513112099546118), (4070, 0.01651189550482956), (1494, 0.016494562203791703), (2488, 0.016486420339364725), (869, 0.016479219843815653), (945, 0.016469588297273352), (1821, 0.01646317385308173), (310, 0.01645563105313757), (2212, 0.016442695465492374), (4668, 0.0164413731024376), (4168, 0.016426139611962376), (369, 0.01642543282959692), (1859, 0.016410411894796268), (1083, 0.016408972374115243), (3998, 0.01640671246618233), (580, 0.016401270282065797), (1496, 0.016384378628821104), (1294, 0.016376437960206016), (879, 0.016370136939739138), (202, 0.016344355973270962), (3245, 0.01633634788755256), (1779, 0.01633207864670382), (1622, 0.01630466805395159), (2276, 0.0162997667110631), (1471, 0.0162906058397973), (262, 0.01628782773650782), (2642, 0.01628690446891848), (636, 0.016276304519071458), (1761, 0.01626895896542288), (1001, 0.016260196840120637), (1406, 0.016257105975959384), (2857, 0.016230425070553223), (1113, 0.01622172361443047), (1700, 0.016217261964110226), (483, 0.016207070002222945), (25, 0.016201805358517778), (2024, 0.016197521719581068), (2398, 0.01618930106140528), (4284, 0.01618311507457489), (2918, 0.016178465473487037), (3265, 0.01617645439339095), (980, 0.01617140520064387), (4225, 0.016161865169842783), (3769, 0.0161498780677181), (1937, 0.0161431253579171), (660, 0.0161371063432962), (2630, 0.016131528214322448), (840, 0.016122187678782218), (540, 0.016110758143312674), (3382, 0.01609198347902082), (1527, 0.016086761550197382), (3890, 0.016086255372864233), (1983, 0.01608266012116423), (2013, 0.016071039549995076), (2022, 0.01607050924133772), (4421, 0.016040942539108923), (852, 0.01601434277331006), (911, 0.01599637362351994), (832, 0.01598042664292415), (2609, 0.01597436008435167), (935, 0.015964115572604427), (2763, 0.015951640304460606), (3155, 0.015941457614883376), (1232, 0.015940537813714482), (1861, 0.01592961027525021), (763, 0.01592866670672266), (688, 0.01590926026342629), (3571, 0.015894262024217266), (294, 0.01589307805017212), (23, 0.015892811877017698), (2206, 0.015890320605656587), (4663, 0.015889577523240453), (81, 0.015887870429510596), (1368, 0.015883909660333585), (731, 0.015878927217955287), (4272, 0.015874059348261027), (864, 0.01587288701541154), (19, 0.015860613844508504), (2284, 0.015847263258006564), (1542, 0.01584278093717291), (4481, 0.015833487745239797), (782, 0.01583136706936143), (2466, 0.01581783821833993), (3002, 0.01581597928891826), (144, 0.0158110220164454), (1259, 0.015803141821574267), (927, 0.015790156108564282), (1544, 0.01578973729067675), (1378, 0.01577975340749082), (1554, 0.015775979404951887), (1230, 0.015775896417678865), (573, 0.01577238126454091), (1079, 0.01576392008818321), (30, 0.015751677796971852), (2008, 0.015745923720760033), (2079, 0.015743882938335715), (4615, 0.01573308673233055), (4086, 0.015726240272195956), (780, 0.015722204974350194), (2036, 0.015705982027937153), (1888, 0.01570430029067249), (0, 0.01569618455906672), (2553, 0.01568763882754506), (273, 0.01568039590700808), (563, 0.01567374563263195), (1852, 0.015663713742811752), (2814, 0.015638599898551365), (1183, 0.01563107289561705), (1588, 0.015630605473519348), (3311, 0.015576550957792637), (4678, 0.01556039455980374), (996, 0.015557633273822466), (1468, 0.015556619906019626), (3794, 0.01555232257134439), (4128, 0.015550134043473336), (112, 0.01554035632478663), (2637, 0.015518762251932845), (1573, 0.015516508646582671), (1173, 0.015511286029717306), (2982, 0.015505019228044734), (956, 0.015496650767383402), (1225, 0.015489943647166049), (3341, 0.015481939249131023), (494, 0.015473120471605352), (1106, 0.015472186503334096), (2410, 0.015471310458025826), (4383, 0.015459884305189207), (2828, 0.015450319531142261), (2751, 0.015444119208758935), (4553, 0.01543755984702683), (988, 0.015425100951742446), (1811, 0.015425007869118252), (4217, 0.015400302835991864), (3144, 0.015393875267986294), (35, 0.015385049508546465), (510, 0.01538061612183058), (4055, 0.015376890217036598), (4207, 0.015338725259262206), (3109, 0.015326383107986737), (2745, 0.015326002476817003), (2280, 0.01531561369024926), (4450, 0.015313878981043916), (1175, 0.015308366702635284), (880, 0.015298868994034523), (2026, 0.015295688255754837), (4033, 0.015283768206441197), (1295, 0.015269510815735588), (1680, 0.015268691461538093), (329, 0.015259004418742768), (2369, 0.01525786564756424), (4515, 0.015249492679800648), (1291, 0.015245696137010368), (3780, 0.015238862019224204), (1068, 0.01522623679542717), (517, 0.01521284485159095), (3492, 0.015201716378202728), (3079, 0.01519932161535332), (2058, 0.015191007441528027), (4536, 0.015188540545600851), (3426, 0.01518766651873706), (4292, 0.015181363833719418), (1584, 0.015156598671457749), (4045, 0.015139238718694378), (2330, 0.015135031517378099), (1231, 0.015133169070444444), (4299, 0.015130279424313175), (656, 0.015116293554404012), (4658, 0.015107899085690957), (3338, 0.015107529949087315), (669, 0.015105290138464154), (116, 0.015099386151054106), (3715, 0.015098889928284405), (1923, 0.015067066141224758), (3849, 0.015061261043430592), (3447, 0.015061048491537757), (2675, 0.015057460943737867), (400, 0.015033204398756491), (2742, 0.015030403375689304), (408, 0.015027349163057077), (109, 0.015023971059284021), (3516, 0.015011795313100089), (79, 0.014982928618768324), (1982, 0.014964557144210813), (3860, 0.014959135232396061), (845, 0.014938936556058935), (282, 0.014926857852927551), (809, 0.01492614104582515), (1375, 0.014918174286522387), (2236, 0.0149121131320566), (2237, 0.014900458396526792), (2147, 0.014885386748691623), (2391, 0.014876612206279966), (130, 0.014870315571292063), (1335, 0.014858625242715242), (3238, 0.014850828797673203), (472, 0.014847581084163383), (2598, 0.014846689780488444), (98, 0.014843443047200554), (1518, 0.014833782914775984), (1935, 0.014832996131281778), (1245, 0.014832131862865505), (165, 0.014826376005362858), (2375, 0.014823586585114009), (2790, 0.014813172843918955), (2909, 0.014809460724274057), (497, 0.014801371339641357), (597, 0.014787810051377505), (3812, 0.014784347535002674), (3854, 0.014782341475400572), (200, 0.014777111296314522), (657, 0.014717831999147625), (2798, 0.014717824008112437), (1062, 0.014717739077034792), (3807, 0.014709168396605986), (1241, 0.014708195956070274), (3637, 0.014698785281647257), (2600, 0.014681606193704745), (4708, 0.014671516047879784), (1292, 0.014670832891695124), (4173, 0.014640106677088902), (2145, 0.01463583041411679), (1481, 0.014630315787750729), (4525, 0.014623710105789799), (1939, 0.014618210961824087), (1996, 0.014612666315275072), (3427, 0.01461223535552162), (2528, 0.01459907393402843), (3189, 0.014589720540104458), (1290, 0.014585343955692897), (1864, 0.014545749141567631), (2161, 0.01453303438904806), (620, 0.014531268709441627), (158, 0.014526077721735415), (2984, 0.014515631163939257), (2035, 0.01450826680421796), (3842, 0.014499592919473885), (1434, 0.014484779950312858), (1382, 0.01448211281371222), (2877, 0.014474955039006383), (2531, 0.014427983217883179), (405, 0.014410981228357302), (1539, 0.014406665694824326), (916, 0.014403540176577759), (3711, 0.014395849282109477), (3790, 0.014375583875821184), (321, 0.014347664400444689), (4310, 0.014343489915999784), (3388, 0.014330676017613609), (1902, 0.01431884444975556), (1846, 0.01431709839278566), (2661, 0.014303714380262742), (1562, 0.014302663898601216), (3119, 0.014283560281673137), (451, 0.014251049302589032), (3321, 0.014243217816142214), (2152, 0.014239918990340154), (3594, 0.014235523410198542), (4007, 0.014224874904452699), (538, 0.014221309709110399), (196, 0.014220354652025896), (2509, 0.014220058724850031), (709, 0.014201827501250994), (1107, 0.014188890663125979), (2874, 0.014185008793248785), (2587, 0.014184082010189225), (315, 0.014183048687022047), (932, 0.014177463151273969), (1044, 0.014176013112987967), (2449, 0.014122622795187794), (1657, 0.014112270461453564), (979, 0.01410057115943064), (4287, 0.01410001658197485), (1768, 0.01403918535721195), (3289, 0.014036925906557238), (4558, 0.01403251074192371), (617, 0.013991718508243935), (1207, 0.013989705219364334), (4095, 0.013987091297963467), (376, 0.013962593086051404), (3, 0.013958212446660786), (2396, 0.013945222761443705), (3792, 0.013936633326275), (3348, 0.013928751622929121), (243, 0.013925409292324796), (3237, 0.013898370392170362), (4477, 0.013874610177321743), (3739, 0.01385364714243855), (3188, 0.013848612737148946), (706, 0.013838236761217572), (4137, 0.013829767636916672), (457, 0.013807917903784373), (1080, 0.013804047395524743), (319, 0.013801177620500028), (1330, 0.013796681501301505), (862, 0.013795888122502563), (1018, 0.013789659810812094), (1589, 0.013788092613479425), (2317, 0.013770389034905881), (2612, 0.013767870125480856), (4274, 0.01376110408637459), (1453, 0.013755409046780758), (42, 0.013739376075611001), (1783, 0.013736055862343697), (1431, 0.013720007757694674), (330, 0.01371773241311046), (1694, 0.013714497023641723), (4073, 0.013709539300232537), (1476, 0.013700454468584733), (4059, 0.013699475099348966), (3345, 0.013697409424316121), (491, 0.013692294894005464), (3133, 0.013677973414584425), (4440, 0.01364784707064498), (3645, 0.013634620674345378), (1357, 0.013617629758422945), (257, 0.01361725852692311), (3168, 0.013607248152997352), (3819, 0.013607004203289027), (2665, 0.013598230725041885), (1649, 0.013597921157481582), (1597, 0.013589170184625824), (3011, 0.013578938442419489), (3685, 0.013572158138286923), (1867, 0.013560102017873506), (1076, 0.013554619905951163), (2322, 0.013545520403030344), (1005, 0.013543381115946117), (859, 0.01352539067524983), (3315, 0.013517881824618702), (4152, 0.013509331269811974), (1130, 0.0134941890100967), (2077, 0.013482570815081356), (2397, 0.01348139770922013), (3731, 0.01347769294360264), (2245, 0.013410095574352144), (691, 0.013401379369635168), (2479, 0.01339761007134124), (4197, 0.013393245000266053), (1284, 0.01338585477469602), (4252, 0.013358692629986043), (662, 0.013358616920714533), (4488, 0.013355000069911001), (1913, 0.013347167066283527), (2892, 0.013346948504680153), (4472, 0.0133399073411146), (2760, 0.013325291360761694), (486, 0.013315606928699557), (1610, 0.013307938308655957), (2315, 0.013297787323206248), (3946, 0.013297597878557926), (614, 0.01329544669993815), (2076, 0.013291743365653898), (2402, 0.013289556227885468), (2699, 0.013279122507944875), (407, 0.0132708616689026), (4652, 0.013258756083725636), (702, 0.013258463572294089), (9, 0.013254367473398115), (1801, 0.01325004630414687), (2474, 0.013249307277268436), (4064, 0.013229536432654166), (4542, 0.01322925076402462), (3247, 0.013206095024236815), (240, 0.0131931159365819), (2461, 0.013191793115329715), (1084, 0.013176025570406622), (4155, 0.013169173994383727), (266, 0.01314802155905355), (1878, 0.01314414529270533), (325, 0.013141156287460102), (1208, 0.013138601969256593), (2908, 0.013126315559765251), (3062, 0.013124750538920009), (3317, 0.013123019244276335), (2728, 0.013122167821786657), (1457, 0.01312107323195452), (3342, 0.01311571358979147), (3732, 0.013113167137408191), (4293, 0.013102157862922632), (4469, 0.013094686795772428), (2274, 0.013090591941642096), (4445, 0.013087155010117806), (4285, 0.013085509320484964), (1744, 0.01308131430207739), (3698, 0.013057989754225981), (3246, 0.013036586128452207), (2738, 0.013034559112884953), (2834, 0.01303185795120584), (425, 0.013024738301106596), (424, 0.013006805651570322), (1701, 0.01299008631001595), (1941, 0.012987863658090784), (1681, 0.012964146861148731), (2810, 0.012961899327290728), (984, 0.01295937973024059), (4321, 0.012951956192580365), (881, 0.012951501177885696), (1270, 0.012921204361195454), (1417, 0.012906079915166173), (324, 0.012901409561008603), (3828, 0.012893435785967898), (1303, 0.012880105877765525), (82, 0.012874306219147553), (142, 0.012870396867101341), (4353, 0.012862022901229078), (1745, 0.012861476791985921), (2524, 0.012841384210916688), (577, 0.01283966491038117), (1456, 0.012817423480200249), (3577, 0.012776479470251192), (1560, 0.01277278720185527), (3675, 0.012746668127025108), (334, 0.012740445368613209), (666, 0.01273586211489399), (3044, 0.012735096610829789), (410, 0.012718831281923554), (3655, 0.012714645115953188), (1278, 0.012703332934325164), (2822, 0.012691617958167721), (4032, 0.012685840604199375), (2351, 0.01266508873289987), (40, 0.012662420679497667), (3903, 0.012652011940930971), (1011, 0.012649470600420437), (3616, 0.012626960228713074), (919, 0.01262532358914003), (3484, 0.012622728830168992), (1827, 0.012619669566579554), (3469, 0.01260552362616588), (3221, 0.012599987168971028), (3244, 0.012596812873804115), (3239, 0.012588289537521755), (1543, 0.012585438794142534), (3921, 0.012561683265252479), (4114, 0.012558799520125258), (2485, 0.01255298750082831), (3364, 0.0125333917751728), (38, 0.012529003885431229), (102, 0.012508787678580211), (2843, 0.01249703070515366), (2381, 0.012495290818038523), (3019, 0.012494770098899636), (225, 0.01249193299507351), (1511, 0.01248796191752802), (296, 0.012476272259315174), (7, 0.012471712975471871), (76, 0.012452642184557688), (3535, 0.012448261487790569), (139, 0.012443684023229816), (2939, 0.012442420084054969), (10, 0.01243207488070985), (2118, 0.01243022784406065), (2550, 0.01242464762191774), (161, 0.012411778340377135), (2007, 0.01239231397625476), (1841, 0.012375906499933951), (1058, 0.012369631763128374), (2025, 0.012365741586456327), (3414, 0.012356982496966797), (1486, 0.012345773940246938), (350, 0.012337406548832535), (1276, 0.012336741338792723), (64, 0.012329420235873268), (621, 0.01231949907322686), (2021, 0.012308449913246394), (4724, 0.012306227146362711), (4312, 0.01229947255425757), (787, 0.012298884076027115), (1822, 0.012297984684488625), (1053, 0.012293859228416023), (2539, 0.012258838362475068), (1007, 0.012249160735348649), (1099, 0.012246997253764635), (2917, 0.012240645031769692), (1571, 0.012217142845450349), (2032, 0.012207674164713666), (4203, 0.01219663143190381), (1564, 0.012190252365263707), (2880, 0.012189020765269423), (4038, 0.012183350802141647), (3676, 0.0121729956346695), (4261, 0.012162861809130992), (4629, 0.01215699321071103), (3677, 0.01214999822954509), (336, 0.012136286530416854), (2047, 0.012134682290837265), (394, 0.012131491207418032), (4624, 0.012127771743764509), (1640, 0.012110574106622224), (913, 0.012107969383551468), (1346, 0.012091607459353376), (1513, 0.012088677556435792), (2842, 0.012065917441124924), (2811, 0.012062920181705097), (3463, 0.01205267735405301), (3234, 0.012047744993806685), (2689, 0.01204119089925736), (1954, 0.012038629428728718), (4735, 0.012018478604169009), (860, 0.01200692944907954), (3097, 0.011990438062645378), (2252, 0.01198459937596769), (3507, 0.011977576596838605), (4271, 0.01196051421894403), (4448, 0.011958575649589439), (4094, 0.011956307584181675), (220, 0.011946208890787194), (712, 0.011942709434659186), (990, 0.011913671741688642), (4093, 0.011911366703200628), (1577, 0.011899340460502138), (2331, 0.011874367999517396), (2326, 0.011857179140769267), (1413, 0.011851168390431373), (928, 0.011849663645116741), (3681, 0.011838700099612874), (3963, 0.011835140220863346), (1733, 0.01183173276708921), (1148, 0.011828126606712529), (508, 0.011828096717225418), (1262, 0.01182785240351414), (1443, 0.011820418439493392), (2985, 0.011817565671813272), (2755, 0.011811879026389503), (4431, 0.011810072077950543), (1516, 0.011808516350542652), (281, 0.011808235089918219), (2873, 0.011806063318776875), (3515, 0.011803183484495924), (4351, 0.011801006033203658), (2157, 0.011787110587966764), (1279, 0.011785983561690125), (4048, 0.01178453209423761), (1845, 0.011769491959277817), (1396, 0.011768688704993348), (1950, 0.011762820644682249), (4226, 0.011758059490397828), (21, 0.011719150683612442), (74, 0.011718834281942312), (2849, 0.011715771675334195), (4332, 0.011715653063935658), (4210, 0.011713778423356448), (849, 0.011713478677597602), (560, 0.011711285235297526), (3444, 0.011698547250889358), (2554, 0.011692160725462362), (3514, 0.011684597153081719), (3603, 0.011683380918232848), (2501, 0.011681247352968724), (2081, 0.011679145250505715), (4465, 0.01166800859279935), (2640, 0.011665870756471339), (207, 0.011650454213024217), (1108, 0.01164795568088514), (3218, 0.011634923515042741), (2353, 0.011619437111494081), (1674, 0.011614012038347162), (1963, 0.011604601040863294), (1275, 0.011593133978344562), (3368, 0.011587819255663826), (4335, 0.011576949575986116), (2218, 0.011575784238178649), (4727, 0.011575163184792361), (793, 0.011566697933269997), (1282, 0.011563231860524879), (1520, 0.011556155669192601), (3513, 0.01154697810889972), (1111, 0.01153762920868314), (2903, 0.011532415337167107), (2951, 0.011526224171906845), (3955, 0.011525844759740937), (982, 0.01152470146628612), (4283, 0.011517656425020792), (3822, 0.011507479664942335), (2217, 0.011496121191437222), (1847, 0.011495130367016285), (3568, 0.011493898543688801), (1338, 0.011492015992787877), (3919, 0.011487407262250289), (2346, 0.011486978850811728), (2045, 0.011480352382167045), (4512, 0.011477946928650817), (4108, 0.011474822615149628), (821, 0.01147372312564838), (1469, 0.011465309363071637), (1718, 0.011464250909040838), (2125, 0.011461615339608993), (3461, 0.011456580571100232), (1851, 0.011455666389276344), (4026, 0.011446678262457299), (135, 0.011444155861885321), (309, 0.01143991252563193), (2061, 0.011433316890444913), (3043, 0.011430787441973773), (1515, 0.011424066498369844), (4656, 0.01141828021464551), (786, 0.011409994184496786), (254, 0.011405130848788296), (260, 0.011402380966755124), (3765, 0.011394015386917573), (1754, 0.01138260160980485), (1803, 0.011381417416953803), (2241, 0.01137846231209931), (2633, 0.011376797230270068), (2214, 0.011373800142583665), (2097, 0.011360277402228466), (1716, 0.011356107086568177), (1129, 0.011351738472938694), (3720, 0.01135156080056278), (3961, 0.01133237646104126), (498, 0.011331948247652317), (3786, 0.01132412934815568), (2303, 0.011310317962841807), (890, 0.01130840941603475), (3694, 0.011307923027930744), (152, 0.011302205021688085), (1371, 0.01128935598915492), (261, 0.011287610149960735), (39, 0.01126727018590043), (3343, 0.011265368417822053), (3678, 0.011258765822464541), (4227, 0.011249512384335742), (2816, 0.011228182259815317), (4531, 0.011224430602128601), (4395, 0.011215873529850127), (2222, 0.01121358476261097), (1105, 0.011210050414153055), (3283, 0.011203651300948497), (3271, 0.011191849872394431), (2151, 0.011191219366156116), (1677, 0.011180628837286256), (3386, 0.011179644319807218), (2504, 0.011174264749298519), (1660, 0.011162733987570558), (3549, 0.011160304666164939), (3199, 0.01115921279140265), (3599, 0.011150773208517758), (2431, 0.01114227347327539), (120, 0.011132835647302579), (1517, 0.011127828175895178), (4099, 0.011116190261397128), (3531, 0.011109934590377882), (3518, 0.011106941966053408), (2793, 0.011102830800491001), (4564, 0.011097341580877006), (4556, 0.011094760228006156), (4037, 0.011092212010483004), (2153, 0.011087983373649534), (1613, 0.011066664266869048), (450, 0.011065930504074941), (2787, 0.011056898846720987), (4231, 0.011045846202244603), (1874, 0.011037918240992607), (4407, 0.01102921848008883), (3659, 0.011024099510374348), (1447, 0.011018615544002932), (1721, 0.011011738816285654), (3437, 0.011010605659649817), (2235, 0.0109926300003195), (1319, 0.01099062899202014), (169, 0.01098362537978843), (2053, 0.010982998021586135), (1751, 0.01097000726452322), (28, 0.010954088343363557), (504, 0.010950533410335481), (3699, 0.010944326075481852), (2739, 0.010935913908349438), (584, 0.010931522419803429), (1552, 0.010927563781168326), (1525, 0.010907915572627536), (778, 0.010905745394529034), (2807, 0.010899464493723636), (926, 0.010894903789109019), (3150, 0.010891401228849101), (1961, 0.010887355184520497), (3777, 0.01088662900676041), (2003, 0.010884136167735616), (974, 0.010883591677955877), (544, 0.010883588000367012), (2862, 0.010883213023354345), (3595, 0.010882881998568586), (429, 0.010881975331127444), (1125, 0.010873483462868453), (1066, 0.01087191521453154), (209, 0.010862733067774109), (4447, 0.010861934780833847), (1755, 0.010861675467256773), (1726, 0.010861314358807952), (3983, 0.01085722365275862), (1087, 0.010849289912107919), (2106, 0.010846848958227559), (752, 0.010840011790631687), (3334, 0.01083906372167504), (3650, 0.010836591279660693), (2160, 0.010835882941209457), (2148, 0.01083547082629212), (2193, 0.010833407904758584), (4510, 0.010830683991647107), (2094, 0.010819935299167704), (2919, 0.010816202736897164), (2215, 0.01081599596440158), (4288, 0.010815292800400014), (182, 0.010806909413465737), (1500, 0.010799511109982673), (963, 0.010797678722605786), (217, 0.010793731372462338), (2166, 0.010791192204556073), (1501, 0.010786941004121257), (4474, 0.0107854795581176), (736, 0.010780157411267373), (1832, 0.010777346508856029), (51, 0.010773676277982348), (4135, 0.010767561113889738), (284, 0.01076734157495845), (976, 0.01076516687473995), (543, 0.010759810967229921), (3033, 0.0107589310533755), (1666, 0.010757584328780665), (672, 0.010732309442232371), (2150, 0.010729458581710932), (3182, 0.010719425683326398), (4682, 0.01071600858097376), (3565, 0.010700130441542761), (1898, 0.0106935306265755), (427, 0.010689537279831945), (962, 0.010688669984715123), (3733, 0.010686163193512304), (1339, 0.010678009672680622), (3141, 0.01067412394668243), (1942, 0.010666425764773512), (3483, 0.010660779198152785), (1373, 0.010657674574211715), (3553, 0.010655194197847231), (3454, 0.010653272601932306), (1054, 0.010648696029222752), (1022, 0.010645928099566604), (3585, 0.010635287530888457), (346, 0.010623558240627181), (1825, 0.010622327131242225), (2080, 0.010622102671268339), (2992, 0.010621591976410213), (2934, 0.010621555963132507), (2765, 0.010620226389723432), (2971, 0.010602852482475864), (221, 0.010594281072872339), (1794, 0.01058968746844436), (502, 0.010580784847458516), (2489, 0.010573819592046584), (973, 0.010567431727618466), (2671, 0.010566908446872705), (1668, 0.010555555740496355), (2167, 0.010551140442561596), (1922, 0.010550157184582788), (1738, 0.01054723802720722), (1823, 0.010543268105868924), (1984, 0.010542246920980648), (87, 0.010538455108747286), (2636, 0.010536174212817863), (4205, 0.01053238511496204), (83, 0.010522329634932388), (798, 0.010518748559684385), (2329, 0.010510414019649774), (3397, 0.010510058083697768), (495, 0.010506023685541665), (1967, 0.010504241357424442), (211, 0.010500932680704407), (4000, 0.010493972480361323), (2056, 0.010492968968210937), (1759, 0.0104909340744051), (507, 0.010479104715502058), (4576, 0.010476008253223904), (2234, 0.010462360380925137), (2682, 0.010459772358867423), (1310, 0.010454765749833924), (2952, 0.010443938548843701), (632, 0.010436321342352556), (4282, 0.010436283776800335), (883, 0.010436156831465686), (2961, 0.010428169724558465), (2062, 0.010404946559954262), (1629, 0.010388830936133426), (3886, 0.010386628716312643), (1160, 0.010381522681755151), (1608, 0.01037594661666182), (2784, 0.010371343055016977), (4124, 0.010356104639044215), (1334, 0.010350769174654042), (2409, 0.010348602318576372), (4268, 0.01034216644552537), (172, 0.010328836508818016), (594, 0.010323244124896115), (1772, 0.01032151905216903), (806, 0.010319519938463202), (3923, 0.010315605753765951), (1029, 0.010311734619833507), (2446, 0.01030809644970489), (3562, 0.010302851730114231), (1351, 0.0102996816710819), (2426, 0.010281386816994257), (2851, 0.010280772369242366), (3083, 0.010265069070869938), (3320, 0.010261968532158865), (1621, 0.010258696671171581), (2433, 0.010249368884120513), (3420, 0.010248140448874656), (4106, 0.01023805198473356), (3336, 0.010235522574206145), (2389, 0.010234378939746387), (1778, 0.010229947445799543), (3171, 0.010215947642046166), (1567, 0.010210217655572208), (934, 0.010201814807375538), (4623, 0.010201612829786091), (2666, 0.01019985280981042), (409, 0.010196418450883205), (756, 0.010190984058628179), (799, 0.010184615230950185), (1642, 0.010181511328162609), (907, 0.010176856622974018), (851, 0.010172446357346475), (779, 0.010161224060392495), (524, 0.010157953177589362), (345, 0.010121067998510739), (1248, 0.010119146151619256), (428, 0.010108526543440001), (4387, 0.010097316051845726), (3980, 0.010095578146276167), (4235, 0.010088858177187196), (396, 0.010071727288320155), (1650, 0.010071681687439875), (2031, 0.010068839032043158), (4171, 0.010064335426929022), (1746, 0.010063661224042507), (2954, 0.010061862169228924), (3127, 0.010042963841876088), (989, 0.010037590635763871), (2033, 0.01002598352773976), (37, 0.010012632341355628), (1046, 0.009992294605850952), (2367, 0.00999127672254171), (4060, 0.009975670568462843), (3352, 0.009967500083992322), (3421, 0.009956616031341934), (2054, 0.009946696183670172), (279, 0.009941728683022295), (14, 0.009920033181473678), (788, 0.009919631965301597), (2285, 0.009917270178605737), (1301, 0.009917002006197044), (833, 0.00991315699720132), (2338, 0.00990136799500847), (3668, 0.009896031030986366), (1521, 0.009895221139072355), (3077, 0.009893474236688415), (828, 0.009888914811262965), (2724, 0.009886780313371228), (3389, 0.009870894267628973), (276, 0.009862851583328926), (1025, 0.0098607172241457), (2273, 0.009858886394935156), (2969, 0.009856614525885581), (1477, 0.009816959935255106), (78, 0.009801706391653398), (639, 0.009798767389753521), (1903, 0.009796606513857768), (2269, 0.009795089754558556), (2855, 0.009790107362452966), (2615, 0.00978612422771382), (699, 0.009782208733590779), (3411, 0.009764963460448434), (1535, 0.009758182556110634), (2262, 0.009751219877783178), (222, 0.009748541437674613), (1854, 0.009744200140495964), (776, 0.00974115373438717), (1784, 0.00973826241909918), (1039, 0.009735332527804084), (3598, 0.009734639401972129), (885, 0.009733038469805003), (2110, 0.009722769550378898), (434, 0.009721658630449556), (1719, 0.009705535850714639), (824, 0.009701619885745336), (3231, 0.009695172873022594), (3497, 0.00969027935124223), (664, 0.009671972721685424), (978, 0.009669444545136591), (1212, 0.009664232463795493), (1776, 0.009640486525807913), (762, 0.009590027899148838), (403, 0.009577380581360066), (2296, 0.009560403907397404), (2607, 0.009558642105610802), (4201, 0.009556171513324321), (3748, 0.009547019104885824), (2400, 0.009544101833143555), (1392, 0.009528819469668222), (4165, 0.009527097998818035), (3117, 0.009523678686934142), (1236, 0.009519844773433001), (740, 0.009515182010653133), (3914, 0.009508442659290028), (3001, 0.009482025834254504), (3393, 0.00947678576755014), (2747, 0.0094762766276222), (2921, 0.009472935775785523), (4344, 0.009469383239879281), (3801, 0.009449904062492258), (3223, 0.009446270042791983), (477, 0.009433988596834135), (1465, 0.009424679379859233), (3137, 0.009418002137185322), (199, 0.009416830707668212), (3098, 0.009414236532765855), (91, 0.009401981206144022), (3813, 0.009353047426594518), (4187, 0.009350367851529179), (441, 0.009349424415298666), (149, 0.009345324447797261), (159, 0.00934064030415126), (1394, 0.009335005232890782), (57, 0.00933200286601908), (4705, 0.009303703433315694), (384, 0.009301345901257592), (1957, 0.009299563677141312), (3344, 0.00928820429268142), (2774, 0.009281072397792488), (695, 0.009278329130695128), (4156, 0.009276081700409519), (4719, 0.00926456237473656), (147, 0.009261274923510514), (612, 0.009259633284061118), (3674, 0.009254580503447046), (4097, 0.009215887133183625), (4240, 0.00921263466547953), (2602, 0.009204805035622408), (2211, 0.009191333353744223), (4232, 0.009184420889082437), (2221, 0.009168346393392125), (4757, 0.009147681379523855), (4286, 0.009116718520891966), (227, 0.00910790767963388), (2646, 0.009085318579964256), (1932, 0.00908220046227503), (3269, 0.009074319212761592), (2692, 0.009067705968381806), (816, 0.009063757661888048), (1418, 0.009053375538951835), (865, 0.00903727708410073), (3272, 0.009029637166295904), (3208, 0.009023548394276175), (1737, 0.009013980130344663), (1463, 0.009011047349647012), (1918, 0.009005209456090225), (412, 0.008983228707593733), (4574, 0.008977438832715125), (4096, 0.008968088870254467), (4427, 0.008954533181062665), (3830, 0.008951306493696019), (987, 0.008937016753746066), (4674, 0.008926357517978711), (3596, 0.008925519322886915), (743, 0.008920859242980837), (205, 0.008919594925399944), (789, 0.008911121476806939), (131, 0.008903659001999072), (3703, 0.008897549808526316), (3242, 0.008896260556257989), (1930, 0.008895679322893842), (66, 0.008888558484701414), (204, 0.008876241315777437), (2650, 0.008849426260229238), (3209, 0.00882437523164577), (547, 0.008815331174638721), (2766, 0.008802633588981559), (2393, 0.008774285137091099), (3564, 0.008750869243192454), (3115, 0.008750755437908238), (4610, 0.008737083113937722), (3276, 0.008730946076851981), (3410, 0.008728057436332974), (1435, 0.008709056404815807), (193, 0.008703414682574798), (3185, 0.008684766668513099), (775, 0.008667146693437842), (2998, 0.008662045563939059), (4089, 0.00866196089339647), (2376, 0.00865358757902242), (464, 0.008644976729030484), (54, 0.00863670462756679), (637, 0.008634075653157972), (696, 0.00860659435720517), (556, 0.008575351171556228), (814, 0.008573417910389193), (4388, 0.008563767390189367), (2937, 0.008545110657364054), (4202, 0.008538056552799936), (942, 0.008533898068368665), (3512, 0.008530499897613671), (2120, 0.008521781712564217), (3926, 0.008498837808314074), (1648, 0.00849494952130232), (4541, 0.008488702957311878), (1757, 0.008466067259038099), (3090, 0.008458425584917868), (3876, 0.008451147643324913), (1706, 0.00843500848418934), (228, 0.008430092007133447), (822, 0.00840963327588064), (1561, 0.00840751485485151), (4329, 0.00840598618882131), (2667, 0.008402978211805665), (1891, 0.008391985543893716), (2678, 0.008389849803671566), (1153, 0.008373866407958055), (689, 0.008364179061815372), (2965, 0.008360989582727447), (1421, 0.008357924898024543), (3552, 0.008355953079777673), (2562, 0.008344144015693028), (3365, 0.00833537270332324), (1026, 0.008334191322138057), (535, 0.00832071878192441), (2571, 0.008308209719640016), (3912, 0.008303222901875467), (4159, 0.008303198608542466), (3390, 0.008301139379719845), (2768, 0.008298974515437397), (4035, 0.008276690775520302), (2657, 0.008268433637666774), (1425, 0.008268107786331282), (846, 0.008267763138265907), (2659, 0.00826127670916643), (49, 0.008259575282277862), (466, 0.008249632508419862), (4011, 0.008246439787433984), (2271, 0.008225602764417205), (4356, 0.008222949936444875), (1416, 0.008196247307895223), (2737, 0.008195398643560201), (713, 0.008184607354536525), (224, 0.008147670584524534), (1673, 0.00814264601269891), (2990, 0.008138080814655144), (1654, 0.008129090426893129), (3300, 0.00810551445517726), (2100, 0.008097633131884312), (1255, 0.00808343680555872), (1034, 0.008077769835077735), (3178, 0.00806851108517659), (3974, 0.008066158257396702), (2135, 0.008064353339834053), (3635, 0.008042528341091057), (655, 0.008038013252931329), (4569, 0.008033349315857053), (2143, 0.008031928310636507), (4555, 0.008027059226268257), (710, 0.008015015802705557), (1009, 0.00799473934100177), (1774, 0.007990406890304527), (1979, 0.007983272497924573), (2922, 0.007975054633479957), (4646, 0.007973605080529408), (4444, 0.00795129293288291), (2457, 0.007940147463087917), (2559, 0.007934326247053595), (4277, 0.00792594844422548), (3472, 0.007918670718168866), (3718, 0.007914304895403693), (920, 0.007881786475660001), (2445, 0.007867812439209221), (4606, 0.007853523628508443), (2818, 0.007836051888866713), (2129, 0.007827791546262128), (2203, 0.007826159237103359), (1180, 0.007819574566211358), (2163, 0.007819531202885428), (638, 0.007804090429357941), (3318, 0.007750153291066029), (1219, 0.007741309045686437), (2521, 0.00774078401135362), (2701, 0.007733548376341607), (2845, 0.007719987240868311), (570, 0.007711097524813546), (2502, 0.007701664848365765), (463, 0.007693790160922468), (2075, 0.00766660432467472), (2415, 0.007656616410959096), (4723, 0.007651334631119516), (2534, 0.007642375666930388), (4122, 0.007623212388307485), (4223, 0.007620100183057725), (735, 0.007610838198173089), (4631, 0.007607587518309236), (1186, 0.00760609735873813), (4221, 0.0076037356284700455), (892, 0.00758916157454232), (317, 0.00758887749324077), (2580, 0.007588138797892524), (1318, 0.007585657399564498), (4247, 0.007565949212806665), (3328, 0.007559897467999375), (2568, 0.007554909798274909), (2352, 0.0075547716410734435), (2529, 0.007549799890237086), (242, 0.007523121616289211), (1978, 0.007510621412648708), (445, 0.007505465003742102), (2864, 0.007484850319760934), (4698, 0.007467052744225069), (2323, 0.0074564983158063374), (642, 0.007453781592039769), (3254, 0.0074323310120573225), (1492, 0.007426643141152025), (2530, 0.007424035332751543), (2395, 0.00738913777507822), (2541, 0.007387910232240956), (2460, 0.007380679249403498), (58, 0.0073407417043958294), (2378, 0.007328237251595481), (2778, 0.00732651537552103), (764, 0.007323806809047299), (4490, 0.00732363975376139), (1258, 0.007323128328804291), (2764, 0.007317043719627171), (2722, 0.007310973362532216), (2858, 0.007307076623159214), (3744, 0.007297492174914787), (1042, 0.007292251205362207), (125, 0.007278604889139818), (2034, 0.007270820954833234), (2379, 0.007260628157261313), (3139, 0.0072481483514725085), (2891, 0.0072423839855861654), (2832, 0.007236078375870208), (2132, 0.007234674854031279), (3936, 0.007234244692967183), (3949, 0.007232297285914211), (4619, 0.007225519132262756), (4443, 0.007223268034762998), (670, 0.00721910758180912), (2500, 0.007217889004616673), (3855, 0.007216237511360456), (2428, 0.007201092754070041), (645, 0.007174430725755256), (4653, 0.007171206338903331), (2895, 0.007141770535995832), (3165, 0.007139829935788907), (4244, 0.0071184333040950065), (3383, 0.0071164068695384495), (2404, 0.007095884639145247), (3206, 0.0070925689565573165), (4222, 0.007086434594614026), (2137, 0.007085960732725088), (3439, 0.007076442466736995), (2707, 0.007073401271256343), (3166, 0.007065671252668892), (4198, 0.007058831979446881), (3796, 0.007050221753250461), (3064, 0.007040139824990898), (1547, 0.007039249160373493), (4598, 0.007036566055328923), (1713, 0.007035921754146726), (4612, 0.00703227551056314), (1540, 0.0070240113200634915), (2459, 0.007023978077470446), (3263, 0.007021290178302345), (3419, 0.007016218461397002), (2537, 0.007007698224499074), (1437, 0.006993554630588442), (3680, 0.006970922289753634), (433, 0.006969670168994079), (4642, 0.006969481605685155), (4700, 0.006968520555684393), (1646, 0.006963740512838995), (3042, 0.0069532634262594985), (1398, 0.0069442796829713395), (2676, 0.0069344018038866246), (1466, 0.006924645629116083), (3009, 0.006911005034559927), (1708, 0.006909333978209771), (1548, 0.0069001311319065815), (3217, 0.0068967542387500715), (3059, 0.006895572115664911), (3578, 0.006894879407420921), (4276, 0.006889728564350494), (4238, 0.006888426259181236), (2673, 0.006887774521291128), (1014, 0.00688668855045596), (4166, 0.006884306711708328), (2164, 0.0068750955587723196), (3560, 0.006870367485747909), (4131, 0.006865421576074341), (4742, 0.0068591550848262454), (4102, 0.006847304184135455), (1332, 0.006844189999056101), (2476, 0.006842619804962348), (3440, 0.006842156868680347), (512, 0.006841527057184675), (3869, 0.006839974729058337), (69, 0.006835978325861773), (3479, 0.0068303474035534785), (1460, 0.006828155234758189), (4562, 0.00679801925663879), (2547, 0.006794551645426482), (2888, 0.006781911419374578), (2423, 0.0067758868884759405), (1023, 0.006775440641259166), (2672, 0.0067737851121297925), (4194, 0.006773706584659029), (1240, 0.006762273032626498), (2576, 0.006750908421505144), (2943, 0.006738010568393439), (2947, 0.0067261017241174266), (143, 0.006718828948875807), (3532, 0.006718779494247554), (2543, 0.006717564268480945), (208, 0.00671195913043942), (3468, 0.006711085217901916), (3846, 0.006705197724521578), (2840, 0.006702762434039612), (2928, 0.006690700635172796), (3800, 0.0066906504958097295), (2066, 0.0066756919088337245), (3502, 0.006675501166090995), (4524, 0.00666593406008595), (514, 0.006664073748541279), (4676, 0.006663591122232359), (3782, 0.00666196152203683), (537, 0.006656309626106682), (3802, 0.0066548913483746195), (716, 0.006654825473290174), (2948, 0.006631535868987119), (4720, 0.006628387213953706), (2898, 0.0066228642608586715), (1091, 0.006621448182278021), (6, 0.006615769906418219), (4181, 0.006615728208909519), (2383, 0.006614429442579997), (3834, 0.006612139662583472), (4116, 0.0066029795099705685), (2555, 0.006597694476570031), (3078, 0.0065964247994974605), (4098, 0.006594449646969998), (3191, 0.006594128977320647), (3202, 0.006590415660393189), (2361, 0.006582967112070457), (3356, 0.006582473150361616), (386, 0.006580992719276482), (2243, 0.006567669472374418), (2228, 0.006562760477926097), (3163, 0.006562414038472187), (1904, 0.006561482667483779), (2797, 0.00655937344542611), (3667, 0.006553864551375698), (3593, 0.006549724466423989), (1894, 0.006549508886275979), (3112, 0.006538914389032849), (4077, 0.006533169942855236), (1976, 0.006531951153876573), (2838, 0.0065208004739624745), (303, 0.006518808881482105), (3282, 0.0065146964108755865), (3692, 0.006513739876694433), (3132, 0.006507060988993915), (3537, 0.0065059766448404), (41, 0.006504142007388127), (448, 0.006500835855266123), (4384, 0.00650080493985634), (550, 0.0064960447617894886), (3787, 0.006496038196095763), (4249, 0.006494337792862631), (2860, 0.006492781893221171), (3404, 0.006490153513565721), (2819, 0.006489799416304269), (4570, 0.006489741490595171), (1687, 0.006489002577322382), (4419, 0.00648837852313565), (3763, 0.006485234480405292), (3977, 0.006479564048705545), (3438, 0.006477833476705567), (715, 0.006476794801685907), (4630, 0.006466615785667796), (3522, 0.006464816397499398), (2506, 0.006463591024414015), (3544, 0.006460691915085185), (4046, 0.006454095752462901), (826, 0.0064493521627901436), (3686, 0.006449008777838507), (992, 0.0064455868258342834), (3310, 0.006438697875185543), (4721, 0.006437996574608237), (3249, 0.006436437242587256), (4062, 0.00643260686016462), (673, 0.0064323322672199265), (1328, 0.006424794956856761), (3671, 0.0064191016423352665), (1350, 0.006416293176108481), (1174, 0.006416085310717878), (2458, 0.006416010116360113), (2714, 0.00641491784879271), (1659, 0.006413204052692559), (3020, 0.006409338295700272), (1393, 0.006406451556371529), (2085, 0.006404639698219876), (2136, 0.006404093095488569), (848, 0.006403065179719595), (595, 0.006401480669157925), (3771, 0.006394976931145032), (1454, 0.006393615765391678), (2088, 0.006390152993495735), (4289, 0.006385778340395688), (4430, 0.0063856610985215554), (875, 0.006381175311167537), (728, 0.006378204237071374), (1732, 0.006373189584299237), (3592, 0.0063695967852351884), (3710, 0.006368740081747977), (2015, 0.006368642856781386), (513, 0.006367939392491565), (4514, 0.0063663370527005745), (4005, 0.006361415412790073), (4609, 0.006360967299734853), (3451, 0.006360269828257263), (2740, 0.0063595247575511495), (3798, 0.006358991603677761), (4091, 0.006356936284426777), (4267, 0.006355106442420001), (3017, 0.006353680868354002), (4746, 0.006353039365937531), (4281, 0.006351679905441668), (3604, 0.006344398454278667), (4392, 0.0063417504069369895), (3979, 0.0063395366837966744), (3661, 0.0063388997416144776), (2413, 0.006336692814579338), (4408, 0.006315778239148657), (4269, 0.006313776665148727), (2333, 0.0063126415823103596), (2233, 0.006311721085001078), (3591, 0.0063108175958986965), (3623, 0.006306606125739801), (3850, 0.006303033184714017), (1266, 0.006298068816653012), (2730, 0.0062957556989512815), (151, 0.0062951318227420635), (4100, 0.0062917279814851), (1031, 0.006289329855634566), (3134, 0.006289268080760194), (3227, 0.006287925227793547), (2083, 0.006283290640150207), (4147, 0.006283190516822632), (3750, 0.006282389769173812), (4211, 0.0062804307039328894), (1380, 0.006278950393832333), (118, 0.0062737143494528795), (391, 0.0062722806302580635), (1424, 0.006271073265704472), (3089, 0.006270381602546933), (2091, 0.006268378142462484), (2786, 0.00626555609881391), (1901, 0.006257428810330361), (4483, 0.0062551807486603914), (1015, 0.006253018679010195), (3225, 0.00625126189932313), (3758, 0.006249808700023751), (3651, 0.006245799123044555), (4294, 0.006244768285498223), (3952, 0.006243060460983503), (2009, 0.0062413191890180846), (1758, 0.006239973053960263), (1150, 0.006238960810987492), (3908, 0.006238382104365382), (2434, 0.00623399149177819), (3486, 0.006230687284473382), (2619, 0.006226632757923725), (3256, 0.006221361635572223), (1887, 0.006218112678920532), (2339, 0.006216816593412569), (2124, 0.006214048994985861), (4117, 0.006213135152538841), (4341, 0.0061992539797364535), (231, 0.0061984480377893945), (1599, 0.00619679659099585), (2308, 0.006195873892317195), (582, 0.006195485761929738), (3764, 0.006194912440233494), (965, 0.0061922616990030465), (1056, 0.0061881748983399045), (3371, 0.006187561599921094), (320, 0.006180531087418591), (4456, 0.0061791485336827635), (3554, 0.006178610130106652), (847, 0.0061785657427165085), (1244, 0.006178460192622651), (1484, 0.0061752389048842764), (1502, 0.006174982133115325), (3840, 0.006172870627985443), (4549, 0.006172763421150525), (95, 0.006172287100092975), (3156, 0.006168802967144377), (2518, 0.006168718031379209), (925, 0.006168667940432683), (1637, 0.006166961872825062), (2368, 0.006165700108206755), (1931, 0.006161904014987621), (2570, 0.006161706774093942), (1049, 0.006161670837074947), (375, 0.006159116475965303), (2713, 0.006158865337245711), (2696, 0.006158611807394798), (2535, 0.006157866542954896), (1045, 0.00615748897891573), (4190, 0.006156519665067803), (3124, 0.006155921252103822), (258, 0.006153699370124492), (2846, 0.006153353651446293), (2186, 0.006148320736545319), (4248, 0.006147578549643185), (1504, 0.00614708522457963), (2872, 0.006146960680349005), (2986, 0.0061439558996747605), (2796, 0.006138494588315275), (3413, 0.006133494201050072), (1322, 0.006124934883342955), (3602, 0.006124767114803023), (3131, 0.006123720017643482), (3649, 0.006122618778265816), (1187, 0.006122583163189701), (751, 0.006121071092818233), (3308, 0.00611615807153668), (4363, 0.006114922121294708), (2560, 0.006113609510891368), (1792, 0.006113544405248208), (3169, 0.006110595313196317), (4752, 0.006105366491013992), (3814, 0.006097958118477114), (3618, 0.006097582739140522), (1658, 0.006095939693909109), (4633, 0.0060952865586754125), (1512, 0.006092593780714391), (592, 0.0060909799133338945), (1349, 0.006090252805364671), (4255, 0.006089937899269104), (3937, 0.006089000933934294), (3897, 0.006086362965076918), (3870, 0.006086118945539302), (674, 0.006085756555228885), (3174, 0.0060808686935737285), (4023, 0.006078876712002514), (1936, 0.006078641704720508), (4103, 0.006076445941600966), (93, 0.006075112531626594), (3621, 0.006074169964982375), (1127, 0.0060733830363291635), (2436, 0.006069257462460099), (825, 0.006068754475307519), (3467, 0.00606850788051667), (3080, 0.006066793568357424), (4105, 0.006060665635351453), (1740, 0.006059742934679767), (714, 0.0060561016300640065), (1269, 0.006054918239133813), (1536, 0.00605198924236033), (2647, 0.006050766528693173), (3337, 0.006048910836853476), (2769, 0.006044121646573186), (2549, 0.006041764505811471), (250, 0.006041001200094389), (233, 0.00604007318538755), (2357, 0.0060355512622119675), (1615, 0.006032130072842585), (90, 0.006029917549134952), (1702, 0.0060243772413884015), (985, 0.006022222026129319), (3441, 0.0060214637383560156), (4463, 0.0060156707374667065), (2702, 0.006015157877649714), (1952, 0.006015034923559168), (2261, 0.006014846971397654), (3730, 0.006014483419821073), (2950, 0.006014188469260686), (3920, 0.006011802705176415), (59, 0.006005450393010499), (4330, 0.006005096263175174), (2403, 0.006003257567001473), (1507, 0.00600312233086843), (2815, 0.006002060594775029), (3416, 0.006000150280119833), (1653, 0.005999143565752775), (4051, 0.005994501196728867), (2635, 0.005993714177094227), (572, 0.005993399123525343), (3520, 0.005992137842520231), (615, 0.005992021663519093), (1285, 0.005989787983368233), (4522, 0.005987463640214482), (2418, 0.005985774926418863), (3277, 0.005983225783221406), (4621, 0.0059823430596294734), (539, 0.00598225391584701), (3597, 0.005981428923246439), (3258, 0.005981293768223651), (3808, 0.005975796734823155), (531, 0.005973170884941556), (4599, 0.005972272420274828), (2478, 0.005971490549278151), (1151, 0.005965453827740063), (3555, 0.0059617564672602), (4543, 0.0059557529734055245), (998, 0.005952992796115695), (1766, 0.00594843061775811), (1604, 0.005945026927813181), (3857, 0.005944718340064287), (3126, 0.005943321739469514), (2302, 0.0059420771160892975), (1704, 0.005942021490361028), (2263, 0.005938517131337246), (4439, 0.005934031606069759), (3700, 0.005933681991260236), (3810, 0.005933446299271464), (4550, 0.005929791109264888), (3982, 0.005927201121410298), (3967, 0.0059271076532501155), (467, 0.0059265517450351815), (1012, 0.005926423976151219), (2052, 0.005921570407784878), (4732, 0.005919881054688619), (999, 0.005919595939804449), (1483, 0.00591752144228232), (4041, 0.005915791560221048), (4148, 0.0059153231593076575), (2259, 0.005913768719917318), (2826, 0.005911226455790956), (1104, 0.0059054947329304445), (554, 0.005902539916422133), (1696, 0.005901698369004068), (4580, 0.005897503029538241), (3039, 0.005894015857735052), (3161, 0.005885517085354375), (3605, 0.0058853462350730275), (2298, 0.0058849424851356875), (1601, 0.005881233716433731), (3136, 0.0058798293699611585), (3367, 0.005878950176142511), (2847, 0.005878438146559926), (1749, 0.005877141603066899), (2108, 0.005876914580682671), (305, 0.00587619965402374), (1390, 0.005875339868082808), (1836, 0.005875312405034286), (2232, 0.005874778525619976), (2103, 0.005871987685615768), (2852, 0.005870700589912164), (1315, 0.005867812573306221), (1491, 0.005866348773257553), (2158, 0.00586580506352939), (2911, 0.005865099992310142), (3100, 0.005863576448201331), (2209, 0.005863411144618407), (4044, 0.0058615857214734095), (4743, 0.005860070181240687), (619, 0.005857347363318895), (4236, 0.0058571417986942225), (1263, 0.005856752925469452), (4308, 0.0058566324128237245), (4346, 0.005854863180853552), (2432, 0.005854041147352295), (101, 0.005846584888457538), (4754, 0.005845691926141396), (4039, 0.0058444057646401685), (365, 0.005841187466529123), (704, 0.005839475626442869), (3773, 0.0058350774751590164), (1253, 0.005834932321481372), (933, 0.0058342359795578985), (4509, 0.005834187405291398), (4140, 0.005832295648804308), (3545, 0.005831741435866399), (2634, 0.005830927349188215), (792, 0.005827861897784516), (4136, 0.005826877184301006), (3734, 0.005824499605598471), (292, 0.00582441857079306), (1999, 0.005824324151364847), (2994, 0.005823393225055611), (4076, 0.005821997477329011), (2184, 0.005818269651489586), (2799, 0.005818172557272235), (4613, 0.005816321258827412), (2540, 0.005816033524200358), (1142, 0.005814922956829931), (1274, 0.005812161768386329), (2712, 0.005811888284625458), (1293, 0.005808725407275854), (3706, 0.005808193856297435), (1656, 0.005807947355180466), (2592, 0.0057999918695367065), (192, 0.00579282330314348), (754, 0.005792672284129489), (298, 0.005786738924523822), (4265, 0.0057864576392868475), (930, 0.005786231927524296), (3026, 0.005783738566979649), (2674, 0.005783361426971413), (3584, 0.005780872259726524), (272, 0.005780633649225622), (1545, 0.0057798875517003166), (4695, 0.005777907172424103), (2429, 0.005776501294425096), (1096, 0.005776132796516177), (2117, 0.005775675763504755), (3628, 0.005772191700380581), (678, 0.005771581461288414), (4113, 0.005770813533981765), (717, 0.00577045732534173), (4013, 0.005768960567922439), (3984, 0.0057677396789835005), (1135, 0.005766906254408972), (1243, 0.005766744244755636), (3581, 0.005764703948670308), (4591, 0.005763552999171734), (2561, 0.005762991846077009), (2101, 0.005762761234008907), (84, 0.005762300731955825), (3146, 0.005761672277865171), (1260, 0.005760084269378273), (3408, 0.005757051294307312), (3600, 0.005756609403296279), (4376, 0.005756474472588901), (954, 0.005755838695231121), (2223, 0.005750516680048862), (2979, 0.005749369854629147), (2900, 0.005746932755383503), (1596, 0.005745898381035691), (4534, 0.005745801020628283), (253, 0.00574559627841923), (3601, 0.005744224909685703), (1848, 0.005743723095215378), (1082, 0.005743150122794655), (1789, 0.005743072080397896), (1201, 0.005742552625874244), (4315, 0.005742469024107969), (3660, 0.005739719770840278), (2420, 0.005739434907085894), (2394, 0.005739245113686162), (1006, 0.005737476027534898), (3233, 0.005736884467611342), (3085, 0.005735615888503413), (2782, 0.005731914955896308), (390, 0.005724149533565119), (301, 0.005721676021144159), (1246, 0.005720851712206558), (1619, 0.005716654408658819), (1478, 0.0057159216689909465), (3723, 0.005715830387099538), (3783, 0.005709720215286344), (4406, 0.005700556032857648), (2348, 0.0056987246502079175), (3795, 0.005697121831394648), (2935, 0.005694234180115545), (873, 0.005689729131596483), (1195, 0.005687310666309432), (661, 0.005686811766539207), (2139, 0.005686591396998226), (3526, 0.005686335839880232), (525, 0.005685565886793816), (3689, 0.0056852434851071615), (3198, 0.00568510476563861), (868, 0.005683390790247476), (4193, 0.005681626099925608), (2442, 0.005677024173896943), (784, 0.005672524842645871), (3722, 0.005672071102186446), (318, 0.005671851335570498), (1409, 0.0056701843408858005), (1926, 0.005669853607572481), (4025, 0.005664168955309898), (3114, 0.005660289060875299), (3965, 0.005655715187060708), (2507, 0.0056538705883008855), (4690, 0.005652840017610952), (4433, 0.005652122667404232), (4132, 0.005651548849442869), (2416, 0.005649523976126861), (2970, 0.005646461760126077), (146, 0.005646412763525717), (1048, 0.005646296357716208), (1908, 0.005646141250832946), (3125, 0.005644963709598947), (2519, 0.005642227999197208), (2278, 0.0056413294167813105), (4259, 0.005640316482724619), (685, 0.005636735105478851), (2899, 0.005635764554647009), (1479, 0.005634117187327141), (2709, 0.005632604747982468), (3950, 0.005632495364082885), (4300, 0.005630975565253135), (4324, 0.005628638988425612), (3466, 0.005625942025119758), (4686, 0.005625220503131014), (523, 0.005625151685564405), (92, 0.005622978598573655), (1689, 0.005622609412521403), (3845, 0.005620216914125491), (2792, 0.00561901770775549), (362, 0.005618222685119963), (4649, 0.00561673748258005), (961, 0.005616480128822568), (46, 0.0056152051646277115), (1065, 0.00561460658095426), (56, 0.005613439018912881), (1955, 0.00560944428488334), (4608, 0.005603838066241032), (468, 0.005603062554454608), (4467, 0.005599757601537795), (3917, 0.005598274925877397), (1146, 0.005596099795640771), (2662, 0.005594484846544301), (2882, 0.005593970914992305), (32, 0.005592731893570845), (3135, 0.005592559280473424), (316, 0.005590405805134711), (397, 0.005590268996282184), (897, 0.005589287179693823), (4489, 0.005589056196917994), (3446, 0.0055885967175832735), (3529, 0.005585625512496814), (2601, 0.0055849471217575605), (3889, 0.005582344937059243), (1077, 0.005574545261103671), (3349, 0.005572452916031811), (4357, 0.005569662281957554), (382, 0.0055682027249659635), (2803, 0.005567805767947693), (2086, 0.005566434697471312), (363, 0.005560527739547699), (1731, 0.005560140922985996), (2776, 0.0055599271998173095), (903, 0.0055581430996480405), (2999, 0.00555811320329503), (299, 0.005555898543472863), (1364, 0.005552987585113068), (2268, 0.005550783621977792), (2926, 0.005549737021067963), (2198, 0.005547776706530503), (2414, 0.005543130072392217), (548, 0.005543081456933152), (2194, 0.005537987178496695), (1239, 0.00553493929930018), (4263, 0.005534648612202916), (2588, 0.005534478304635907), (2169, 0.005532555712375228), (630, 0.005531198039962495), (2309, 0.005530906841877234), (2718, 0.00553000666924243), (3493, 0.005529390653951405), (3701, 0.005526607532847088), (4153, 0.005526143042749278), (392, 0.005524661812010783), (3435, 0.005524519665567701), (323, 0.005523029487077311), (2566, 0.005517783264630947), (3193, 0.005517630962437392), (4422, 0.005516610995674306), (610, 0.005515590905559394), (3449, 0.005515554311429435), (1551, 0.005514109199012043), (160, 0.0055135695259500885), (2605, 0.005509892403274378), (3175, 0.005508525722603849), (3934, 0.005506992878337887), (1273, 0.005506927780299668), (3738, 0.005506055504482704), (884, 0.005505337917977313), (3400, 0.005501361995451209), (1969, 0.005501268902218371), (1683, 0.005499855269513061), (1205, 0.00549923820913405), (245, 0.005498237773768994), (2140, 0.005498165689567127), (2472, 0.005497421463818085), (3143, 0.005496228093354856), (2503, 0.005495457378143239), (3943, 0.005494738193205708), (4687, 0.005493518074974476), (401, 0.0054927276062975705), (3630, 0.005491679390246804), (426, 0.005491341456723808), (2495, 0.00549114290374033), (474, 0.00548991341256003), (3053, 0.005489418965050918), (769, 0.005487175663820006), (2109, 0.005484299110241954), (3236, 0.0054837282718919024), (1013, 0.005481379363860757), (804, 0.005481016386430243), (4429, 0.00548099172165174), (3287, 0.005477721487577566), (3084, 0.005471425412097805), (1092, 0.005471086506364651), (1445, 0.005470753783834979), (4446, 0.005470699150627745), (361, 0.005467795659862526), (997, 0.005467607060820016), (3224, 0.005466676523484281), (150, 0.00546469011571996), (1526, 0.005464048664682392), (2090, 0.005462607041010017), (4675, 0.005457653854355107), (2292, 0.005456902279011692), (3973, 0.005454752913958887), (4234, 0.005453621161008689), (1085, 0.005453184004880254), (2071, 0.005453181693068066), (4157, 0.005452695596167648), (3905, 0.005451020844285785), (1620, 0.005448904909232828), (4628, 0.005446636350972977), (1809, 0.005444181525289405), (2185, 0.005443315619755869), (3061, 0.005441037531021294), (565, 0.0054408489386336195), (1336, 0.005439614682984949), (941, 0.005437091244485979), (4420, 0.005435435141457492), (1281, 0.005434997978333231), (3746, 0.005432755137079383), (3709, 0.0054316941480600555), (4319, 0.005431478069369947), (1, 0.005430035270240386), (2242, 0.005429774253636995), (2387, 0.005429303872149124), (219, 0.005424752035609816), (3566, 0.005424735127629819), (1870, 0.005423912701856511), (1366, 0.005420305411602066), (3567, 0.005419456274809209), (3151, 0.005418566022327347), (1059, 0.005414764262719117), (3214, 0.005414317376151135), (4347, 0.005413740184703832), (348, 0.005413371687662402), (4457, 0.005412217479823264), (3728, 0.005410484675106684), (2249, 0.005408130068686438), (379, 0.005405143157017643), (1911, 0.0054048453839199975), (1934, 0.005403191833004317), (3693, 0.005401228953294653), (171, 0.005399757355384221), (1505, 0.005395740254660229), (579, 0.0053934644132668744), (2586, 0.005393406181343847), (2480, 0.005392782488502457), (2856, 0.005392627408297004), (2698, 0.005392256778930069), (1361, 0.005391620258001851), (519, 0.005389906256939607), (290, 0.005389308984955529), (4603, 0.005386532023361343), (2128, 0.005385895983963984), (2046, 0.005384487826994042), (3994, 0.0053844676939590694), (2938, 0.0053834858236122595), (2569, 0.005383383575722094), (1697, 0.005383204643027675), (2195, 0.005383069254688084), (1956, 0.005382868759056655), (3539, 0.005380041818218472), (174, 0.0053787861474917775), (1889, 0.005376434368553625), (1977, 0.005376386205308177), (4404, 0.005374178896949176), (1165, 0.005370814977066899), (1094, 0.005369978392130928), (4054, 0.005369410877324255), (72, 0.005368799577921737), (2499, 0.005368745549709606), (223, 0.005368206294184481), (2041, 0.005367132649097519), (3065, 0.005366605258514147), (2430, 0.005365701382160705), (2744, 0.005364780648432479), (3034, 0.0053636503978683105), (1164, 0.0053593256934748685), (1134, 0.005359202657644175), (2456, 0.005359119224026311), (4027, 0.005357921646359332), (618, 0.0053550523653402475), (29, 0.005354175779665686), (800, 0.005354113277510984), (2794, 0.005353951517492111), (2973, 0.005353232044412748), (1618, 0.005351245252655343), (3351, 0.005348824739553262), (1549, 0.005348145112488317), (1458, 0.005344037035670869), (1345, 0.0053436817104936495), (1060, 0.005339042012114656), (671, 0.005338146810814716), (331, 0.00533773053418697), (4661, 0.005336077191505131), (1446, 0.005336063754003377), (3102, 0.0053340510984991076), (1617, 0.005331458337511461), (3696, 0.005331069720449141), (3882, 0.0053306398819146245), (2746, 0.005330239717166503), (1769, 0.005329551493456271), (3805, 0.005327442075509462), (601, 0.005326063628796094), (3010, 0.005324350668362063), (3016, 0.00532190689998605), (1837, 0.0053218692633127205), (4552, 0.005321784209607583), (2029, 0.00532018977299832), (4548, 0.005319131222348125), (1742, 0.005317907788671128), (3407, 0.005316951339332414), (2685, 0.005316155583011928), (110, 0.005315495703006641), (1782, 0.005313514313166961), (1198, 0.00531328456941498), (1166, 0.00531300335094365), (138, 0.0053115806622843495), (238, 0.005308672664520292), (923, 0.005307624594254228), (1047, 0.0053058580318797845), (4733, 0.005295192070148815), (3556, 0.005294291166653128), (3673, 0.005291940513667586), (1410, 0.005289969148211944), (3046, 0.005287247920628782), (3891, 0.00528646226441302), (697, 0.005285150774498864), (2340, 0.005284682883428144), (3657, 0.005282881025344411), (2385, 0.005282453867071945), (2294, 0.005281215838689044), (2813, 0.005278978948695647), (3776, 0.00527752698219016), (1533, 0.005277083100403418), (3293, 0.005275330228892578), (3888, 0.00527507478620837), (377, 0.005274441777976837), (586, 0.005274422671158072), (398, 0.005273419831453706), (2192, 0.005271241899899816), (1988, 0.0052708119821125495), (4029, 0.005267022490611649), (983, 0.005262507192402683), (179, 0.00526194740901455), (2972, 0.005261085088916405), (3517, 0.005261083046361259), (3826, 0.005258571146889796), (720, 0.005255832762658685), (3375, 0.005248274995044056), (4195, 0.005244301033193672), (3240, 0.005243000213477238), (2859, 0.005242850877439862), (3399, 0.005242729327689005), (2290, 0.00524091910928306), (867, 0.005237108961042532), (3412, 0.0052368825947760045), (1100, 0.005235743614582539), (4432, 0.005235488519623498), (3096, 0.005230021545236133), (4049, 0.005227687319376647), (1493, 0.0052264913337591755), (3288, 0.005222097376197019), (3028, 0.005221960114514578), (969, 0.005221202454820433), (2435, 0.005221072873170677), (4254, 0.00521957617813432), (602, 0.005218979612040848), (3339, 0.005217927530591641), (3481, 0.005216228939425525), (1986, 0.005213899425103505), (549, 0.005208253824729467), (1451, 0.005204677985286861), (3500, 0.005201626522105921), (2687, 0.005200242450291408), (3894, 0.005198712986674727), (4257, 0.005197942053144459), (295, 0.005196997868191707), (404, 0.00519609832231593), (2631, 0.005194505468352384), (503, 0.005194390647341082), (2087, 0.005193429604141621), (372, 0.005193208999764647), (2335, 0.0051913578407082155), (4626, 0.0051913134006509295), (1880, 0.005190617354351223), (1298, 0.005190077732333037), (2836, 0.0051867884342699224), (1430, 0.005185898974158831), (4036, 0.005184575616982899), (1238, 0.0051843266114204945), (3402, 0.005177051063879644), (2677, 0.005176547924274649), (2912, 0.0051760259993244365), (2945, 0.005173482064479029), (2019, 0.005173322672193552), (2552, 0.0051724568822747235), (4523, 0.0051690621466559845), (1663, 0.0051686162140124545), (4634, 0.005168100516686157), (2060, 0.005167600085540931), (1170, 0.005166692557469272), (3606, 0.005165394731370963), (4304, 0.005165334173428018), (4206, 0.005164209875402861), (1204, 0.005161945270169986), (3286, 0.005161782248310059), (2450, 0.005160747910035462), (1804, 0.005159339020303963), (18, 0.005158991521409176), (1112, 0.005156223325057857), (4176, 0.005156183804975201), (234, 0.005153891468802476), (4009, 0.005153384313160669), (2311, 0.0051519462035013635), (114, 0.005150140159705245), (2804, 0.005150056206708605), (1828, 0.005149610018727251), (4689, 0.005149606456344981), (4738, 0.005148474892458056), (1126, 0.005145450446211436), (1693, 0.005143362383916246), (2920, 0.0051428564661165), (2197, 0.005142121835797505), (1912, 0.0051407136078869915), (2693, 0.005138388923777897), (1802, 0.005138273954151416), (473, 0.005137803859987122), (2440, 0.005136885528116646), (188, 0.005136378654239485), (3841, 0.005125270319905624), (4213, 0.00512507529802416), (44, 0.005123925868486843), (50, 0.0051225836169325875), (3366, 0.005120482357745829), (2179, 0.005119493604274123), (1842, 0.005118029518793248), (2113, 0.005117008494234254), (1555, 0.005116305596340324), (1771, 0.005113384559213597), (4459, 0.0051118765266885795), (3825, 0.005111052571754126), (1598, 0.005107014173116782), (1190, 0.005106524435030436), (442, 0.005106016906206314), (1408, 0.0051041990079776205), (4348, 0.005103011464240813), (1750, 0.005100816677122917), (1211, 0.005098700608334627), (2823, 0.005097615250505008), (3622, 0.0050937964686411825), (2202, 0.005089776110325344), (291, 0.005089460212333724), (899, 0.00508846883663988), (4402, 0.0050839473855353), (4568, 0.00508376667215385), (454, 0.005080084635972818), (1171, 0.005077044472919895), (575, 0.0050736336701340595), (3201, 0.005069927013366317), (2301, 0.00506778411673284), (1114, 0.0050676729674810055), (1568, 0.005067282788469043), (505, 0.005063724404488345), (1363, 0.00506257905592448), (1117, 0.0050623774385900756), (1503, 0.0050619559806936755), (157, 0.005061326417517163), (3024, 0.005060780018446924), (3753, 0.005059254455283574), (3226, 0.005058298262025579), (197, 0.0050566554763872874), (759, 0.005055763766701516), (3213, 0.005054386145875921), (2207, 0.005054250903056553), (3284, 0.005053826645494618), (2514, 0.005047762202524539), (352, 0.005047634705030094), (3220, 0.005046614947101415), (3050, 0.005045977650759369), (1808, 0.005045727091912188), (3309, 0.0050428402195092144), (1261, 0.0050398123830485055), (2681, 0.005032294762029181), (4057, 0.005031453797296812), (1990, 0.005031065496391399), (3405, 0.005029476320700847), (2594, 0.005029079453530167), (184, 0.005027113996497459), (2525, 0.0050262600071044), (2107, 0.005021217270587033), (3194, 0.0050177043138985526), (4143, 0.005016651264113656), (649, 0.005011953002911857), (2467, 0.005010927569035592), (4071, 0.005007459264804624), (2644, 0.005005710212146605), (4297, 0.005003787364983008), (2697, 0.0050034175366047125), (4290, 0.0049975559213213915), (957, 0.004995408408424722), (3045, 0.004991921705174439), (2611, 0.004982842549312072), (3177, 0.004982299845057783), (2829, 0.004981159072590389), (1326, 0.004980147832579493), (1994, 0.004976182302391343), (1576, 0.004975967874899905), (4327, 0.004975411291812563), (2010, 0.004974522564630383), (3752, 0.004968290453968099), (1626, 0.004965918745555959), (722, 0.0049658026098233065), (289, 0.0049611900509573745), (1073, 0.00495965887342481), (1762, 0.004958645910526442), (1929, 0.0049578438242009895), (1877, 0.004948689348026361), (1327, 0.004947040337685058), (1886, 0.004943813999282051), (546, 0.004942656236037739), (2654, 0.00493529679411979), (589, 0.004930054537654263), (33, 0.004927580646778663), (1136, 0.00492140695041091), (1203, 0.004920093895973824), (3589, 0.004910332992330162), (4074, 0.004909678376892152), (53, 0.004909052329780744), (185, 0.004908040839526686), (2627, 0.004900721224296077), (73, 0.00489453681935933), (605, 0.004886403799642713), (311, 0.0048828072705243775), (367, 0.004880204522917556), (1340, 0.004878781988302837), (2201, 0.004875755437943194), (3928, 0.004874723007270296), (3211, 0.004869245238241419), (3360, 0.004866485316638247), (2170, 0.004865927719895052), (3852, 0.004865335453224825), (3395, 0.004860216419075897), (2942, 0.0048599380503172645), (3319, 0.0048564212747512145), (1974, 0.004852153375149681), (1323, 0.004852132412710175), (2497, 0.00485193585680683), (383, 0.004847980233364038), (2741, 0.0048445974011214485), (2801, 0.004839660003542538), (2225, 0.004838300680794891), (4748, 0.004835481284423903), (3944, 0.004834914523222965), (3111, 0.004832925950477177), (3803, 0.004832717668493633), (97, 0.004823763748736086), (2265, 0.004821877564120833), (4237, 0.004809845232016698), (1528, 0.004807541003772915), (1120, 0.004805888473500075), (3859, 0.0048055045566857925), (1427, 0.004804615610601389), (1038, 0.004798609366486839), (60, 0.004793532878111814), (745, 0.004789524364076101), (3865, 0.004787818540564977), (3409, 0.004782969866619014), (1910, 0.0047783023461972435), (271, 0.0047768901706912925), (1215, 0.004771282163792704), (103, 0.004771171378004721), (2770, 0.004770254183168371), (4104, 0.004769716404219874), (3839, 0.004768193561806407), (416, 0.004766391358106058), (4066, 0.004763246659951786), (1559, 0.004760438214667668), (1715, 0.004759658088371722), (3329, 0.00475851954436346), (1397, 0.004757619977052252), (2767, 0.004757237278084061), (4158, 0.004752728585254674), (2, 0.004752318616886722), (951, 0.004751590195425429), (1008, 0.004746683080172682), (4627, 0.004746512563052983), (1178, 0.0047460475872348595), (4426, 0.004732497500940378), (2204, 0.0047313333647856495), (3957, 0.004727827958092581), (1684, 0.004727133314317355), (3485, 0.004726407530216337), (186, 0.004717951159292338), (2591, 0.004714535498868082), (2146, 0.0047130134855124396), (3767, 0.00470813372417246), (278, 0.004707449969045103), (177, 0.004698604391096777), (924, 0.004691993930915049), (1652, 0.004691666689227279), (4519, 0.004689303120141764), (2721, 0.004688576227050358), (1199, 0.0046883139593455175), (1980, 0.004688219055350082), (3821, 0.004685937296786972), (3222, 0.004674787541995192), (2168, 0.004673564318252099), (4191, 0.004669377241485807), (2481, 0.0046677725447198835), (2526, 0.004667152898793848), (2761, 0.004667111773246731), (1213, 0.004661996908068597), (1251, 0.0046610216036533595), (1743, 0.004660571581449498), (3933, 0.004655932838079115), (970, 0.0046460166965847085), (1691, 0.004637290442605754), (1569, 0.004629954635822249), (2833, 0.004629395246264894), (4373, 0.004621069881841726), (836, 0.004615825908505434), (4414, 0.004610445657123275), (2270, 0.004609031657802803), (1616, 0.004606383717627327), (3856, 0.00459670547101554), (3362, 0.004588423207204234), (4200, 0.004587133288021913), (332, 0.004584472325829551), (4636, 0.004581315190990205), (1040, 0.0045760968001703995), (2688, 0.004574837795570969), (2001, 0.0045716140475973045), (2805, 0.004564596705049999), (1370, 0.004537709049623023), (3575, 0.0045267565745675436), (1088, 0.004525395688845175), (2006, 0.004511054497212207), (3152, 0.004503849538486357), (2876, 0.004497927511432481), (1078, 0.00448680974320532), (964, 0.004484901965624371), (3559, 0.004474948986929323), (707, 0.004470795918365162), (4744, 0.00444866680290126), (2364, 0.004438033513035432), (3212, 0.004435821903724272), (3430, 0.004398572742939782), (2758, 0.00438791684421437), (1367, 0.004376437094677851), (1222, 0.004368035557847645), (3429, 0.004357018298845621), (2441, 0.004338493786850367), (3316, 0.004322003445622238), (3538, 0.0043214553800729845), (1676, 0.004271605115607673), (156, 0.004269738951646489), (1883, 0.004226609227662792), (421, 0.004207217858762331), (1871, 0.004184331654263108), (351, 0.004167208758750168), (3546, 0.00416438396648019), (2544, 0.004159261962820982), (1277, 0.004150440546723306), (972, 0.004113799065932514), (3574, 0.004076986590462701), (1403, 0.004053060154921485), (293, 0.004046162230779576), (1362, 0.003912438861126345), (2443, 0.0037400135601486956), (129, 0.0037006767366202418), (940, 0.0036852979482577715), (4, 0.0), (8, 0.0), (13, 0.0), (15, 0.0), (16, 0.0), (17, 0.0), (20, 0.0), (24, 0.0), (26, 0.0), (27, 0.0), (31, 0.0), (34, 0.0), (36, 0.0), (47, 0.0), (55, 0.0), (61, 0.0), (65, 0.0), (70, 0.0), (71, 0.0), (77, 0.0), (99, 0.0), (100, 0.0), (104, 0.0), (107, 0.0), (117, 0.0), (121, 0.0), (126, 0.0), (127, 0.0), (132, 0.0), (136, 0.0), (140, 0.0), (141, 0.0), (154, 0.0), (163, 0.0), (164, 0.0), (167, 0.0), (173, 0.0), (176, 0.0), (178, 0.0), (183, 0.0), (187, 0.0), (190, 0.0), (194, 0.0), (198, 0.0), (203, 0.0), (213, 0.0), (226, 0.0), (229, 0.0), (230, 0.0), (235, 0.0), (241, 0.0), (247, 0.0), (248, 0.0), (252, 0.0), (255, 0.0), (256, 0.0), (265, 0.0), (267, 0.0), (268, 0.0), (275, 0.0), (280, 0.0), (283, 0.0), (286, 0.0), (300, 0.0), (304, 0.0), (307, 0.0), (313, 0.0), (326, 0.0), (335, 0.0), (337, 0.0), (339, 0.0), (340, 0.0), (343, 0.0), (349, 0.0), (353, 0.0), (355, 0.0), (358, 0.0), (359, 0.0), (364, 0.0), (371, 0.0), (373, 0.0), (374, 0.0), (378, 0.0), (387, 0.0), (389, 0.0), (393, 0.0), (395, 0.0), (406, 0.0), (414, 0.0), (419, 0.0), (420, 0.0), (422, 0.0), (423, 0.0), (430, 0.0), (431, 0.0), (437, 0.0), (438, 0.0), (440, 0.0), (446, 0.0), (449, 0.0), (453, 0.0), (455, 0.0), (459, 0.0), (462, 0.0), (465, 0.0), (470, 0.0), (471, 0.0), (476, 0.0), (478, 0.0), (480, 0.0), (481, 0.0), (484, 0.0), (487, 0.0), (488, 0.0), (489, 0.0), (490, 0.0), (493, 0.0), (499, 0.0), (509, 0.0), (518, 0.0), (522, 0.0), (526, 0.0), (527, 0.0), (536, 0.0), (541, 0.0), (551, 0.0), (552, 0.0), (557, 0.0), (558, 0.0), (559, 0.0), (564, 0.0), (571, 0.0), (574, 0.0), (576, 0.0), (581, 0.0), (587, 0.0), (588, 0.0), (590, 0.0), (591, 0.0), (593, 0.0), (598, 0.0), (603, 0.0), (604, 0.0), (607, 0.0), (608, 0.0), (611, 0.0), (616, 0.0), (624, 0.0), (625, 0.0), (626, 0.0), (628, 0.0), (641, 0.0), (646, 0.0), (647, 0.0), (648, 0.0), (650, 0.0), (651, 0.0), (663, 0.0), (680, 0.0), (681, 0.0), (686, 0.0), (693, 0.0), (694, 0.0), (698, 0.0), (705, 0.0), (711, 0.0), (718, 0.0), (724, 0.0), (730, 0.0), (732, 0.0), (734, 0.0), (739, 0.0), (748, 0.0), (750, 0.0), (755, 0.0), (761, 0.0), (766, 0.0), (771, 0.0), (772, 0.0), (774, 0.0), (777, 0.0), (783, 0.0), (791, 0.0), (794, 0.0), (796, 0.0), (805, 0.0), (808, 0.0), (812, 0.0), (815, 0.0), (817, 0.0), (818, 0.0), (819, 0.0), (823, 0.0), (830, 0.0), (831, 0.0), (835, 0.0), (837, 0.0), (838, 0.0), (839, 0.0), (841, 0.0), (843, 0.0), (844, 0.0), (850, 0.0), (855, 0.0), (857, 0.0), (858, 0.0), (861, 0.0), (863, 0.0), (871, 0.0), (876, 0.0), (877, 0.0), (882, 0.0), (887, 0.0), (888, 0.0), (900, 0.0), (901, 0.0), (906, 0.0), (909, 0.0), (914, 0.0), (917, 0.0), (921, 0.0), (922, 0.0), (936, 0.0), (943, 0.0), (949, 0.0), (950, 0.0), (958, 0.0), (959, 0.0), (967, 0.0), (968, 0.0), (975, 0.0), (977, 0.0), (991, 0.0), (1003, 0.0), (1004, 0.0), (1016, 0.0), (1019, 0.0), (1020, 0.0), (1021, 0.0), (1027, 0.0), (1028, 0.0), (1030, 0.0), (1032, 0.0), (1037, 0.0), (1043, 0.0), (1051, 0.0), (1055, 0.0), (1057, 0.0), (1067, 0.0), (1069, 0.0), (1070, 0.0), (1072, 0.0), (1075, 0.0), (1081, 0.0), (1089, 0.0), (1093, 0.0), (1097, 0.0), (1098, 0.0), (1102, 0.0), (1103, 0.0), (1110, 0.0), (1121, 0.0), (1123, 0.0), (1133, 0.0), (1143, 0.0), (1144, 0.0), (1145, 0.0), (1147, 0.0), (1149, 0.0), (1152, 0.0), (1156, 0.0), (1158, 0.0), (1159, 0.0), (1161, 0.0), (1163, 0.0), (1172, 0.0), (1176, 0.0), (1177, 0.0), (1181, 0.0), (1182, 0.0), (1188, 0.0), (1189, 0.0), (1193, 0.0), (1202, 0.0), (1206, 0.0), (1209, 0.0), (1218, 0.0), (1220, 0.0), (1227, 0.0), (1242, 0.0), (1264, 0.0), (1265, 0.0), (1271, 0.0), (1272, 0.0), (1283, 0.0), (1287, 0.0), (1288, 0.0), (1289, 0.0), (1299, 0.0), (1311, 0.0), (1313, 0.0), (1316, 0.0), (1324, 0.0), (1331, 0.0), (1342, 0.0), (1347, 0.0), (1355, 0.0), (1374, 0.0), (1376, 0.0), (1383, 0.0), (1389, 0.0), (1401, 0.0), (1407, 0.0), (1414, 0.0), (1415, 0.0), (1426, 0.0), (1433, 0.0), (1438, 0.0), (1439, 0.0), (1441, 0.0), (1448, 0.0), (1449, 0.0), (1450, 0.0), (1452, 0.0), (1470, 0.0), (1473, 0.0), (1475, 0.0), (1497, 0.0), (1514, 0.0), (1519, 0.0), (1529, 0.0), (1531, 0.0), (1532, 0.0), (1538, 0.0), (1541, 0.0), (1550, 0.0), (1558, 0.0), (1563, 0.0), (1565, 0.0), (1566, 0.0), (1574, 0.0), (1575, 0.0), (1578, 0.0), (1580, 0.0), (1583, 0.0), (1590, 0.0), (1593, 0.0), (1600, 0.0), (1602, 0.0), (1603, 0.0), (1605, 0.0), (1606, 0.0), (1607, 0.0), (1609, 0.0), (1612, 0.0), (1624, 0.0), (1625, 0.0), (1628, 0.0), (1631, 0.0), (1632, 0.0), (1633, 0.0), (1635, 0.0), (1636, 0.0), (1641, 0.0), (1643, 0.0), (1644, 0.0), (1647, 0.0), (1655, 0.0), (1661, 0.0), (1667, 0.0), (1672, 0.0), (1685, 0.0), (1686, 0.0), (1699, 0.0), (1703, 0.0), (1711, 0.0), (1712, 0.0), (1717, 0.0), (1720, 0.0), (1723, 0.0), (1724, 0.0), (1730, 0.0), (1747, 0.0), (1748, 0.0), (1752, 0.0), (1753, 0.0), (1763, 0.0), (1770, 0.0), (1773, 0.0), (1775, 0.0), (1785, 0.0), (1786, 0.0), (1800, 0.0), (1805, 0.0), (1807, 0.0), (1810, 0.0), (1813, 0.0), (1814, 0.0), (1820, 0.0), (1826, 0.0), (1834, 0.0), (1835, 0.0), (1838, 0.0), (1844, 0.0), (1849, 0.0), (1856, 0.0), (1860, 0.0), (1862, 0.0), (1863, 0.0), (1865, 0.0), (1866, 0.0), (1868, 0.0), (1869, 0.0), (1872, 0.0), (1875, 0.0), (1882, 0.0), (1884, 0.0), (1885, 0.0), (1890, 0.0), (1892, 0.0), (1896, 0.0), (1905, 0.0), (1906, 0.0), (1909, 0.0), (1916, 0.0), (1917, 0.0), (1920, 0.0), (1921, 0.0), (1927, 0.0), (1928, 0.0), (1938, 0.0), (1944, 0.0), (1946, 0.0), (1953, 0.0), (1959, 0.0), (1960, 0.0), (1962, 0.0), (1966, 0.0), (1972, 0.0), (1989, 0.0), (1995, 0.0), (1998, 0.0), (2002, 0.0), (2004, 0.0), (2011, 0.0), (2020, 0.0), (2028, 0.0), (2030, 0.0), (2038, 0.0), (2039, 0.0), (2042, 0.0), (2048, 0.0), (2051, 0.0), (2057, 0.0), (2059, 0.0), (2063, 0.0), (2064, 0.0), (2069, 0.0), (2073, 0.0), (2084, 0.0), (2092, 0.0), (2095, 0.0), (2096, 0.0), (2098, 0.0), (2104, 0.0), (2105, 0.0), (2115, 0.0), (2121, 0.0), (2123, 0.0), (2127, 0.0), (2133, 0.0), (2134, 0.0), (2138, 0.0), (2141, 0.0), (2142, 0.0), (2144, 0.0), (2149, 0.0), (2154, 0.0), (2155, 0.0), (2162, 0.0), (2165, 0.0), (2171, 0.0), (2172, 0.0), (2173, 0.0), (2174, 0.0), (2176, 0.0), (2182, 0.0), (2183, 0.0), (2189, 0.0), (2191, 0.0), (2200, 0.0), (2213, 0.0), (2219, 0.0), (2220, 0.0), (2230, 0.0), (2231, 0.0), (2238, 0.0), (2244, 0.0), (2248, 0.0), (2251, 0.0), (2253, 0.0), (2255, 0.0), (2256, 0.0), (2258, 0.0), (2266, 0.0), (2267, 0.0), (2272, 0.0), (2282, 0.0), (2283, 0.0), (2288, 0.0), (2289, 0.0), (2295, 0.0), (2299, 0.0), (2300, 0.0), (2305, 0.0), (2306, 0.0), (2307, 0.0), (2310, 0.0), (2312, 0.0), (2313, 0.0), (2319, 0.0), (2321, 0.0), (2324, 0.0), (2325, 0.0), (2328, 0.0), (2332, 0.0), (2337, 0.0), (2341, 0.0), (2342, 0.0), (2343, 0.0), (2345, 0.0), (2347, 0.0), (2349, 0.0), (2350, 0.0), (2354, 0.0), (2355, 0.0), (2358, 0.0), (2359, 0.0), (2360, 0.0), (2362, 0.0), (2366, 0.0), (2370, 0.0), (2371, 0.0), (2372, 0.0), (2373, 0.0), (2374, 0.0), (2380, 0.0), (2382, 0.0), (2384, 0.0), (2388, 0.0), (2390, 0.0), (2392, 0.0), (2401, 0.0), (2405, 0.0), (2407, 0.0), (2408, 0.0), (2411, 0.0), (2417, 0.0), (2419, 0.0), (2421, 0.0), (2425, 0.0), (2437, 0.0), (2438, 0.0), (2448, 0.0), (2451, 0.0), (2452, 0.0), (2454, 0.0), (2455, 0.0), (2462, 0.0), (2463, 0.0), (2465, 0.0), (2470, 0.0), (2471, 0.0), (2473, 0.0), (2475, 0.0), (2483, 0.0), (2484, 0.0), (2490, 0.0), (2496, 0.0), (2505, 0.0), (2508, 0.0), (2515, 0.0), (2516, 0.0), (2517, 0.0), (2520, 0.0), (2523, 0.0), (2527, 0.0), (2532, 0.0), (2533, 0.0), (2536, 0.0), (2538, 0.0), (2542, 0.0), (2545, 0.0), (2548, 0.0), (2551, 0.0), (2556, 0.0), (2557, 0.0), (2558, 0.0), (2563, 0.0), (2564, 0.0), (2572, 0.0), (2574, 0.0), (2577, 0.0), (2579, 0.0), (2583, 0.0), (2585, 0.0), (2589, 0.0), (2593, 0.0), (2595, 0.0), (2596, 0.0), (2599, 0.0), (2606, 0.0), (2613, 0.0), (2614, 0.0), (2618, 0.0), (2620, 0.0), (2621, 0.0), (2623, 0.0), (2624, 0.0), (2628, 0.0), (2639, 0.0), (2641, 0.0), (2643, 0.0), (2648, 0.0), (2651, 0.0), (2652, 0.0), (2653, 0.0), (2658, 0.0), (2679, 0.0), (2683, 0.0), (2684, 0.0), (2686, 0.0), (2694, 0.0), (2700, 0.0), (2703, 0.0), (2704, 0.0), (2705, 0.0), (2708, 0.0), (2716, 0.0), (2717, 0.0), (2719, 0.0), (2723, 0.0), (2731, 0.0), (2733, 0.0), (2735, 0.0), (2736, 0.0), (2748, 0.0), (2750, 0.0), (2753, 0.0), (2757, 0.0), (2759, 0.0), (2771, 0.0), (2773, 0.0), (2775, 0.0), (2779, 0.0), (2783, 0.0), (2785, 0.0), (2800, 0.0), (2802, 0.0), (2806, 0.0), (2821, 0.0), (2824, 0.0), (2827, 0.0), (2831, 0.0), (2835, 0.0), (2837, 0.0), (2839, 0.0), (2853, 0.0), (2861, 0.0), (2863, 0.0), (2868, 0.0), (2869, 0.0), (2870, 0.0), (2875, 0.0), (2883, 0.0), (2885, 0.0), (2887, 0.0), (2889, 0.0), (2890, 0.0), (2894, 0.0), (2896, 0.0), (2901, 0.0), (2902, 0.0), (2905, 0.0), (2907, 0.0), (2914, 0.0), (2915, 0.0), (2916, 0.0), (2923, 0.0), (2930, 0.0), (2936, 0.0), (2941, 0.0), (2946, 0.0), (2949, 0.0), (2956, 0.0), (2957, 0.0), (2958, 0.0), (2960, 0.0), (2964, 0.0), (2966, 0.0), (2967, 0.0), (2968, 0.0), (2974, 0.0), (2976, 0.0), (2977, 0.0), (2980, 0.0), (2987, 0.0), (2989, 0.0), (2991, 0.0), (2993, 0.0), (2995, 0.0), (2997, 0.0), (3004, 0.0), (3005, 0.0), (3006, 0.0), (3007, 0.0), (3012, 0.0), (3013, 0.0), (3014, 0.0), (3015, 0.0), (3021, 0.0), (3023, 0.0), (3025, 0.0), (3029, 0.0), (3030, 0.0), (3031, 0.0), (3032, 0.0), (3035, 0.0), (3037, 0.0), (3041, 0.0), (3049, 0.0), (3051, 0.0), (3052, 0.0), (3054, 0.0), (3055, 0.0), (3057, 0.0), (3058, 0.0), (3067, 0.0), (3068, 0.0), (3069, 0.0), (3072, 0.0), (3074, 0.0), (3075, 0.0), (3076, 0.0), (3081, 0.0), (3087, 0.0), (3088, 0.0), (3091, 0.0), (3092, 0.0), (3093, 0.0), (3094, 0.0), (3101, 0.0), (3103, 0.0), (3104, 0.0), (3105, 0.0), (3106, 0.0), (3107, 0.0), (3116, 0.0), (3120, 0.0), (3128, 0.0), (3130, 0.0), (3138, 0.0), (3140, 0.0), (3148, 0.0), (3157, 0.0), (3158, 0.0), (3159, 0.0), (3160, 0.0), (3162, 0.0), (3164, 0.0), (3170, 0.0), (3173, 0.0), (3176, 0.0), (3179, 0.0), (3180, 0.0), (3184, 0.0), (3186, 0.0), (3190, 0.0), (3195, 0.0), (3196, 0.0), (3197, 0.0), (3200, 0.0), (3203, 0.0), (3204, 0.0), (3216, 0.0), (3228, 0.0), (3230, 0.0), (3235, 0.0), (3243, 0.0), (3248, 0.0), (3250, 0.0), (3251, 0.0), (3252, 0.0), (3255, 0.0), (3257, 0.0), (3261, 0.0), (3262, 0.0), (3266, 0.0), (3268, 0.0), (3273, 0.0), (3274, 0.0), (3278, 0.0), (3279, 0.0), (3280, 0.0), (3281, 0.0), (3285, 0.0), (3291, 0.0), (3292, 0.0), (3296, 0.0), (3298, 0.0), (3299, 0.0), (3301, 0.0), (3302, 0.0), (3305, 0.0), (3307, 0.0), (3313, 0.0), (3314, 0.0), (3322, 0.0), (3324, 0.0), (3326, 0.0), (3331, 0.0), (3333, 0.0), (3335, 0.0), (3340, 0.0), (3347, 0.0), (3350, 0.0), (3353, 0.0), (3354, 0.0), (3355, 0.0), (3358, 0.0), (3359, 0.0), (3363, 0.0), (3369, 0.0), (3372, 0.0), (3376, 0.0), (3378, 0.0), (3379, 0.0), (3380, 0.0), (3381, 0.0), (3387, 0.0), (3394, 0.0), (3398, 0.0), (3401, 0.0), (3415, 0.0), (3417, 0.0), (3422, 0.0), (3423, 0.0), (3425, 0.0), (3431, 0.0), (3433, 0.0), (3434, 0.0), (3436, 0.0), (3442, 0.0), (3452, 0.0), (3455, 0.0), (3460, 0.0), (3462, 0.0), (3470, 0.0), (3471, 0.0), (3473, 0.0), (3474, 0.0), (3475, 0.0), (3476, 0.0), (3478, 0.0), (3480, 0.0), (3482, 0.0), (3487, 0.0), (3489, 0.0), (3490, 0.0), (3494, 0.0), (3495, 0.0), (3498, 0.0), (3499, 0.0), (3501, 0.0), (3503, 0.0), (3505, 0.0), (3509, 0.0), (3510, 0.0), (3511, 0.0), (3519, 0.0), (3521, 0.0), (3524, 0.0), (3527, 0.0), (3528, 0.0), (3530, 0.0), (3533, 0.0), (3534, 0.0), (3540, 0.0), (3541, 0.0), (3542, 0.0), (3543, 0.0), (3547, 0.0), (3548, 0.0), (3550, 0.0), (3558, 0.0), (3561, 0.0), (3572, 0.0), (3573, 0.0), (3576, 0.0), (3580, 0.0), (3583, 0.0), (3587, 0.0), (3590, 0.0), (3607, 0.0), (3608, 0.0), (3611, 0.0), (3613, 0.0), (3614, 0.0), (3615, 0.0), (3619, 0.0), (3620, 0.0), (3624, 0.0), (3625, 0.0), (3627, 0.0), (3629, 0.0), (3631, 0.0), (3634, 0.0), (3636, 0.0), (3638, 0.0), (3639, 0.0), (3647, 0.0), (3653, 0.0), (3654, 0.0), (3656, 0.0), (3662, 0.0), (3663, 0.0), (3664, 0.0), (3666, 0.0), (3669, 0.0), (3672, 0.0), (3679, 0.0), (3682, 0.0), (3683, 0.0), (3687, 0.0), (3691, 0.0), (3702, 0.0), (3705, 0.0), (3707, 0.0), (3713, 0.0), (3714, 0.0), (3716, 0.0), (3717, 0.0), (3719, 0.0), (3721, 0.0), (3725, 0.0), (3726, 0.0), (3727, 0.0), (3729, 0.0), (3735, 0.0), (3737, 0.0), (3740, 0.0), (3745, 0.0), (3749, 0.0), (3754, 0.0), (3755, 0.0), (3757, 0.0), (3760, 0.0), (3761, 0.0), (3762, 0.0), (3766, 0.0), (3768, 0.0), (3770, 0.0), (3772, 0.0), (3775, 0.0), (3779, 0.0), (3781, 0.0), (3784, 0.0), (3785, 0.0), (3788, 0.0), (3789, 0.0), (3791, 0.0), (3793, 0.0), (3797, 0.0), (3799, 0.0), (3804, 0.0), (3806, 0.0), (3809, 0.0), (3811, 0.0), (3815, 0.0), (3816, 0.0), (3817, 0.0), (3820, 0.0), (3827, 0.0), (3829, 0.0), (3832, 0.0), (3833, 0.0), (3835, 0.0), (3836, 0.0), (3837, 0.0), (3838, 0.0), (3843, 0.0), (3847, 0.0), (3848, 0.0), (3851, 0.0), (3853, 0.0), (3861, 0.0), (3863, 0.0), (3864, 0.0), (3867, 0.0), (3871, 0.0), (3872, 0.0), (3873, 0.0), (3874, 0.0), (3877, 0.0), (3880, 0.0), (3881, 0.0), (3883, 0.0), (3884, 0.0), (3885, 0.0), (3887, 0.0), (3893, 0.0), (3895, 0.0), (3896, 0.0), (3898, 0.0), (3899, 0.0), (3900, 0.0), (3901, 0.0), (3902, 0.0), (3904, 0.0), (3906, 0.0), (3909, 0.0), (3911, 0.0), (3913, 0.0), (3915, 0.0), (3916, 0.0), (3918, 0.0), (3922, 0.0), (3925, 0.0), (3927, 0.0), (3929, 0.0), (3930, 0.0), (3931, 0.0), (3932, 0.0), (3935, 0.0), (3938, 0.0), (3939, 0.0), (3940, 0.0), (3942, 0.0), (3945, 0.0), (3948, 0.0), (3951, 0.0), (3953, 0.0), (3954, 0.0), (3956, 0.0), (3958, 0.0), (3960, 0.0), (3962, 0.0), (3969, 0.0), (3971, 0.0), (3975, 0.0), (3976, 0.0), (3981, 0.0), (3986, 0.0), (3987, 0.0), (3988, 0.0), (3989, 0.0), (3990, 0.0), (3991, 0.0), (3995, 0.0), (3996, 0.0), (3999, 0.0), (4002, 0.0), (4003, 0.0), (4006, 0.0), (4008, 0.0), (4010, 0.0), (4014, 0.0), (4016, 0.0), (4017, 0.0), (4019, 0.0), (4020, 0.0), (4021, 0.0), (4022, 0.0), (4024, 0.0), (4030, 0.0), (4031, 0.0), (4034, 0.0), (4047, 0.0), (4050, 0.0), (4053, 0.0), (4058, 0.0), (4063, 0.0), (4065, 0.0), (4067, 0.0), (4069, 0.0), (4072, 0.0), (4075, 0.0), (4078, 0.0), (4079, 0.0), (4080, 0.0), (4082, 0.0), (4083, 0.0), (4085, 0.0), (4087, 0.0), (4092, 0.0), (4107, 0.0), (4111, 0.0), (4115, 0.0), (4120, 0.0), (4123, 0.0), (4125, 0.0), (4126, 0.0), (4127, 0.0), (4129, 0.0), (4130, 0.0), (4133, 0.0), (4134, 0.0), (4138, 0.0), (4139, 0.0), (4144, 0.0), (4146, 0.0), (4149, 0.0), (4150, 0.0), (4151, 0.0), (4154, 0.0), (4160, 0.0), (4161, 0.0), (4162, 0.0), (4163, 0.0), (4167, 0.0), (4170, 0.0), (4172, 0.0), (4175, 0.0), (4177, 0.0), (4178, 0.0), (4179, 0.0), (4180, 0.0), (4182, 0.0), (4183, 0.0), (4184, 0.0), (4196, 0.0), (4204, 0.0), (4208, 0.0), (4209, 0.0), (4212, 0.0), (4214, 0.0), (4215, 0.0), (4219, 0.0), (4220, 0.0), (4228, 0.0), (4229, 0.0), (4230, 0.0), (4239, 0.0), (4241, 0.0), (4243, 0.0), (4250, 0.0), (4251, 0.0), (4253, 0.0), (4260, 0.0), (4266, 0.0), (4270, 0.0), (4273, 0.0), (4278, 0.0), (4291, 0.0), (4296, 0.0), (4298, 0.0), (4301, 0.0), (4302, 0.0), (4303, 0.0), (4305, 0.0), (4306, 0.0), (4307, 0.0), (4309, 0.0), (4311, 0.0), (4313, 0.0), (4314, 0.0), (4316, 0.0), (4317, 0.0), (4318, 0.0), (4320, 0.0), (4322, 0.0), (4326, 0.0), (4331, 0.0), (4336, 0.0), (4337, 0.0), (4338, 0.0), (4342, 0.0), (4343, 0.0), (4345, 0.0), (4349, 0.0), (4354, 0.0), (4355, 0.0), (4358, 0.0), (4359, 0.0), (4360, 0.0), (4362, 0.0), (4364, 0.0), (4367, 0.0), (4368, 0.0), (4370, 0.0), (4371, 0.0), (4372, 0.0), (4375, 0.0), (4378, 0.0), (4381, 0.0), (4382, 0.0), (4385, 0.0), (4386, 0.0), (4389, 0.0), (4391, 0.0), (4393, 0.0), (4394, 0.0), (4396, 0.0), (4397, 0.0), (4398, 0.0), (4400, 0.0), (4401, 0.0), (4405, 0.0), (4409, 0.0), (4410, 0.0), (4411, 0.0), (4412, 0.0), (4413, 0.0), (4415, 0.0), (4416, 0.0), (4417, 0.0), (4418, 0.0), (4423, 0.0), (4424, 0.0), (4425, 0.0), (4428, 0.0), (4441, 0.0), (4449, 0.0), (4451, 0.0), (4452, 0.0), (4455, 0.0), (4458, 0.0), (4461, 0.0), (4466, 0.0), (4470, 0.0), (4471, 0.0), (4476, 0.0), (4478, 0.0), (4479, 0.0), (4480, 0.0), (4482, 0.0), (4484, 0.0), (4485, 0.0), (4487, 0.0), (4491, 0.0), (4492, 0.0), (4495, 0.0), (4496, 0.0), (4498, 0.0), (4499, 0.0), (4500, 0.0), (4501, 0.0), (4505, 0.0), (4506, 0.0), (4513, 0.0), (4516, 0.0), (4517, 0.0), (4518, 0.0), (4520, 0.0), (4521, 0.0), (4526, 0.0), (4527, 0.0), (4528, 0.0), (4529, 0.0), (4530, 0.0), (4532, 0.0), (4533, 0.0), (4535, 0.0), (4537, 0.0), (4538, 0.0), (4540, 0.0), (4544, 0.0), (4546, 0.0), (4547, 0.0), (4559, 0.0), (4561, 0.0), (4563, 0.0), (4565, 0.0), (4566, 0.0), (4567, 0.0), (4571, 0.0), (4573, 0.0), (4575, 0.0), (4577, 0.0), (4578, 0.0), (4579, 0.0), (4582, 0.0), (4583, 0.0), (4585, 0.0), (4588, 0.0), (4594, 0.0), (4595, 0.0), (4597, 0.0), (4601, 0.0), (4602, 0.0), (4604, 0.0), (4605, 0.0), (4607, 0.0), (4611, 0.0), (4616, 0.0), (4617, 0.0), (4618, 0.0), (4620, 0.0), (4622, 0.0), (4625, 0.0), (4632, 0.0), (4635, 0.0), (4640, 0.0), (4641, 0.0), (4643, 0.0), (4644, 0.0), (4645, 0.0), (4648, 0.0), (4650, 0.0), (4651, 0.0), (4657, 0.0), (4662, 0.0), (4665, 0.0), (4666, 0.0), (4667, 0.0), (4670, 0.0), (4671, 0.0), (4672, 0.0), (4680, 0.0), (4681, 0.0), (4683, 0.0), (4685, 0.0), (4688, 0.0), (4691, 0.0), (4692, 0.0), (4693, 0.0), (4694, 0.0), (4696, 0.0), (4697, 0.0), (4703, 0.0), (4704, 0.0), (4706, 0.0), (4707, 0.0), (4711, 0.0), (4712, 0.0), (4713, 0.0), (4714, 0.0), (4715, 0.0), (4716, 0.0), (4718, 0.0), (4722, 0.0), (4728, 0.0), (4729, 0.0), (4730, 0.0), (4731, 0.0), (4734, 0.0), (4736, 0.0), (4740, 0.0), (4741, 0.0), (4745, 0.0), (4749, 0.0), (4750, 0.0), (4751, 0.0), (4753, 0.0), (4755, 0.0), (4758, 0.0), (4759, 0.0)]\n"
          ]
        }
      ]
    },
    {
      "cell_type": "code",
      "source": [
        "# print the name of similar movies based on the index\n",
        "\n",
        "print('Top 30 Movies Suggested for You :\\ n ')\n",
        "\n",
        "i=1\n",
        "\n",
        "for movie in Sorted_Similar_Movies:\n",
        "   index = movie[0]\n",
        "   title_from_index = df [df.index==index]['Movie_Title'].values[0]\n",
        "   if (i<31):\n",
        "    print(i, '.',title_from_index)\n",
        "    i+=1"
      ],
      "metadata": {
        "colab": {
          "base_uri": "https://localhost:8080/"
        },
        "id": "y9R0p_BPGwHO",
        "outputId": "3878e302-511b-4628-b331-8b4f501f3bfe"
      },
      "execution_count": 48,
      "outputs": [
        {
          "output_type": "stream",
          "name": "stdout",
          "text": [
            "Top 30 Movies Suggested for You :\\ n \n",
            "1 . Kiss Kiss Bang Bang\n",
            "2 . Wonderland\n",
            "3 . Sherlock Holmes\n",
            "4 . Sherlock Holmes: A Game of Shadows\n",
            "5 . Rust\n",
            "6 . Due Date\n",
            "7 . Delgo\n",
            "8 . The Singing Detective\n",
            "9 . Zodiac\n",
            "10 . Iron Man 3\n",
            "11 . The Prince of Egypt\n",
            "12 . Major League\n",
            "13 . Tales from the Hood\n",
            "14 . The Gift\n",
            "15 . MacGruber\n",
            "16 . The Judge\n",
            "17 . The Bad Lieutenant: Port of Call - New Orleans\n",
            "18 . Salton Sea\n",
            "19 . Batman Forever\n",
            "20 . Changing Lanes\n",
            "21 . Fur: An Imaginary Portrait of Diane Arbus\n",
            "22 . Lucky You\n",
            "23 . The Ghost and the Darkness\n",
            "24 . Eagle Eye\n",
            "25 . Top Gun\n",
            "26 . Machine Gun Preacher\n",
            "27 . In Dreams\n",
            "28 . Pixels\n",
            "29 . Gosford Park\n",
            "30 . The Next Best Thing\n"
          ]
        }
      ]
    },
    {
      "cell_type": "markdown",
      "source": [
        "## **Top 10 Movies Recommended Based on Your Favorite Movie**"
      ],
      "metadata": {
        "id": "vgCUHstFG8uR"
      }
    },
    {
      "cell_type": "code",
      "source": [
        "import difflib\n",
        "\n",
        "Movie_Name = input('Enter your favorite movie name: ')\n",
        "\n",
        "list_of_all_titles = df['Movie_Title'].tolist()\n",
        "\n",
        "# Find close matches to the input movie name\n",
        "close_matches = difflib.get_close_matches(Movie_Name, list_of_all_titles)\n",
        "\n",
        "if close_matches:\n",
        "    closest_match = close_matches[0]  # Get the closest match\n",
        "    Index_of_Movie = df[df.Movie_Title == closest_match]['Movie_ID'].values[0]\n",
        "\n",
        "    Recommendation_Score = list(enumerate(Similarity_Score[Index_of_Movie]))\n",
        "\n",
        "    sorted_similar_movies = sorted(Recommendation_Score, key=lambda x: x[1], reverse=True)\n",
        "\n",
        "    print('Top 10 Movies suggested for you: \\n')\n",
        "\n",
        "    i = 1\n",
        "\n",
        "    for movie in sorted_similar_movies:\n",
        "        index = movie[0]\n",
        "        if index < len(df):\n",
        "            title_from_index = df[df.Movie_ID == index]['Movie_Title'].values[0]\n",
        "            print(i, '.', title_from_index)\n",
        "            i += 1\n",
        "        else:\n",
        "            print(\"Invalid index:\", index)\n",
        "\n",
        "        if i > 10:\n",
        "            break\n",
        "else:\n",
        "    print('No close matches found for the entered movie name.')"
      ],
      "metadata": {
        "colab": {
          "base_uri": "https://localhost:8080/"
        },
        "id": "1hNfRHEsG_ZW",
        "outputId": "cd0354c5-e268-4a0f-fe99-f5ae64c78340"
      },
      "execution_count": 50,
      "outputs": [
        {
          "output_type": "stream",
          "name": "stdout",
          "text": [
            "Enter your favorite movie name: Firewall\n",
            "Top 10 Movies suggested for you: \n",
            "\n",
            "1 . Firewall\n",
            "2 . Idiocracy\n",
            "3 . Mr. Bean's Holiday\n",
            "4 . Hackers\n",
            "5 . Salt\n",
            "6 . Jack and Jill\n",
            "7 . River's Edge\n",
            "8 . Abraham Lincoln: Vampire Hunter\n",
            "9 . Get Him to the Greek\n",
            "10 . Money Monster\n"
          ]
        }
      ]
    },
    {
      "cell_type": "markdown",
      "source": [
        "# **Conclusion**\n",
        "\n",
        "Movie Match is an advanced Movie Recommendation System that provides highly accurate and personalized movie suggestions. By using fuzzy matching techniques, it can handle small mistakes or incomplete titles in user input, ensuring it still finds the right movies for you. This innovative method guarantees recommendations that fit your unique taste in movies.\n",
        "\n",
        "In summary, Movie Match delivers a smooth and enjoyable movie-watching experience. I'm here to help you find movies that you'll love. Thank you for choosing Movie Match! If you have any questions or need help, don't hesitate to contact me. Enjoy watching your movies!\n",
        "\n",
        "Thank you for exploring our Movie Recommendation System! I hope you enjoy the personalized movie suggestions. If you have any questions or feedback, feel free to reach out. Happy movie watching!"
      ],
      "metadata": {
        "id": "tAxsxtchNem0"
      }
    }
  ]
}